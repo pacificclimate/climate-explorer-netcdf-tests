{
 "cells": [
  {
   "cell_type": "markdown",
   "metadata": {},
   "source": [
    "# Does having an unlimited dimension affect NetCDF throughput?\n",
    "\n",
    "tl;dr No. See below for details."
   ]
  },
  {
   "cell_type": "code",
   "execution_count": 10,
   "metadata": {
    "collapsed": false
   },
   "outputs": [],
   "source": [
    "import sys\n",
    "import os\n",
    "from tempfile import NamedTemporaryFile\n",
    "from gc import collect\n",
    "\n",
    "sys.path.append('../util')\n",
    "from meters import ThroughputMeter\n",
    "import ncgen\n",
    "\n",
    "import netCDF4\n",
    "import numpy as np\n",
    "import pylab as pl\n",
    "\n",
    "os.environ['TMPDIR'] = os.getenv('HOME') + '/tmp/'"
   ]
  },
  {
   "cell_type": "code",
   "execution_count": 3,
   "metadata": {
    "collapsed": false
   },
   "outputs": [
    {
     "name": "stdout",
     "output_type": "stream",
     "text": [
      "Creating a NetCDF file with 1 unlimited variables\n",
      "0\n",
      "353.100 MB in 0.556 seconds at 635.390 MB / sec\n",
      "635.390136615\n",
      "Removing /home/james/tmp/tmp2uhtnl.nc\n",
      "353.100 MB in 0.556 seconds at 635.390 MB / sec\n",
      "Creating a NetCDF file with 2 unlimited variables\n",
      "0\n",
      "353.100 MB in 0.571 seconds at 618.126 MB / sec\n",
      "618.125623705\n",
      "Removing /home/james/tmp/tmpdtht2u.nc\n",
      "353.100 MB in 0.571 seconds at 618.126 MB / sec\n",
      "Creating a NetCDF file with 3 unlimited variables\n",
      "0\n",
      "353.100 MB in 0.585 seconds at 603.195 MB / sec\n",
      "603.195314568\n",
      "Removing /home/james/tmp/tmpv40by_.nc\n",
      "353.100 MB in 0.585 seconds at 603.195 MB / sec\n",
      "Creating a NetCDF file with 4 unlimited variables\n",
      "0\n",
      "353.100 MB in 0.582 seconds at 606.208 MB / sec\n",
      "606.208493753\n",
      "Removing /home/james/tmp/tmp_h16wh.nc\n",
      "353.100 MB in 0.582 seconds at 606.208 MB / sec\n",
      "Creating a NetCDF file with 5 unlimited variables\n",
      "0\n",
      "353.100 MB in 3.17 seconds at 111.374 MB / sec\n",
      "111.374210298\n",
      "Removing /home/james/tmp/tmp94z87o.nc\n",
      "353.100 MB in 3.17 seconds at 111.374 MB / sec\n",
      "Creating a NetCDF file with 6 unlimited variables\n",
      "0\n",
      "353.100 MB in 3.71 seconds at 95.139 MB / sec\n",
      "95.1392720244\n",
      "Removing /home/james/tmp/tmpsmiam8.nc\n",
      "353.100 MB in 3.71 seconds at 95.139 MB / sec\n",
      "Creating a NetCDF file with 7 unlimited variables\n",
      "0\n",
      "353.100 MB in 3.75 seconds at 94.041 MB / sec\n",
      "94.0411278352\n",
      "Removing /home/james/tmp/tmptdwgqw.nc\n",
      "353.100 MB in 3.75 seconds at 94.041 MB / sec\n",
      "Creating a NetCDF file with 8 unlimited variables\n",
      "0\n",
      "353.100 MB in 3.82 seconds at 92.340 MB / sec\n",
      "92.3400511166\n",
      "Removing /home/james/tmp/tmp3pepfj.nc\n",
      "353.100 MB in 3.82 seconds at 92.340 MB / sec\n",
      "Creating a NetCDF file with 9 unlimited variables\n",
      "0\n",
      "353.100 MB in 3.67 seconds at 96.179 MB / sec\n",
      "96.179426667\n",
      "Removing /home/james/tmp/tmpjjgjb7.nc\n",
      "353.100 MB in 3.67 seconds at 96.179 MB / sec\n",
      "Creating a NetCDF file with 10 unlimited variables\n",
      "0\n",
      "353.100 MB in 3.76 seconds at 94.011 MB / sec\n",
      "94.010623719\n",
      "Removing /home/james/tmp/tmpm4akw0.nc\n",
      "353.100 MB in 3.76 seconds at 94.011 MB / sec\n",
      "Creating a NetCDF file with 11 unlimited variables\n",
      "0\n",
      "353.100 MB in 3.68 seconds at 95.850 MB / sec\n",
      "95.8495636601\n",
      "Removing /home/james/tmp/tmprsiun2.nc\n",
      "353.100 MB in 3.68 seconds at 95.850 MB / sec\n",
      "Creating a NetCDF file with 12 unlimited variables\n",
      "0\n",
      "353.100 MB in 3.83 seconds at 92.296 MB / sec\n",
      "92.2964539891\n",
      "Removing /home/james/tmp/tmporueli.nc\n",
      "353.100 MB in 3.83 seconds at 92.296 MB / sec\n",
      "Creating a NetCDF file with 13 unlimited variables\n",
      "0\n",
      "353.100 MB in 3.54 seconds at 99.635 MB / sec\n",
      "99.6345133585\n",
      "Removing /home/james/tmp/tmp532eyr.nc\n",
      "353.100 MB in 3.54 seconds at 99.635 MB / sec\n",
      "Creating a NetCDF file with 14 unlimited variables\n",
      "0\n",
      "353.100 MB in 3.65 seconds at 96.801 MB / sec\n",
      "96.8008719225\n",
      "Removing /home/james/tmp/tmptlkzu7.nc\n",
      "353.100 MB in 3.65 seconds at 96.801 MB / sec\n",
      "Creating a NetCDF file with 15 unlimited variables\n",
      "0\n",
      "353.100 MB in 3.27 seconds at 108.053 MB / sec\n",
      "108.052636329\n",
      "Removing /home/james/tmp/tmppt5c5f.nc\n",
      "353.100 MB in 3.27 seconds at 108.053 MB / sec\n",
      "Creating a NetCDF file with 16 unlimited variables\n",
      "0\n",
      "353.100 MB in 3.59 seconds at 98.465 MB / sec\n",
      "98.464994871\n",
      "Removing /home/james/tmp/tmpowy7ox.nc\n",
      "353.100 MB in 3.59 seconds at 98.465 MB / sec\n",
      "Creating a NetCDF file with 17 unlimited variables\n",
      "0\n",
      "353.100 MB in 3.39 seconds at 104.227 MB / sec\n",
      "104.226982015\n",
      "Removing /home/james/tmp/tmp4fp_w0.nc\n",
      "353.100 MB in 3.39 seconds at 104.227 MB / sec\n",
      "Creating a NetCDF file with 18 unlimited variables\n",
      "0\n",
      "353.100 MB in 3.85 seconds at 91.828 MB / sec\n",
      "91.8280600355\n",
      "Removing /home/james/tmp/tmp75258g.nc\n",
      "353.100 MB in 3.85 seconds at 91.828 MB / sec\n",
      "Creating a NetCDF file with 19 unlimited variables\n",
      "0\n",
      "353.100 MB in 3.15 seconds at 111.951 MB / sec\n",
      "111.950608333\n",
      "Removing /home/james/tmp/tmphbuq9c.nc\n",
      "353.100 MB in 3.15 seconds at 111.951 MB / sec\n",
      "Creating a NetCDF file with 1 limited variables\n",
      "0\n",
      "353.100 MB in 0.546 seconds at 646.955 MB / sec\n",
      "646.955245422\n",
      "Removing /home/james/tmp/tmp_0s3pq.nc\n",
      "353.100 MB in 0.546 seconds at 646.955 MB / sec\n",
      "Creating a NetCDF file with 2 limited variables\n",
      "0\n",
      "353.100 MB in 0.546 seconds at 646.131 MB / sec\n",
      "646.130786517\n",
      "Removing /home/james/tmp/tmp1cscas.nc\n",
      "353.100 MB in 0.546 seconds at 646.131 MB / sec\n",
      "Creating a NetCDF file with 3 limited variables\n",
      "0\n",
      "353.100 MB in 0.541 seconds at 653.107 MB / sec\n",
      "653.107453061\n",
      "Removing /home/james/tmp/tmp09gi6l.nc\n",
      "353.100 MB in 0.541 seconds at 653.107 MB / sec\n",
      "Creating a NetCDF file with 4 limited variables\n",
      "0\n",
      "353.100 MB in 0.539 seconds at 654.790 MB / sec\n",
      "654.789738819\n",
      "Removing /home/james/tmp/tmp2gnee2.nc\n",
      "353.100 MB in 0.539 seconds at 654.790 MB / sec\n",
      "Creating a NetCDF file with 5 limited variables\n",
      "0\n",
      "353.100 MB in 0.543 seconds at 650.866 MB / sec\n",
      "650.866078268\n",
      "Removing /home/james/tmp/tmpa1dka4.nc\n",
      "353.100 MB in 0.543 seconds at 650.866 MB / sec\n",
      "Creating a NetCDF file with 6 limited variables\n",
      "0\n",
      "353.100 MB in 3.35 seconds at 105.408 MB / sec\n",
      "105.407908429\n",
      "Removing /home/james/tmp/tmp6fagvi.nc\n",
      "353.100 MB in 3.35 seconds at 105.408 MB / sec\n",
      "Creating a NetCDF file with 7 limited variables\n",
      "0\n",
      "353.100 MB in 3.77 seconds at 93.765 MB / sec\n",
      "93.7646299161\n",
      "Removing /home/james/tmp/tmph7x5m3.nc\n",
      "353.100 MB in 3.77 seconds at 93.765 MB / sec\n",
      "Creating a NetCDF file with 8 limited variables\n",
      "0\n",
      "353.100 MB in 3.82 seconds at 92.492 MB / sec\n",
      "92.4917991221\n",
      "Removing /home/james/tmp/tmp4hb3t9.nc\n",
      "353.100 MB in 3.82 seconds at 92.492 MB / sec\n",
      "Creating a NetCDF file with 9 limited variables\n",
      "0\n",
      "353.100 MB in 3.48 seconds at 101.465 MB / sec\n",
      "101.465171722\n",
      "Removing /home/james/tmp/tmpv6pldp.nc\n",
      "353.100 MB in 3.48 seconds at 101.465 MB / sec\n",
      "Creating a NetCDF file with 10 limited variables\n",
      "0\n",
      "353.100 MB in 3.85 seconds at 91.647 MB / sec\n",
      "91.6465971311\n",
      "Removing /home/james/tmp/tmppxa4pn.nc\n",
      "353.100 MB in 3.85 seconds at 91.647 MB / sec\n",
      "Creating a NetCDF file with 11 limited variables\n",
      "0\n",
      "353.100 MB in 3.88 seconds at 90.991 MB / sec\n",
      "90.9905243148\n",
      "Removing /home/james/tmp/tmpl1ljll.nc\n",
      "353.100 MB in 3.88 seconds at 90.991 MB / sec\n",
      "Creating a NetCDF file with 12 limited variables\n",
      "0\n",
      "353.100 MB in 3.47 seconds at 101.856 MB / sec\n",
      "101.855869365\n",
      "Removing /home/james/tmp/tmpvb7dpz.nc\n",
      "353.100 MB in 3.47 seconds at 101.856 MB / sec\n",
      "Creating a NetCDF file with 13 limited variables\n",
      "0\n",
      "353.100 MB in 3.57 seconds at 98.966 MB / sec\n",
      "98.9658395142\n",
      "Removing /home/james/tmp/tmpvnzhw0.nc\n",
      "353.100 MB in 3.57 seconds at 98.966 MB / sec\n",
      "Creating a NetCDF file with 14 limited variables\n",
      "0\n",
      "353.100 MB in 3.73 seconds at 94.548 MB / sec\n",
      "94.5477416481\n",
      "Removing /home/james/tmp/tmpvvu9kd.nc\n",
      "353.100 MB in 3.73 seconds at 94.548 MB / sec\n",
      "Creating a NetCDF file with 15 limited variables\n",
      "0\n",
      "353.100 MB in 3.72 seconds at 94.888 MB / sec\n",
      "94.8880006807\n",
      "Removing /home/james/tmp/tmppovrst.nc\n",
      "353.100 MB in 3.72 seconds at 94.888 MB / sec\n",
      "Creating a NetCDF file with 16 limited variables\n",
      "0\n",
      "353.100 MB in 3.7 seconds at 95.490 MB / sec\n",
      "95.4899969728\n",
      "Removing /home/james/tmp/tmpt_qqc1.nc\n",
      "353.100 MB in 3.7 seconds at 95.490 MB / sec\n",
      "Creating a NetCDF file with 17 limited variables\n",
      "0\n",
      "353.100 MB in 3.52 seconds at 100.271 MB / sec\n",
      "100.270625078\n",
      "Removing /home/james/tmp/tmpwcs_1c.nc\n",
      "353.100 MB in 3.52 seconds at 100.271 MB / sec\n",
      "Creating a NetCDF file with 18 limited variables\n",
      "0\n",
      "353.100 MB in 3.57 seconds at 98.908 MB / sec\n",
      "98.9077235596\n",
      "Removing /home/james/tmp/tmp75zzdx.nc\n",
      "353.100 MB in 3.57 seconds at 98.908 MB / sec\n",
      "Creating a NetCDF file with 19 limited variables\n",
      "0\n",
      "353.100 MB in 3.47 seconds at 101.639 MB / sec\n",
      "101.63949385\n",
      "Removing /home/james/tmp/tmp54a1gh.nc\n",
      "353.100 MB in 3.47 seconds at 101.639 MB / sec\n"
     ]
    }
   ],
   "source": [
    "results = []\n",
    "for unlim in [True, False]:\n",
    "    for num_vars in range(1, 20):\n",
    "        print(\"Creating a NetCDF file with {} {}limited variables\".format(num_vars, 'un' if unlim else ''))\n",
    "        with NamedTemporaryFile(suffix='.nc', delete=False) as f:\n",
    "            nc = ncgen.make_multivariable_nc(f.name, num_vars=num_vars, unlim=True)\n",
    "            nc.close()\n",
    "        nc = netCDF4.Dataset(f.name, 'r')\n",
    "        with ThroughputMeter() as t:\n",
    "            a = nc.variables['var_0'][:, :, :]\n",
    "        print(t.megabytes_per_second(a))\n",
    "        \n",
    "        # python-netCDF4 seems to leak file descriptors\n",
    "        # We have to take a lot of steps to make sure that the files get closed and that\n",
    "        # the space gets reclaimed by the OS\n",
    "        nc.close\n",
    "        del nc\n",
    "        print(\"Removing {}\".format(f.name))\n",
    "        os.remove(f.name)\n",
    "        f.close()\n",
    "        collect()\n",
    "        results.append((unlim, num_vars, t.megabytes_per_second(a)))\n"
   ]
  },
  {
   "cell_type": "code",
   "execution_count": 4,
   "metadata": {
    "collapsed": false
   },
   "outputs": [
    {
     "data": {
      "text/plain": [
       "[(True, 1, 635.39013661463582),\n",
       " (True, 2, 618.12562370485375),\n",
       " (True, 3, 603.19531456825518),\n",
       " (True, 4, 606.20849375334114),\n",
       " (True, 5, 111.3742102979798),\n",
       " (True, 6, 95.13927202437506),\n",
       " (True, 7, 94.041127835165582),\n",
       " (True, 8, 92.340051116604513),\n",
       " (True, 9, 96.179426666961064),\n",
       " (True, 10, 94.010623718984661),\n",
       " (True, 11, 95.849563660135573),\n",
       " (True, 12, 92.296453989106453),\n",
       " (True, 13, 99.634513358459586),\n",
       " (True, 14, 96.800871922494323),\n",
       " (True, 15, 108.05263632895436),\n",
       " (True, 16, 98.464994871003185),\n",
       " (True, 17, 104.22698201470669),\n",
       " (True, 18, 91.828060035535614),\n",
       " (True, 19, 111.95060833250058),\n",
       " (False, 1, 646.95524542241026),\n",
       " (False, 2, 646.13078651744217),\n",
       " (False, 3, 653.10745306116689),\n",
       " (False, 4, 654.78973881933291),\n",
       " (False, 5, 650.86607826790498),\n",
       " (False, 6, 105.40790842923852),\n",
       " (False, 7, 93.76462991613711),\n",
       " (False, 8, 92.491799122050466),\n",
       " (False, 9, 101.46517172192735),\n",
       " (False, 10, 91.646597131110667),\n",
       " (False, 11, 90.990524314777488),\n",
       " (False, 12, 101.85586936544178),\n",
       " (False, 13, 98.965839514156983),\n",
       " (False, 14, 94.547741648079608),\n",
       " (False, 15, 94.888000680678672),\n",
       " (False, 16, 95.48999697283385),\n",
       " (False, 17, 100.2706250776061),\n",
       " (False, 18, 98.907723559562427),\n",
       " (False, 19, 101.63949385018921)]"
      ]
     },
     "execution_count": 4,
     "metadata": {},
     "output_type": "execute_result"
    }
   ],
   "source": [
    "results"
   ]
  },
  {
   "cell_type": "code",
   "execution_count": 13,
   "metadata": {
    "collapsed": true
   },
   "outputs": [],
   "source": [
    "a = np.array([result[2] for result in results])"
   ]
  },
  {
   "cell_type": "code",
   "execution_count": 14,
   "metadata": {
    "collapsed": false
   },
   "outputs": [],
   "source": [
    "a = a.reshape((2, 19))"
   ]
  },
  {
   "cell_type": "code",
   "execution_count": 17,
   "metadata": {
    "collapsed": true
   },
   "outputs": [],
   "source": [
    "%matplotlib inline"
   ]
  },
  {
   "cell_type": "code",
   "execution_count": 19,
   "metadata": {
    "collapsed": false
   },
   "outputs": [
    {
     "data": {
      "text/plain": [
       "[<matplotlib.lines.Line2D at 0x7f4ccf557690>]"
      ]
     },
     "execution_count": 19,
     "metadata": {},
     "output_type": "execute_result"
    },
    {
     "data": {
      "image/png": "[encoded data removed]",
      "text/plain": [
       "<matplotlib.figure.Figure at 0x7f4ccf7d9410>"
      ]
     },
     "metadata": {},
     "output_type": "display_data"
    }
   ],
   "source": [
    "pl.plot(a[0,:])"
   ]
  },
  {
   "cell_type": "code",
   "execution_count": 20,
   "metadata": {
    "collapsed": false
   },
   "outputs": [
    {
     "data": {
      "text/plain": [
       "[<matplotlib.lines.Line2D at 0x7f4ccf54d090>]"
      ]
     },
     "execution_count": 20,
     "metadata": {},
     "output_type": "execute_result"
    },
    {
     "data": {
      "image/png": "[encoded data removed]",
      "text/plain": [
       "<matplotlib.figure.Figure at 0x7f4ce008cf10>"
      ]
     },
     "metadata": {},
     "output_type": "display_data"
    }
   ],
   "source": [
    "pl.plot(a[1,:])"
   ]
  },
  {
   "cell_type": "markdown",
   "metadata": {},
   "source": [
    "There seems to be some threshold at 4 to 5 variables. Maybe that's the size at which it cannot be cached in memory?"
   ]
  },
  {
   "cell_type": "code",
   "execution_count": 26,
   "metadata": {
    "collapsed": false
   },
   "outputs": [
    {
     "data": {
      "text/plain": [
       "array([ 1412.4,  1765.5,  2118.6])"
      ]
     },
     "execution_count": 26,
     "metadata": {},
     "output_type": "execute_result"
    }
   ],
   "source": [
    "353.100 * np.arange(4, 7)"
   ]
  },
  {
   "cell_type": "code",
   "execution_count": 28,
   "metadata": {
    "collapsed": false
   },
   "outputs": [
    {
     "name": "stdout",
     "output_type": "stream",
     "text": [
      "             total       used       free     shared    buffers     cached\r\n",
      "Mem:          7945       5795       2150       2295        165       3206\r\n",
      "-/+ buffers/cache:       2423       5521\r\n",
      "Swap:        47685        640      47044\r\n"
     ]
    }
   ],
   "source": [
    "!free -m"
   ]
  },
  {
   "cell_type": "markdown",
   "metadata": {},
   "source": [
    "I presently have 2150 MB free on the system, so it's pretty plausible that 6 variables at 2100 MB pushes me out of cache on to disk. That explains the jump. But, the morale of the story here is that there is *no* distinguishable difference between the throughput of unlimited and limited variables."
   ]
  },
  {
   "cell_type": "code",
   "execution_count": 29,
   "metadata": {
    "collapsed": false
   },
   "outputs": [
    {
     "name": "stdout",
     "output_type": "stream",
     "text": [
      "basalt\r\n"
     ]
    }
   ],
   "source": [
    "!hostname"
   ]
  },
  {
   "cell_type": "code",
   "execution_count": null,
   "metadata": {
    "collapsed": true
   },
   "outputs": [],
   "source": []
  }
 ],
 "metadata": {
  "kernelspec": {
   "display_name": "Python 3",
   "language": "python",
   "name": "python3"
  },
  "language_info": {
   "codemirror_mode": {
    "name": "ipython",
    "version": 3
   },
   "file_extension": ".py",
   "mimetype": "text/x-python",
   "name": "python",
   "nbconvert_exporter": "python",
   "pygments_lexer": "ipython3",
   "version": "3.3.5"
  }
 },
 "nbformat": 4,
 "nbformat_minor": 0
}
