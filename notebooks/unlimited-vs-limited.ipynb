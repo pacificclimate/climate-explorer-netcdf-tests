{
 "cells": [
  {
   "cell_type": "markdown",
   "metadata": {},
   "source": [
    "# Does having an unlimited dimension affect NetCDF throughput?\n",
    "\n",
    "tl;dr Not much. See below for details."
   ]
  },
  {
   "cell_type": "code",
   "execution_count": 1,
   "metadata": {
    "collapsed": false
   },
   "outputs": [],
   "source": [
    "import sys\n",
    "import os\n",
    "from tempfile import NamedTemporaryFile\n",
    "from gc import collect\n",
    "\n",
    "sys.path.append('../util')\n",
    "from meters import ThroughputMeter\n",
    "import ncgen\n",
    "\n",
    "import netCDF4\n",
    "import numpy as np\n",
    "import pylab as pl\n",
    "\n",
    "os.environ['TMPDIR'] = os.getenv('HOME') + '/tmp/'"
   ]
  },
  {
   "cell_type": "code",
   "execution_count": 2,
   "metadata": {
    "collapsed": false
   },
   "outputs": [
    {
     "name": "stdout",
     "output_type": "stream",
     "text": [
      "Creating a NetCDF file with 1 unlimited variables\n",
      "Removing /home/james/tmp/tmpcn634v.nc\n",
      "353.100 MB in 0.554 seconds at 637.627 MB / sec\n",
      "Creating a NetCDF file with 3 unlimited variables\n",
      "Removing /home/james/tmp/tmp20uegw.nc\n",
      "353.100 MB in 0.528 seconds at 668.801 MB / sec\n",
      "Creating a NetCDF file with 5 unlimited variables\n",
      "Removing /home/james/tmp/tmp3dxm8d.nc\n",
      "353.100 MB in 0.526 seconds at 671.225 MB / sec\n",
      "Creating a NetCDF file with 7 unlimited variables\n",
      "Removing /home/james/tmp/tmptcw6lh.nc\n",
      "353.100 MB in 0.537 seconds at 657.472 MB / sec\n",
      "Creating a NetCDF file with 9 unlimited variables\n",
      "Removing /home/james/tmp/tmpwrcdz_.nc\n",
      "353.100 MB in 0.53 seconds at 666.329 MB / sec\n",
      "Creating a NetCDF file with 11 unlimited variables\n",
      "Removing /home/james/tmp/tmptoknkx.nc\n",
      "353.100 MB in 3.76 seconds at 93.943 MB / sec\n",
      "Creating a NetCDF file with 13 unlimited variables\n",
      "Removing /home/james/tmp/tmplfe7j1.nc\n",
      "353.100 MB in 3.71 seconds at 95.182 MB / sec\n",
      "Creating a NetCDF file with 15 unlimited variables\n",
      "Removing /home/james/tmp/tmpu421f9.nc\n",
      "353.100 MB in 3.78 seconds at 93.306 MB / sec\n",
      "Creating a NetCDF file with 17 unlimited variables\n",
      "Removing /home/james/tmp/tmpv95sb9.nc\n",
      "353.100 MB in 3.72 seconds at 94.957 MB / sec\n",
      "Creating a NetCDF file with 19 unlimited variables\n",
      "Removing /home/james/tmp/tmpqt84kz.nc\n",
      "353.100 MB in 3.62 seconds at 97.658 MB / sec\n",
      "Creating a NetCDF file with 1 limited variables\n",
      "Removing /home/james/tmp/tmprmjwxb.nc\n",
      "353.100 MB in 0.479 seconds at 736.860 MB / sec\n",
      "Creating a NetCDF file with 3 limited variables\n",
      "Removing /home/james/tmp/tmp1a_zcu.nc\n",
      "353.100 MB in 0.472 seconds at 748.605 MB / sec\n",
      "Creating a NetCDF file with 5 limited variables\n",
      "Removing /home/james/tmp/tmpk3yr53.nc\n",
      "353.100 MB in 0.472 seconds at 747.888 MB / sec\n",
      "Creating a NetCDF file with 7 limited variables\n",
      "Removing /home/james/tmp/tmpcyhkco.nc\n",
      "353.100 MB in 0.469 seconds at 753.574 MB / sec\n",
      "Creating a NetCDF file with 9 limited variables\n",
      "Removing /home/james/tmp/tmpuinbp5.nc\n",
      "353.100 MB in 0.607 seconds at 582.079 MB / sec\n",
      "Creating a NetCDF file with 11 limited variables\n",
      "Removing /home/james/tmp/tmpmr3tt6.nc\n",
      "353.100 MB in 0.468 seconds at 754.388 MB / sec\n",
      "Creating a NetCDF file with 13 limited variables\n",
      "Removing /home/james/tmp/tmp4aeb46.nc\n",
      "353.100 MB in 3.67 seconds at 96.140 MB / sec\n",
      "Creating a NetCDF file with 15 limited variables\n",
      "Removing /home/james/tmp/tmp_tmzbo.nc\n",
      "353.100 MB in 3.62 seconds at 97.606 MB / sec\n",
      "Creating a NetCDF file with 17 limited variables\n",
      "Removing /home/james/tmp/tmpnuuc16.nc\n",
      "353.100 MB in 3.58 seconds at 98.696 MB / sec\n",
      "Creating a NetCDF file with 19 limited variables\n",
      "Removing /home/james/tmp/tmpgqllx7.nc\n",
      "353.100 MB in 5.92 seconds at 59.693 MB / sec\n"
     ]
    }
   ],
   "source": [
    "results = []\n",
    "for unlim in [True, False]:\n",
    "    for num_vars in range(1, 20, 2):\n",
    "        print(\"Creating a NetCDF file with {} {}limited variables\".format(num_vars, 'un' if unlim else ''))\n",
    "        with NamedTemporaryFile(suffix='.nc', delete=False) as f:\n",
    "            nc = ncgen.make_multivariable_nc(f.name, num_vars=num_vars, unlim=unlim)\n",
    "            nc.close()\n",
    "        nc = netCDF4.Dataset(f.name, 'r')\n",
    "        with ThroughputMeter() as t:\n",
    "            a = nc.variables['var_0'][:, :, :]\n",
    "        \n",
    "        # python-netCDF4 seems to leak file descriptors\n",
    "        # We have to take a lot of steps to make sure that the files get closed and that\n",
    "        # the space gets reclaimed by the OS\n",
    "        nc.close\n",
    "        del nc\n",
    "        print(\"Removing {}\".format(f.name))\n",
    "        os.remove(f.name)\n",
    "        f.close()\n",
    "        collect()\n",
    "        results.append((unlim, num_vars, t.megabytes_per_second(a)))\n"
   ]
  },
  {
   "cell_type": "code",
   "execution_count": 3,
   "metadata": {
    "collapsed": false
   },
   "outputs": [
    {
     "data": {
      "text/plain": [
       "[(True, 1, 637.62729771794284),\n",
       " (True, 3, 668.80147397512667),\n",
       " (True, 5, 671.22488187905776),\n",
       " (True, 7, 657.47217632419392),\n",
       " (True, 9, 666.32924149523353),\n",
       " (True, 11, 93.9431909761702),\n",
       " (True, 13, 95.181981452780875),\n",
       " (True, 15, 93.305978835965504),\n",
       " (True, 17, 94.957399860033107),\n",
       " (True, 19, 97.657836468314542),\n",
       " (False, 1, 736.86027437336088),\n",
       " (False, 3, 748.60546261919626),\n",
       " (False, 5, 747.88757401828252),\n",
       " (False, 7, 753.57442846166759),\n",
       " (False, 9, 582.0785012083669),\n",
       " (False, 11, 754.38819472389321),\n",
       " (False, 13, 96.139948949356565),\n",
       " (False, 15, 97.605504369488713),\n",
       " (False, 17, 98.696470675731589),\n",
       " (False, 19, 59.692869018897959)]"
      ]
     },
     "execution_count": 3,
     "metadata": {},
     "output_type": "execute_result"
    }
   ],
   "source": [
    "results"
   ]
  },
  {
   "cell_type": "code",
   "execution_count": 4,
   "metadata": {
    "collapsed": true
   },
   "outputs": [],
   "source": [
    "a = np.array([result[2] for result in results])"
   ]
  },
  {
   "cell_type": "code",
   "execution_count": 5,
   "metadata": {
    "collapsed": false
   },
   "outputs": [],
   "source": [
    "a = a.reshape((2, 10))"
   ]
  },
  {
   "cell_type": "code",
   "execution_count": 6,
   "metadata": {
    "collapsed": true
   },
   "outputs": [],
   "source": [
    "%matplotlib inline"
   ]
  },
  {
   "cell_type": "code",
   "execution_count": 12,
   "metadata": {
    "collapsed": false
   },
   "outputs": [
    {
     "data": {
      "text/plain": [
       "[<matplotlib.lines.Line2D at 0x7fe6247a7250>]"
      ]
     },
     "execution_count": 12,
     "metadata": {},
     "output_type": "execute_result"
    },
    {
     "data": {
      "image/png": "[encoded data removed]",
      "text/plain": [
       "<matplotlib.figure.Figure at 0x7fe624831ed0>"
      ]
     },
     "metadata": {},
     "output_type": "display_data"
    }
   ],
   "source": [
    "pl.plot(range(1, 20, 2), a[0,:])"
   ]
  },
  {
   "cell_type": "code",
   "execution_count": 13,
   "metadata": {
    "collapsed": false
   },
   "outputs": [
    {
     "data": {
      "text/plain": [
       "[<matplotlib.lines.Line2D at 0x7fe623ed5210>]"
      ]
     },
     "execution_count": 13,
     "metadata": {},
     "output_type": "execute_result"
    },
    {
     "data": {
      "image/png": "[encoded data removed]",
      "text/plain": [
       "<matplotlib.figure.Figure at 0x7fe6247bd350>"
      ]
     },
     "metadata": {},
     "output_type": "display_data"
    }
   ],
   "source": [
    "pl.plot(range(1, 20, 2), a[1,:])"
   ]
  },
  {
   "cell_type": "markdown",
   "metadata": {},
   "source": [
    "There seems to be some threshold at 9+ variables. Maybe that's the size at which it cannot be cached in memory?"
   ]
  },
  {
   "cell_type": "code",
   "execution_count": 15,
   "metadata": {
    "collapsed": false
   },
   "outputs": [
    {
     "data": {
      "text/plain": [
       "array([ 3177.9,  3531. ,  3884.1,  4237.2,  4590.3,  4943.4])"
      ]
     },
     "execution_count": 15,
     "metadata": {},
     "output_type": "execute_result"
    }
   ],
   "source": [
    "353.100 * np.arange(9, 15)"
   ]
  },
  {
   "cell_type": "code",
   "execution_count": 10,
   "metadata": {
    "collapsed": false
   },
   "outputs": [
    {
     "name": "stdout",
     "output_type": "stream",
     "text": [
      "             total       used       free     shared    buffers     cached\r\n",
      "Mem:          7945       2724       5221        377          2        457\r\n",
      "-/+ buffers/cache:       2263       5681\r\n",
      "Swap:        47685        159      47525\r\n"
     ]
    }
   ],
   "source": [
    "!free -m"
   ]
  },
  {
   "cell_type": "markdown",
   "metadata": {},
   "source": [
    "On this run I had about 5700 MB free on the system, so it's plausible that 9+ variables at 3000+ MB pushes me out of cache on to disk. That explains the jump. But, the morale of the story here is that there is not much distinguishable difference between the throughput of unlimited and limited variables. At least at such low number of time steps. Maybe we should run this experiment again with annual or monthly data."
   ]
  },
  {
   "cell_type": "code",
   "execution_count": 11,
   "metadata": {
    "collapsed": false
   },
   "outputs": [
    {
     "name": "stdout",
     "output_type": "stream",
     "text": [
      "basalt\r\n"
     ]
    }
   ],
   "source": [
    "!hostname"
   ]
  },
  {
   "cell_type": "code",
   "execution_count": null,
   "metadata": {
    "collapsed": true
   },
   "outputs": [],
   "source": []
  }
 ],
 "metadata": {
  "kernelspec": {
   "display_name": "Python 3",
   "language": "python",
   "name": "python3"
  },
  "language_info": {
   "codemirror_mode": {
    "name": "ipython",
    "version": 3
   },
   "file_extension": ".py",
   "mimetype": "text/x-python",
   "name": "python",
   "nbconvert_exporter": "python",
   "pygments_lexer": "ipython3",
   "version": "3.3.5"
  }
 },
 "nbformat": 4,
 "nbformat_minor": 0
}
