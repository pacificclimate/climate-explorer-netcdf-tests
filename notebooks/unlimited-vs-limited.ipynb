{
 "cells": [
  {
   "cell_type": "markdown",
   "metadata": {},
   "source": [
    "# Does having an unlimited dimension affect NetCDF throughput?\n",
    "\n",
    "tl;dr Throughput is about 2x better with limited dimensions. Number of variables has no effect. See below for details."
   ]
  },
  {
   "cell_type": "code",
   "execution_count": 1,
   "metadata": {
    "collapsed": false
   },
   "outputs": [],
   "source": [
    "import sys\n",
    "import os\n",
    "from tempfile import NamedTemporaryFile\n",
    "from gc import collect\n",
    "\n",
    "sys.path.append('../util')\n",
    "from meters import ThroughputMeter, clear_host_cache\n",
    "import ncgen\n",
    "from grids import timescales\n",
    "\n",
    "import netCDF4\n",
    "import numpy as np\n",
    "import pylab as pl\n",
    "\n",
    "# NOTE: ensure that this directory is set to an HDD!\n",
    "# Otherwise the entire experiment isn't representative\n",
    "tmpdir = '../tmp'"
   ]
  },
  {
   "cell_type": "code",
   "execution_count": 2,
   "metadata": {
    "collapsed": false
   },
   "outputs": [
    {
     "name": "stdout",
     "output_type": "stream",
     "text": [
      "Creating a NetCDF file with 1 unlimited variables and 17 timesteps\n",
      "host cache cleared\n",
      "Removing /app/tmp/tmpffa7juw_.nc\n",
      "353.100 MB in 0.245 seconds at 1438.813 MB / sec\n",
      "Creating a NetCDF file with 3 unlimited variables and 17 timesteps\n",
      "host cache cleared\n",
      "Removing /app/tmp/tmp9fp10mn6.nc\n",
      "353.100 MB in 9.49 seconds at 37.191 MB / sec\n",
      "Creating a NetCDF file with 5 unlimited variables and 17 timesteps\n",
      "host cache cleared\n",
      "Removing /app/tmp/tmphb5heldt.nc\n",
      "353.100 MB in 11.9 seconds at 29.557 MB / sec\n",
      "Creating a NetCDF file with 7 unlimited variables and 17 timesteps\n",
      "host cache cleared\n",
      "Removing /app/tmp/tmpldept0o7.nc\n",
      "353.100 MB in 12.2 seconds at 28.984 MB / sec\n",
      "Creating a NetCDF file with 9 unlimited variables and 17 timesteps\n",
      "host cache cleared\n",
      "Removing /app/tmp/tmpujzb86o5.nc\n",
      "353.100 MB in 11.7 seconds at 30.252 MB / sec\n",
      "Creating a NetCDF file with 11 unlimited variables and 17 timesteps\n",
      "host cache cleared\n",
      "Removing /app/tmp/tmp3f3c74e0.nc\n",
      "353.100 MB in 12.0 seconds at 29.303 MB / sec\n",
      "Creating a NetCDF file with 13 unlimited variables and 17 timesteps\n",
      "host cache cleared\n",
      "Removing /app/tmp/tmp9maccicw.nc\n",
      "353.100 MB in 13.4 seconds at 26.412 MB / sec\n",
      "Creating a NetCDF file with 15 unlimited variables and 17 timesteps\n",
      "host cache cleared\n",
      "Removing /app/tmp/tmpiizi92ed.nc\n",
      "353.100 MB in 12.4 seconds at 28.361 MB / sec\n",
      "Creating a NetCDF file with 17 unlimited variables and 17 timesteps\n",
      "host cache cleared\n",
      "Removing /app/tmp/tmpbvmbxq8e.nc\n",
      "353.100 MB in 12.5 seconds at 28.227 MB / sec\n",
      "Creating a NetCDF file with 19 unlimited variables and 17 timesteps\n",
      "host cache cleared\n",
      "Removing /app/tmp/tmpoop0zp35.nc\n",
      "353.100 MB in 12.5 seconds at 28.318 MB / sec\n",
      "Creating a NetCDF file with 1 limited variables and 17 timesteps\n",
      "host cache cleared\n",
      "Removing /app/tmp/tmpq2vbdp1f.nc\n",
      "353.100 MB in 0.188 seconds at 1876.822 MB / sec\n",
      "Creating a NetCDF file with 3 limited variables and 17 timesteps\n",
      "host cache cleared\n",
      "Removing /app/tmp/tmpfabjirzt.nc\n",
      "353.100 MB in 0.207 seconds at 1701.818 MB / sec\n",
      "Creating a NetCDF file with 5 limited variables and 17 timesteps\n",
      "host cache cleared\n",
      "Removing /app/tmp/tmpvnwt7u4s.nc\n",
      "353.100 MB in 7.43 seconds at 47.508 MB / sec\n",
      "Creating a NetCDF file with 7 limited variables and 17 timesteps\n",
      "host cache cleared\n",
      "Removing /app/tmp/tmp73ba72kv.nc\n",
      "353.100 MB in 7.0 seconds at 50.467 MB / sec\n",
      "Creating a NetCDF file with 9 limited variables and 17 timesteps\n",
      "host cache cleared\n",
      "Removing /app/tmp/tmp_rk8d27t.nc\n",
      "353.100 MB in 6.94 seconds at 50.882 MB / sec\n",
      "Creating a NetCDF file with 11 limited variables and 17 timesteps\n",
      "host cache cleared\n",
      "Removing /app/tmp/tmp3qsdlze_.nc\n",
      "353.100 MB in 7.72 seconds at 45.758 MB / sec\n",
      "Creating a NetCDF file with 13 limited variables and 17 timesteps\n",
      "host cache cleared\n",
      "Removing /app/tmp/tmp9_umrk1t.nc\n",
      "353.100 MB in 7.42 seconds at 47.569 MB / sec\n",
      "Creating a NetCDF file with 15 limited variables and 17 timesteps\n",
      "host cache cleared\n",
      "Removing /app/tmp/tmpyp6zhl60.nc\n",
      "353.100 MB in 7.48 seconds at 47.197 MB / sec\n",
      "Creating a NetCDF file with 17 limited variables and 17 timesteps\n",
      "host cache cleared\n",
      "Removing /app/tmp/tmpc832bpmx.nc\n",
      "353.100 MB in 7.12 seconds at 49.619 MB / sec\n",
      "Creating a NetCDF file with 19 limited variables and 17 timesteps\n",
      "host cache cleared\n",
      "Removing /app/tmp/tmp6qjpfysq.nc\n",
      "353.100 MB in 11.4 seconds at 30.883 MB / sec\n",
      "Creating a NetCDF file with 1 unlimited variables and 50 timesteps\n",
      "host cache cleared\n",
      "Removing /app/tmp/tmpza7wo5pj.nc\n",
      "1038.528 MB in 27.0 seconds at 38.419 MB / sec\n",
      "Creating a NetCDF file with 3 unlimited variables and 50 timesteps\n",
      "host cache cleared\n",
      "Removing /app/tmp/tmp3389jwsv.nc\n",
      "1038.528 MB in 44.3 seconds at 23.448 MB / sec\n",
      "Creating a NetCDF file with 5 unlimited variables and 50 timesteps\n",
      "host cache cleared\n",
      "Removing /app/tmp/tmpmv6bn6i0.nc\n",
      "1038.528 MB in 41.8 seconds at 24.847 MB / sec\n",
      "Creating a NetCDF file with 7 unlimited variables and 50 timesteps\n",
      "host cache cleared\n",
      "Removing /app/tmp/tmphdopif77.nc\n",
      "1038.528 MB in 42.4 seconds at 24.484 MB / sec\n",
      "Creating a NetCDF file with 9 unlimited variables and 50 timesteps\n",
      "host cache cleared\n",
      "Removing /app/tmp/tmpek6nd80s.nc\n",
      "1038.528 MB in 50.1 seconds at 20.726 MB / sec\n",
      "Creating a NetCDF file with 11 unlimited variables and 50 timesteps\n",
      "host cache cleared\n",
      "Removing /app/tmp/tmpzsne3xlg.nc\n",
      "1038.528 MB in 46.5 seconds at 22.311 MB / sec\n",
      "Creating a NetCDF file with 13 unlimited variables and 50 timesteps\n",
      "host cache cleared\n",
      "Removing /app/tmp/tmpfm0fh6l2.nc\n",
      "1038.528 MB in 46.5 seconds at 22.332 MB / sec\n",
      "Creating a NetCDF file with 15 unlimited variables and 50 timesteps\n",
      "host cache cleared\n",
      "Removing /app/tmp/tmpbu4f53g2.nc\n",
      "1038.528 MB in 51.0 seconds at 20.349 MB / sec\n",
      "Creating a NetCDF file with 17 unlimited variables and 50 timesteps\n",
      "host cache cleared\n",
      "Removing /app/tmp/tmp6__d8dhn.nc\n",
      "1038.528 MB in 50.5 seconds at 20.569 MB / sec\n",
      "Creating a NetCDF file with 19 unlimited variables and 50 timesteps\n",
      "host cache cleared\n",
      "Removing /app/tmp/tmp9vvg0onj.nc\n",
      "1038.528 MB in 37.0 seconds at 28.087 MB / sec\n",
      "Creating a NetCDF file with 1 limited variables and 50 timesteps\n",
      "host cache cleared\n",
      "Removing /app/tmp/tmpy3qc2hdr.nc\n",
      "1038.528 MB in 36.6 seconds at 28.404 MB / sec\n",
      "Creating a NetCDF file with 3 limited variables and 50 timesteps\n",
      "host cache cleared\n",
      "Removing /app/tmp/tmphp02q404.nc\n",
      "1038.528 MB in 26.0 seconds at 39.975 MB / sec\n",
      "Creating a NetCDF file with 5 limited variables and 50 timesteps\n",
      "host cache cleared\n",
      "Removing /app/tmp/tmpexdegbdr.nc\n",
      "1038.528 MB in 25.3 seconds at 41.101 MB / sec\n",
      "Creating a NetCDF file with 7 limited variables and 50 timesteps\n",
      "host cache cleared\n",
      "Removing /app/tmp/tmp4g6obpu_.nc\n",
      "1038.528 MB in 23.9 seconds at 43.512 MB / sec\n",
      "Creating a NetCDF file with 9 limited variables and 50 timesteps\n",
      "host cache cleared\n",
      "Removing /app/tmp/tmprwg9krm7.nc\n",
      "1038.528 MB in 23.9 seconds at 43.438 MB / sec\n",
      "Creating a NetCDF file with 11 limited variables and 50 timesteps\n",
      "host cache cleared\n",
      "Removing /app/tmp/tmpyhaxfwl1.nc\n",
      "1038.528 MB in 22.6 seconds at 45.852 MB / sec\n",
      "Creating a NetCDF file with 13 limited variables and 50 timesteps\n",
      "host cache cleared\n",
      "Removing /app/tmp/tmpb1n89go3.nc\n",
      "1038.528 MB in 21.5 seconds at 48.198 MB / sec\n",
      "Creating a NetCDF file with 15 limited variables and 50 timesteps\n",
      "host cache cleared\n",
      "Removing /app/tmp/tmp_vrckcn6.nc\n",
      "1038.528 MB in 25.0 seconds at 41.505 MB / sec\n",
      "Creating a NetCDF file with 17 limited variables and 50 timesteps\n",
      "host cache cleared\n",
      "Removing /app/tmp/tmp4e0gmirc.nc\n",
      "1038.528 MB in 24.8 seconds at 41.855 MB / sec\n",
      "Creating a NetCDF file with 19 limited variables and 50 timesteps\n",
      "host cache cleared\n",
      "Removing /app/tmp/tmpdoxjhr3k.nc\n",
      "1038.528 MB in 26.1 seconds at 39.833 MB / sec\n"
     ]
    }
   ],
   "source": [
    "results = []\n",
    "for timescale in (timescales['seasonal'], range(50)):\n",
    "    for unlim in [True, False]:\n",
    "        for num_vars in range(1, 20, 2):\n",
    "            print(\"Creating a NetCDF file with {} {}limited variables and {} timesteps\".format(num_vars, 'un' if unlim else '', len(timescale)))\n",
    "            with NamedTemporaryFile(suffix='.nc', delete=False, dir=tmpdir) as f:\n",
    "                nc = ncgen.make_nc(f.name, num_vars=num_vars, unlim=unlim, timescale=timescale)\n",
    "                nc.close()\n",
    "            clear_host_cache()\n",
    "            nc = netCDF4.Dataset(f.name, 'r')\n",
    "            with ThroughputMeter() as t:\n",
    "                a = nc.variables['var_0'][:, :, :]\n",
    "        \n",
    "            # python-netCDF4 seems to leak file descriptors\n",
    "            # We have to take a lot of steps to make sure that the files get closed and that\n",
    "            # the space gets reclaimed by the OS\n",
    "            nc.close\n",
    "            del nc\n",
    "            print(\"Removing {}\".format(f.name))\n",
    "            os.remove(f.name)\n",
    "            f.close()\n",
    "            collect()\n",
    "            results.append((unlim, num_vars, t.megabytes_per_second(a)))\n"
   ]
  },
  {
   "cell_type": "code",
   "execution_count": 3,
   "metadata": {
    "collapsed": false
   },
   "outputs": [
    {
     "data": {
      "text/plain": [
       "[(True, 1, 1438.8127376555144),\n",
       " (True, 3, 37.19105144054339),\n",
       " (True, 5, 29.557286536431508),\n",
       " (True, 7, 28.983589322780567),\n",
       " (True, 9, 30.251789437561566),\n",
       " (True, 11, 29.303047204976071),\n",
       " (True, 13, 26.411985767345339),\n",
       " (True, 15, 28.361491980181679),\n",
       " (True, 17, 28.226718852356488),\n",
       " (True, 19, 28.31762426829372),\n",
       " (False, 1, 1876.8215089519251),\n",
       " (False, 3, 1701.818282102844),\n",
       " (False, 5, 47.507986258102584),\n",
       " (False, 7, 50.466559834385997),\n",
       " (False, 9, 50.88194917368606),\n",
       " (False, 11, 45.757900938251673),\n",
       " (False, 13, 47.569278480092983),\n",
       " (False, 15, 47.197479839191558),\n",
       " (False, 17, 49.619092769150413),\n",
       " (False, 19, 30.882685746858488),\n",
       " (True, 1, 38.418601871461085),\n",
       " (True, 3, 23.447973699449609),\n",
       " (True, 5, 24.846703980134976),\n",
       " (True, 7, 24.484092335751484),\n",
       " (True, 9, 20.726455039440754),\n",
       " (True, 11, 22.311011007791677),\n",
       " (True, 13, 22.3324301009525),\n",
       " (True, 15, 20.349171353062808),\n",
       " (True, 17, 20.568721049630803),\n",
       " (True, 19, 28.08668546865389),\n",
       " (False, 1, 28.403656810143616),\n",
       " (False, 3, 39.974741573568252),\n",
       " (False, 5, 41.100975215726137),\n",
       " (False, 7, 43.512060898089551),\n",
       " (False, 9, 43.437805952343126),\n",
       " (False, 11, 45.851786601713734),\n",
       " (False, 13, 48.198002288194154),\n",
       " (False, 15, 41.5053075748284),\n",
       " (False, 17, 41.85452212045832),\n",
       " (False, 19, 39.8328435855313)]"
      ]
     },
     "execution_count": 3,
     "metadata": {},
     "output_type": "execute_result"
    }
   ],
   "source": [
    "results"
   ]
  },
  {
   "cell_type": "code",
   "execution_count": 4,
   "metadata": {
    "collapsed": false
   },
   "outputs": [
    {
     "data": {
      "text/plain": [
       "array([[[ 1438.81273766,    37.19105144,    29.55728654,    28.98358932,\n",
       "            30.25178944,    29.3030472 ,    26.41198577,    28.36149198,\n",
       "            28.22671885,    28.31762427],\n",
       "        [ 1876.82150895,  1701.8182821 ,    47.50798626,    50.46655983,\n",
       "            50.88194917,    45.75790094,    47.56927848,    47.19747984,\n",
       "            49.61909277,    30.88268575]],\n",
       "\n",
       "       [[   38.41860187,    23.4479737 ,    24.84670398,    24.48409234,\n",
       "            20.72645504,    22.31101101,    22.3324301 ,    20.34917135,\n",
       "            20.56872105,    28.08668547],\n",
       "        [   28.40365681,    39.97474157,    41.10097522,    43.5120609 ,\n",
       "            43.43780595,    45.8517866 ,    48.19800229,    41.50530757,\n",
       "            41.85452212,    39.83284359]]])"
      ]
     },
     "execution_count": 4,
     "metadata": {},
     "output_type": "execute_result"
    }
   ],
   "source": [
    "a = np.array([result[2] for result in results])\n",
    "a = a.reshape(2, 2, 10)\n",
    "a"
   ]
  },
  {
   "cell_type": "code",
   "execution_count": 7,
   "metadata": {
    "collapsed": true
   },
   "outputs": [],
   "source": [
    "%matplotlib inline"
   ]
  },
  {
   "cell_type": "code",
   "execution_count": 9,
   "metadata": {
    "collapsed": false
   },
   "outputs": [
    {
     "data": {
      "text/plain": [
       "<matplotlib.legend.Legend at 0x7feec2e27f98>"
      ]
     },
     "execution_count": 9,
     "metadata": {},
     "output_type": "execute_result"
    },
    {
     "data": {
      "image/png": "[encoded data removed]",
      "text/plain": [
       "<matplotlib.figure.Figure at 0x7feec2e9aa58>"
      ]
     },
     "metadata": {},
     "output_type": "display_data"
    }
   ],
   "source": [
    "fig = pl.figure()\n",
    "ax = fig.add_subplot(1,1,1)\n",
    "ax.plot(range(1, 20, 2), a[0,0,:], label='17 timesteps, unlimited')\n",
    "ax.plot(range(1, 20, 2), a[0,1,:], label='17 timesteps, limited')\n",
    "ax.plot(range(1, 20, 2), a[1,0,:], label='50 timesteps, unlimited')\n",
    "ax.plot(range(1, 20, 2), a[1,1,:], label='50 timesteps, limited')\n",
    "ax.set_yscale(\"log\")\n",
    "ax.legend()"
   ]
  },
  {
   "cell_type": "code",
   "execution_count": 11,
   "metadata": {
    "collapsed": false
   },
   "outputs": [
    {
     "data": {
      "text/plain": [
       "array([ 1412.4,  1765.5])"
      ]
     },
     "execution_count": 11,
     "metadata": {},
     "output_type": "execute_result"
    }
   ],
   "source": [
    "353.100 * np.arange(4, 6)"
   ]
  },
  {
   "cell_type": "code",
   "execution_count": 12,
   "metadata": {
    "collapsed": false
   },
   "outputs": [
    {
     "name": "stdout",
     "output_type": "stream",
     "text": [
      "             total       used       free     shared    buffers     cached\r\n",
      "Mem:          7945       5939       2005         43        347       1981\r\n",
      "-/+ buffers/cache:       3610       4334\r\n",
      "Swap:        47685        861      46823\r\n"
     ]
    }
   ],
   "source": [
    "!free -m"
   ]
  },
  {
   "cell_type": "markdown",
   "metadata": {},
   "source": [
    "On this run I had about 2005 MB free on the system, so it's plausible that 4+ variables at 3000+ MB pushes me out of cache on to disk. That explains the jump.\n",
    "\n",
    "So this experiment shows that there *is* a distinguishable difference between unlimited and limited dimensions. However, we do *not* see a decrease proportional to the number of variables. It looks like it's about a factor of 2 across the board. Which is good, and worth making dimensions limited, but it's not *awful* to use unlimited dimensions with a high number of variables."
   ]
  },
  {
   "cell_type": "code",
   "execution_count": 13,
   "metadata": {
    "collapsed": false
   },
   "outputs": [
    {
     "name": "stdout",
     "output_type": "stream",
     "text": [
      "2a1de1d68d90\r\n"
     ]
    }
   ],
   "source": [
    "!hostname"
   ]
  },
  {
   "cell_type": "code",
   "execution_count": null,
   "metadata": {
    "collapsed": true
   },
   "outputs": [],
   "source": []
  }
 ],
 "metadata": {
  "kernelspec": {
   "display_name": "Python 3",
   "language": "python",
   "name": "python3"
  },
  "language_info": {
   "codemirror_mode": {
    "name": "ipython",
    "version": 3
   },
   "file_extension": ".py",
   "mimetype": "text/x-python",
   "name": "python",
   "nbconvert_exporter": "python",
   "pygments_lexer": "ipython3",
   "version": "3.4.0"
  }
 },
 "nbformat": 4,
 "nbformat_minor": 0
}
