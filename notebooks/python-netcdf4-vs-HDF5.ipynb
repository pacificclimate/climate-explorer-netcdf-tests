{
 "cells": [
  {
   "cell_type": "code",
   "execution_count": 6,
   "metadata": {
    "collapsed": true
   },
   "outputs": [],
   "source": [
    "import sys\n",
    "import os\n",
    "from tempfile import NamedTemporaryFile\n",
    "from gc import collect\n",
    "\n",
    "import netCDF4\n",
    "import h5py\n",
    "import numpy as np\n",
    "import pylab as pl\n",
    "\n",
    "sys.path.append('../util')\n",
    "from meters import ThroughputMeter, clear_host_cache\n",
    "from ncgen import *\n",
    "from grids import *"
   ]
  },
  {
   "cell_type": "code",
   "execution_count": 7,
   "metadata": {
    "collapsed": true
   },
   "outputs": [],
   "source": [
    "def write_netcdf_file(timescale, time_major=True):\n",
    "    print(\"Creating a time-{} NetCDF file with {}x{} grid and {} time steps\".format('major' if time_major else 'minor', grid['lon']['count'], grid['lat']['count'],len(timescale)))\n",
    "    with NamedTemporaryFile(suffix='.nc', delete=False, dir='../tmp') as f:\n",
    "        nc = get_base_nc(f.name, world_125k)\n",
    "        nc = add_simple_time(nc, timescale)\n",
    "        nc = add_climo_data(nc, 'var_0', timemajor=time_major)\n",
    "        nc.close()\n",
    "    print(\"file size: {}\".format(os.path.getsize(f.name)))\n",
    "    return f"
   ]
  },
  {
   "cell_type": "code",
   "execution_count": 16,
   "metadata": {
    "collapsed": true
   },
   "outputs": [],
   "source": [
    "def netcdf4_read_test(f):\n",
    "    print(\"Reading out with python-netCDF4 module...\")\n",
    "    results = []\n",
    "    # Open the file just created\n",
    "    nc = netCDF4.Dataset(f.name, 'r')\n",
    "    with ThroughputMeter() as t:\n",
    "        for i in range(nc.variables['var_0'].shape[0]):\n",
    "            a = nc.variables['var_0'][i,:,:]\n",
    "    results.append((len(timescale), t.megabytes_per_second(nc.variables['var_0'])))\n",
    "    # python-netCDF4 seems to leak file descriptors\n",
    "    # We have to take a lot of steps to make sure that the files get closed and that\n",
    "    # the space gets reclaimed by the OS\n",
    "    nc.close\n",
    "    return results"
   ]
  },
  {
   "cell_type": "code",
   "execution_count": 17,
   "metadata": {
    "collapsed": true
   },
   "outputs": [],
   "source": [
    "def hdf5_read_test(f):\n",
    "    print(\"Reading out with h5py module...\")\n",
    "    results = []\n",
    "    # Open the file just created\n",
    "    nc = h5py.File(f.name, 'r')\n",
    "    with ThroughputMeter() as t:\n",
    "        for i in range(nc['var_0'].shape[0]):\n",
    "            a = nc['var_0'][i,:,:]\n",
    "    results.append((len(timescale), t.megabytes_per_second(nc['var_0'])))\n",
    "    # python-netCDF4 seems to leak file descriptors\n",
    "    # We have to take a lot of steps to make sure that the files get closed and that\n",
    "    # the space gets reclaimed by the OS\n",
    "    nc.close\n",
    "    return results"
   ]
  },
  {
   "cell_type": "markdown",
   "metadata": {},
   "source": [
    "### Use world_125k grid at monthly timescale to test read throughput via h5py, followed by via python-netcdf4:"
   ]
  },
  {
   "cell_type": "code",
   "execution_count": 30,
   "metadata": {
    "collapsed": false
   },
   "outputs": [
    {
     "name": "stdout",
     "output_type": "stream",
     "text": [
      "Creating a time-major NetCDF file with 256x128 grid and 1800 time steps\n",
      "file size: 235945088\n"
     ]
    }
   ],
   "source": [
    "grid = world_125k\n",
    "timescale = timescales['monthly']\n",
    "time_major = True\n",
    "testfile = write_netcdf_file(timescale, time_major)"
   ]
  },
  {
   "cell_type": "code",
   "execution_count": 31,
   "metadata": {
    "collapsed": false
   },
   "outputs": [
    {
     "name": "stdout",
     "output_type": "stream",
     "text": [
      "host cache cleared\n",
      "Reading out with h5py module...\n",
      "225.000 MB in 1.33 seconds at 169.320 MB / sec\n",
      "host cache cleared\n",
      "Reading out with python-netCDF4 module...\n",
      "225.000 MB in 1.21 seconds at 185.701 MB / sec\n",
      "Removing /app/tmp/tmp_hhwfkfc.nc\n"
     ]
    },
    {
     "data": {
      "text/plain": [
       "91"
      ]
     },
     "execution_count": 31,
     "metadata": {},
     "output_type": "execute_result"
    }
   ],
   "source": [
    "for read_with_h5py in [True, False]:\n",
    "    !sync\n",
    "    clear_host_cache()\n",
    "    if read_with_h5py:\n",
    "        results_world_125k_monthly_hdf5_read = hdf5_read_test(testfile)\n",
    "    else:\n",
    "        results_world_125k_monthly_netcdf4_read = netcdf4_read_test(testfile)\n",
    "print(\"Removing {}\".format(testfile.name))\n",
    "os.remove(testfile.name)\n",
    "testfile.close()\n",
    "del testfile\n",
    "collect()"
   ]
  },
  {
   "cell_type": "code",
   "execution_count": 32,
   "metadata": {
    "collapsed": false
   },
   "outputs": [
    {
     "data": {
      "text/plain": [
       "[(1800, 169.32021332100851)]"
      ]
     },
     "execution_count": 32,
     "metadata": {},
     "output_type": "execute_result"
    }
   ],
   "source": [
    "results_world_125k_monthly_hdf5_read"
   ]
  },
  {
   "cell_type": "code",
   "execution_count": 33,
   "metadata": {
    "collapsed": false
   },
   "outputs": [
    {
     "data": {
      "text/plain": [
       "[(1800, 185.70064074031657)]"
      ]
     },
     "execution_count": 33,
     "metadata": {},
     "output_type": "execute_result"
    }
   ],
   "source": [
    "results_world_125k_monthly_netcdf4_read"
   ]
  },
  {
   "cell_type": "markdown",
   "metadata": {},
   "source": [
    "### And with canada_5k grid at monthly timescale:"
   ]
  },
  {
   "cell_type": "code",
   "execution_count": 28,
   "metadata": {
    "collapsed": false
   },
   "outputs": [
    {
     "name": "stdout",
     "output_type": "stream",
     "text": [
      "Creating a time-major NetCDF file with 1068x510 grid and 1800 time steps\n",
      "file size: 235945088\n"
     ]
    }
   ],
   "source": [
    "grid = canada_5k\n",
    "timescale = timescales['monthly']\n",
    "time_major = True\n",
    "testfile = write_netcdf_file(timescale, time_major)"
   ]
  },
  {
   "cell_type": "code",
   "execution_count": 29,
   "metadata": {
    "collapsed": false,
    "scrolled": true
   },
   "outputs": [
    {
     "name": "stdout",
     "output_type": "stream",
     "text": [
      "host cache cleared\n",
      "Reading out with h5py module...\n",
      "225.000 MB in 1.33 seconds at 168.890 MB / sec\n",
      "host cache cleared\n",
      "Reading out with python-netCDF4 module...\n",
      "225.000 MB in 1.21 seconds at 185.537 MB / sec\n",
      "Removing /app/tmp/tmpnxn9d7x9.nc\n"
     ]
    },
    {
     "data": {
      "text/plain": [
       "249"
      ]
     },
     "execution_count": 29,
     "metadata": {},
     "output_type": "execute_result"
    }
   ],
   "source": [
    "for read_with_h5py in [True, False]:\n",
    "    !sync\n",
    "    clear_host_cache()\n",
    "    if read_with_h5py:\n",
    "        results_canada_5k_monthly_hdf5_read = hdf5_read_test(testfile)\n",
    "    else:\n",
    "        results_canada_5k_monthly_netcdf4_read = netcdf4_read_test(testfile)\n",
    "print(\"Removing {}\".format(testfile.name))\n",
    "os.remove(testfile.name)\n",
    "testfile.close()\n",
    "del testfile\n",
    "collect()"
   ]
  },
  {
   "cell_type": "code",
   "execution_count": 38,
   "metadata": {
    "collapsed": false
   },
   "outputs": [
    {
     "data": {
      "text/plain": [
       "[(1800, 168.8903794492137)]"
      ]
     },
     "execution_count": 38,
     "metadata": {},
     "output_type": "execute_result"
    }
   ],
   "source": [
    "results_canada_5k_monthly_hdf5_read"
   ]
  },
  {
   "cell_type": "code",
   "execution_count": 39,
   "metadata": {
    "collapsed": false
   },
   "outputs": [
    {
     "data": {
      "text/plain": [
       "[(1800, 185.53711623495772)]"
      ]
     },
     "execution_count": 39,
     "metadata": {},
     "output_type": "execute_result"
    }
   ],
   "source": [
    "results_canada_5k_monthly_netcdf4_read"
   ]
  },
  {
   "cell_type": "markdown",
   "metadata": {},
   "source": [
    "### And with canada_5k grid at daily timescale:"
   ]
  },
  {
   "cell_type": "code",
   "execution_count": 34,
   "metadata": {
    "collapsed": false
   },
   "outputs": [
    {
     "name": "stdout",
     "output_type": "stream",
     "text": [
      "Creating a time-major NetCDF file with 1068x510 grid and 54787 time steps\n",
      "file size: 7181269100\n"
     ]
    }
   ],
   "source": [
    "grid = canada_5k\n",
    "timescale = timescales['daily']\n",
    "time_major = True\n",
    "testfile = write_netcdf_file(timescale, time_major)"
   ]
  },
  {
   "cell_type": "code",
   "execution_count": 35,
   "metadata": {
    "collapsed": false
   },
   "outputs": [
    {
     "name": "stdout",
     "output_type": "stream",
     "text": [
      "host cache cleared\n",
      "Reading out with h5py module...\n",
      "6848.375 MB in 36.4 seconds at 188.309 MB / sec\n",
      "host cache cleared\n",
      "Reading out with python-netCDF4 module...\n",
      "6848.375 MB in 36.2 seconds at 189.208 MB / sec\n",
      "Removing /app/tmp/tmpqzz281xn.nc\n"
     ]
    },
    {
     "data": {
      "text/plain": [
       "91"
      ]
     },
     "execution_count": 35,
     "metadata": {},
     "output_type": "execute_result"
    }
   ],
   "source": [
    "for read_with_h5py in [True, False]:\n",
    "    !sync\n",
    "    clear_host_cache()\n",
    "    if read_with_h5py:\n",
    "        results_canada_5k_daily_hdf5_read = hdf5_read_test(testfile)\n",
    "    else:\n",
    "        results_canada_5k_daily_netcdf4_read = netcdf4_read_test(testfile)\n",
    "print(\"Removing {}\".format(testfile.name))\n",
    "os.remove(testfile.name)\n",
    "testfile.close()\n",
    "del testfile\n",
    "collect()"
   ]
  },
  {
   "cell_type": "code",
   "execution_count": 36,
   "metadata": {
    "collapsed": false
   },
   "outputs": [
    {
     "data": {
      "text/plain": [
       "[(54787, 188.3093597757545)]"
      ]
     },
     "execution_count": 36,
     "metadata": {},
     "output_type": "execute_result"
    }
   ],
   "source": [
    "results_canada_5k_daily_hdf5_read"
   ]
  },
  {
   "cell_type": "code",
   "execution_count": 37,
   "metadata": {
    "collapsed": false
   },
   "outputs": [
    {
     "data": {
      "text/plain": [
       "[(54787, 189.20844933212683)]"
      ]
     },
     "execution_count": 37,
     "metadata": {},
     "output_type": "execute_result"
    }
   ],
   "source": [
    "results_canada_5k_daily_netcdf4_read"
   ]
  },
  {
   "cell_type": "markdown",
   "metadata": {},
   "source": [
    "###And with bc_400m grid at monthly timescale:"
   ]
  },
  {
   "cell_type": "code",
   "execution_count": 40,
   "metadata": {
    "collapsed": false
   },
   "outputs": [
    {
     "name": "stdout",
     "output_type": "stream",
     "text": [
      "Creating a time-major NetCDF file with 1680x3241 grid and 1800 time steps\n",
      "file size: 235945088\n"
     ]
    }
   ],
   "source": [
    "grid = bc_400m\n",
    "timescale = timescales['monthly']\n",
    "time_major = True\n",
    "testfile = write_netcdf_file(timescale, time_major)"
   ]
  },
  {
   "cell_type": "code",
   "execution_count": 41,
   "metadata": {
    "collapsed": false
   },
   "outputs": [
    {
     "name": "stdout",
     "output_type": "stream",
     "text": [
      "host cache cleared\n",
      "Reading out with h5py module...\n",
      "225.000 MB in 1.32 seconds at 170.284 MB / sec\n",
      "host cache cleared\n",
      "Reading out with python-netCDF4 module...\n",
      "225.000 MB in 1.2 seconds at 187.558 MB / sec\n",
      "Removing /app/tmp/tmp81x1rd7_.nc\n"
     ]
    },
    {
     "data": {
      "text/plain": [
       "104"
      ]
     },
     "execution_count": 41,
     "metadata": {},
     "output_type": "execute_result"
    }
   ],
   "source": [
    "for read_with_h5py in [True, False]:\n",
    "    !sync\n",
    "    clear_host_cache()\n",
    "    if read_with_h5py:\n",
    "        results_bc_400m_monthly_hdf5_read = hdf5_read_test(testfile)\n",
    "    else:\n",
    "        results_bc_400m_monthly_netcdf4_read = netcdf4_read_test(testfile)\n",
    "print(\"Removing {}\".format(testfile.name))\n",
    "os.remove(testfile.name)\n",
    "testfile.close()\n",
    "del testfile\n",
    "collect()"
   ]
  },
  {
   "cell_type": "code",
   "execution_count": 42,
   "metadata": {
    "collapsed": false
   },
   "outputs": [
    {
     "data": {
      "text/plain": [
       "[(1800, 170.2842845844753)]"
      ]
     },
     "execution_count": 42,
     "metadata": {},
     "output_type": "execute_result"
    }
   ],
   "source": [
    "results_bc_400m_monthly_hdf5_read"
   ]
  },
  {
   "cell_type": "code",
   "execution_count": 43,
   "metadata": {
    "collapsed": false
   },
   "outputs": [
    {
     "data": {
      "text/plain": [
       "[(1800, 187.55819964333435)]"
      ]
     },
     "execution_count": 43,
     "metadata": {},
     "output_type": "execute_result"
    }
   ],
   "source": [
    "results_bc_400m_monthly_netcdf4_read"
   ]
  },
  {
   "cell_type": "markdown",
   "metadata": {},
   "source": [
    "### And with bc_400m grid at daily timescale:"
   ]
  },
  {
   "cell_type": "code",
   "execution_count": 44,
   "metadata": {
    "collapsed": false
   },
   "outputs": [
    {
     "name": "stdout",
     "output_type": "stream",
     "text": [
      "Creating a time-major NetCDF file with 1680x3241 grid and 54787 time steps\n",
      "file size: 7181269100\n"
     ]
    }
   ],
   "source": [
    "grid = bc_400m\n",
    "timescale = timescales['daily']\n",
    "time_major = True\n",
    "testfile = write_netcdf_file(timescale, time_major)"
   ]
  },
  {
   "cell_type": "code",
   "execution_count": 45,
   "metadata": {
    "collapsed": false
   },
   "outputs": [
    {
     "name": "stdout",
     "output_type": "stream",
     "text": [
      "host cache cleared\n",
      "Reading out with h5py module...\n",
      "6848.375 MB in 36.7 seconds at 186.847 MB / sec\n",
      "host cache cleared\n",
      "Reading out with python-netCDF4 module...\n",
      "6848.375 MB in 36.3 seconds at 188.917 MB / sec\n",
      "Removing /app/tmp/tmp0ys9crgx.nc\n"
     ]
    },
    {
     "data": {
      "text/plain": [
       "91"
      ]
     },
     "execution_count": 45,
     "metadata": {},
     "output_type": "execute_result"
    }
   ],
   "source": [
    "for read_with_h5py in [True, False]:\n",
    "    !sync\n",
    "    clear_host_cache()\n",
    "    if read_with_h5py:\n",
    "        results_bc_400m_daily_hdf5_read = hdf5_read_test(testfile)\n",
    "    else:\n",
    "        results_bc_400m_daily_netcdf4_read = netcdf4_read_test(testfile)\n",
    "print(\"Removing {}\".format(testfile.name))\n",
    "os.remove(testfile.name)\n",
    "testfile.close()\n",
    "del testfile\n",
    "collect()"
   ]
  },
  {
   "cell_type": "code",
   "execution_count": 46,
   "metadata": {
    "collapsed": false
   },
   "outputs": [
    {
     "data": {
      "text/plain": [
       "[(54787, 186.84716548009149)]"
      ]
     },
     "execution_count": 46,
     "metadata": {},
     "output_type": "execute_result"
    }
   ],
   "source": [
    "results_bc_400m_daily_hdf5_read"
   ]
  },
  {
   "cell_type": "code",
   "execution_count": 47,
   "metadata": {
    "collapsed": false
   },
   "outputs": [
    {
     "data": {
      "text/plain": [
       "[(54787, 188.91707143775659)]"
      ]
     },
     "execution_count": 47,
     "metadata": {},
     "output_type": "execute_result"
    }
   ],
   "source": [
    "results_bc_400m_daily_netcdf4_read"
   ]
  },
  {
   "cell_type": "markdown",
   "metadata": {},
   "source": [
    "## Summarize Results"
   ]
  },
  {
   "cell_type": "code",
   "execution_count": 52,
   "metadata": {
    "collapsed": true
   },
   "outputs": [],
   "source": [
    "grid_sizes = ['world_125k_mon', 'canada_5k_mon', 'canada_5k_day', 'bc_400m_mon', 'bc_400m_day']\n",
    "\n",
    "hdf5_read_throughput = [results_world_125k_monthly_hdf5_read, results_canada_5k_monthly_hdf5_read, \\\n",
    "                        results_canada_5k_daily_hdf5_read, results_bc_400m_monthly_hdf5_read, \\\n",
    "                        results_bc_400m_daily_hdf5_read]\n",
    "\n",
    "netcdf4_read_throughput = [results_world_125k_monthly_netcdf4_read, results_canada_5k_monthly_netcdf4_read, \\\n",
    "                           results_canada_5k_daily_netcdf4_read, results_bc_400m_monthly_netcdf4_read, \\\n",
    "                           results_bc_400m_daily_netcdf4_read]"
   ]
  },
  {
   "cell_type": "code",
   "execution_count": 53,
   "metadata": {
    "collapsed": false
   },
   "outputs": [
    {
     "data": {
      "image/png": "[encoded data removed]",
      "text/plain": [
       "<matplotlib.figure.Figure at 0x7f77a0851b38>"
      ]
     },
     "metadata": {},
     "output_type": "display_data"
    }
   ],
   "source": [
    "import matplotlib.pyplot as plt\n",
    "%matplotlib inline\n",
    "hdf5_read, = plt.plot([point[0][1] for point in hdf5_read_throughput], label='hdf5')\n",
    "netcdf4_read, = plt.plot([point[0][1] for point in netcdf4_read_throughput], label='python-netcdf4')\n",
    "plt.xticks(range(len(grid_sizes)), grid_sizes)\n",
    "plt.title('HDF5 vs. python-netCDF4 Read Throughput Comparison [MB/s]')\n",
    "plt.legend(loc='lower center', shadow=True)\n",
    "plt.show()"
   ]
  },
  {
   "cell_type": "markdown",
   "metadata": {},
   "source": [
    "### NetCDF file readout using python-netcdf4 is generally faster than with hdf5"
   ]
  },
  {
   "cell_type": "code",
   "execution_count": null,
   "metadata": {
    "collapsed": true
   },
   "outputs": [],
   "source": []
  }
 ],
 "metadata": {
  "kernelspec": {
   "display_name": "Python 3",
   "language": "python",
   "name": "python3"
  },
  "language_info": {
   "codemirror_mode": {
    "name": "ipython",
    "version": 3
   },
   "file_extension": ".py",
   "mimetype": "text/x-python",
   "name": "python",
   "nbconvert_exporter": "python",
   "pygments_lexer": "ipython3",
   "version": "3.4.0"
  }
 },
 "nbformat": 4,
 "nbformat_minor": 0
}
