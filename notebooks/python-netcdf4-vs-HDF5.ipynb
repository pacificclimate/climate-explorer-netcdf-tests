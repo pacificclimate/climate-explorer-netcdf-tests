{
 "cells": [
  {
   "cell_type": "code",
   "execution_count": 1,
   "metadata": {
    "collapsed": true
   },
   "outputs": [],
   "source": [
    "import sys\n",
    "import os\n",
    "from tempfile import NamedTemporaryFile\n",
    "from gc import collect\n",
    "\n",
    "import netCDF4\n",
    "import h5py\n",
    "import numpy as np\n",
    "import pylab as pl\n",
    "\n",
    "sys.path.append('../util')\n",
    "from meters import ThroughputMeter, clear_host_cache\n",
    "from ncgen import *\n",
    "from grids import *"
   ]
  },
  {
   "cell_type": "code",
   "execution_count": 2,
   "metadata": {
    "collapsed": true
   },
   "outputs": [],
   "source": [
    "def write_netcdf_file(timescale, time_major=True, grid=canada_5k):\n",
    "    print(\"Creating a time-{} NetCDF file with {}x{} grid and {} time steps\".format('major' if time_major else 'minor', grid['lon']['count'], grid['lat']['count'],len(timescale)))\n",
    "    with NamedTemporaryFile(suffix='.nc', delete=False, dir='/app/tmp') as f:\n",
    "        nc = make_nc(f.name, grid=grid, timescale=timescale, timemajor=time_major)\n",
    "        nc.close()\n",
    "    print(\"File size: {:.2f}Mb\".format(os.path.getsize(f.name)/1024/1024))\n",
    "    return f"
   ]
  },
  {
   "cell_type": "code",
   "execution_count": 3,
   "metadata": {
    "collapsed": true
   },
   "outputs": [],
   "source": [
    "def netcdf_read_test(f, time_major):\n",
    "    print(\"Reading out with python-netCDF4 module...\")\n",
    "    # Open the file just created\n",
    "    nc = netCDF4.Dataset(f.name, 'r')\n",
    "    if time_major:\n",
    "        with ThroughputMeter() as t:\n",
    "            a = nc.variables['var_0'][0,:,:]\n",
    "    else:\n",
    "        with ThroughputMeter() as t:\n",
    "            a = nc.variables['var_0'][:,:,0]\n",
    "    res = ('python-netCDF4', time_major, len(timescale), t.megabytes_per_second(a))\n",
    "    # python-netCDF4 seems to leak file descriptors\n",
    "    # We have to take a lot of steps to make sure that the files get closed and that\n",
    "    # the space gets reclaimed by the OS\n",
    "    nc.close\n",
    "    return res"
   ]
  },
  {
   "cell_type": "code",
   "execution_count": 4,
   "metadata": {
    "collapsed": true
   },
   "outputs": [],
   "source": [
    "def hdf5_read_test(f, time_major):\n",
    "    print(\"Reading out with h5py module...\")\n",
    "    results = []\n",
    "    # Open the file just created\n",
    "    nc = h5py.File(f.name, 'r')\n",
    "    if time_major:\n",
    "        with ThroughputMeter() as t:\n",
    "            a = nc['var_0'][0,:,:]\n",
    "    else:\n",
    "        with ThroughputMeter() as t:\n",
    "            a = nc['var_0'][:,:,0]\n",
    "\n",
    "    res = ('h5py', time_major, len(timescale), t.megabytes_per_second(a))\n",
    "    # python-netCDF4 seems to leak file descriptors\n",
    "    # We have to take a lot of steps to make sure that the files get closed and that\n",
    "    # the space gets reclaimed by the OS\n",
    "    nc.close\n",
    "    return res"
   ]
  },
  {
   "cell_type": "markdown",
   "metadata": {},
   "source": [
    "### Run through a few combinations of grids and timescales to test read throughput via h5py, followed by via python-netcdf4:"
   ]
  },
  {
   "cell_type": "code",
   "execution_count": 5,
   "metadata": {
    "collapsed": true
   },
   "outputs": [],
   "source": [
    "time_major = True\n",
    "grids = [world_250k, world_125k, canada_5k, bc_400m]\n",
    "ts = [timescales['seasonal'], timescales['annual'], timescales['monthly']] # Daily takes hours and hours to run #, timescales['daily']]"
   ]
  },
  {
   "cell_type": "code",
   "execution_count": 6,
   "metadata": {
    "collapsed": false
   },
   "outputs": [
    {
     "name": "stdout",
     "output_type": "stream",
     "text": [
      "Creating a time-major NetCDF file with 128x64 grid and 17 time steps\n",
      "File size: 0.54Mb\n",
      "host cache cleared\n",
      "Reading out with h5py module...\n",
      "0.031 MB in 0.00378 seconds at 8.273 MB / sec\n",
      "host cache cleared\n",
      "Reading out with python-netCDF4 module...\n",
      "0.031 MB in 0.00115 seconds at 27.284 MB / sec\n",
      "Removing /app/tmp/tmpnqr002x6.nc\n",
      "Creating a time-major NetCDF file with 128x64 grid and 150 time steps\n",
      "File size: 4.70Mb\n",
      "host cache cleared\n",
      "Reading out with h5py module...\n",
      "0.031 MB in 0.00126 seconds at 24.829 MB / sec\n",
      "host cache cleared\n",
      "Reading out with python-netCDF4 module...\n",
      "0.031 MB in 0.00107 seconds at 29.114 MB / sec\n",
      "Removing /app/tmp/tmp5887w44k.nc\n",
      "Creating a time-major NetCDF file with 128x64 grid and 1800 time steps\n",
      "File size: 56.26Mb\n",
      "host cache cleared\n",
      "Reading out with h5py module...\n",
      "0.031 MB in 0.00141 seconds at 22.223 MB / sec\n",
      "host cache cleared\n",
      "Reading out with python-netCDF4 module...\n",
      "0.031 MB in 0.000825 seconds at 37.871 MB / sec\n",
      "Removing /app/tmp/tmp4_p80hy2.nc\n",
      "Creating a time-major NetCDF file with 256x128 grid and 17 time steps\n",
      "File size: 2.13Mb\n",
      "host cache cleared\n",
      "Reading out with h5py module...\n",
      "0.125 MB in 0.00203 seconds at 61.666 MB / sec\n",
      "host cache cleared\n",
      "Reading out with python-netCDF4 module...\n",
      "0.125 MB in 0.00133 seconds at 94.043 MB / sec\n",
      "Removing /app/tmp/tmpxzdaz6u8.nc\n",
      "Creating a time-major NetCDF file with 256x128 grid and 150 time steps\n",
      "File size: 18.76Mb\n",
      "host cache cleared\n",
      "Reading out with h5py module...\n",
      "0.125 MB in 0.00205 seconds at 60.999 MB / sec\n",
      "host cache cleared\n",
      "Reading out with python-netCDF4 module...\n",
      "0.125 MB in 0.00138 seconds at 90.504 MB / sec\n",
      "Removing /app/tmp/tmpv9coam3_.nc\n",
      "Creating a time-major NetCDF file with 256x128 grid and 1800 time steps\n",
      "File size: 225.01Mb\n",
      "host cache cleared\n",
      "Reading out with h5py module...\n",
      "0.125 MB in 0.00173 seconds at 72.415 MB / sec\n",
      "host cache cleared\n",
      "Reading out with python-netCDF4 module...\n",
      "0.125 MB in 0.0016 seconds at 78.194 MB / sec\n",
      "Removing /app/tmp/tmpwvw5gx4l.nc\n",
      "Creating a time-major NetCDF file with 1068x510 grid and 17 time steps\n",
      "File size: 35.34Mb\n",
      "host cache cleared\n",
      "Reading out with h5py module...\n",
      "2.078 MB in 0.0103 seconds at 200.794 MB / sec\n",
      "host cache cleared\n",
      "Reading out with python-netCDF4 module...\n",
      "2.078 MB in 0.00919 seconds at 226.096 MB / sec\n",
      "Removing /app/tmp/tmp1ghbx2li.nc\n",
      "Creating a time-major NetCDF file with 1068x510 grid and 150 time steps\n",
      "File size: 311.68Mb\n",
      "host cache cleared\n",
      "Reading out with h5py module...\n",
      "2.078 MB in 0.0112 seconds at 185.455 MB / sec\n",
      "host cache cleared\n",
      "Reading out with python-netCDF4 module...\n",
      "2.078 MB in 0.00982 seconds at 211.685 MB / sec\n",
      "Removing /app/tmp/tmpa99fk0ty.nc\n",
      "Creating a time-major NetCDF file with 1068x510 grid and 1800 time steps\n",
      "File size: 3740.04Mb\n",
      "host cache cleared\n",
      "Reading out with h5py module...\n",
      "2.078 MB in 0.0106 seconds at 195.208 MB / sec\n",
      "host cache cleared\n",
      "Reading out with python-netCDF4 module...\n",
      "2.078 MB in 0.00894 seconds at 232.291 MB / sec\n",
      "Removing /app/tmp/tmp36e3kion.nc\n",
      "Creating a time-major NetCDF file with 1680x3241 grid and 17 time steps\n",
      "File size: 353.13Mb\n",
      "host cache cleared\n",
      "Reading out with h5py module...\n",
      "20.771 MB in 0.109 seconds at 191.370 MB / sec\n",
      "host cache cleared\n",
      "Reading out with python-netCDF4 module...\n",
      "20.771 MB in 0.11 seconds at 189.284 MB / sec\n",
      "Removing /app/tmp/tmpzfny2naz.nc\n",
      "Creating a time-major NetCDF file with 1680x3241 grid and 150 time steps\n",
      "File size: 3115.61Mb\n",
      "host cache cleared\n",
      "Reading out with h5py module...\n",
      "20.771 MB in 0.119 seconds at 174.086 MB / sec\n",
      "host cache cleared\n",
      "Reading out with python-netCDF4 module...\n",
      "20.771 MB in 0.12 seconds at 173.382 MB / sec\n",
      "Removing /app/tmp/tmpiqx92o43.nc\n",
      "Creating a time-major NetCDF file with 1680x3241 grid and 1800 time steps\n",
      "File size: 37387.06Mb\n",
      "host cache cleared\n",
      "Reading out with h5py module...\n",
      "20.771 MB in 0.109 seconds at 190.622 MB / sec\n",
      "host cache cleared\n",
      "Reading out with python-netCDF4 module...\n",
      "20.771 MB in 0.11 seconds at 188.293 MB / sec\n",
      "Removing /app/tmp/tmp3pr8njoj.nc\n"
     ]
    }
   ],
   "source": [
    "results = []\n",
    "\n",
    "for grid in grids:\n",
    "    for timescale in ts:\n",
    "        testfile = write_netcdf_file(timescale, time_major=time_major, grid=grid)\n",
    "        for read_with_h5py in [True, False]:\n",
    "            !sync\n",
    "            clear_host_cache()\n",
    "            if read_with_h5py:\n",
    "                results.append(hdf5_read_test(testfile, time_major))\n",
    "            else:\n",
    "                results.append(netcdf_read_test(testfile, time_major))\n",
    "        print(\"Removing {}\".format(testfile.name))\n",
    "        os.remove(testfile.name)\n",
    "        testfile.close()\n",
    "        del testfile\n",
    "        collect()\n"
   ]
  },
  {
   "cell_type": "code",
   "execution_count": 7,
   "metadata": {
    "collapsed": false
   },
   "outputs": [
    {
     "data": {
      "text/plain": [
       "[('h5py', True, 17, 8.2726584195910124),\n",
       " ('python-netCDF4', True, 17, 27.283930058284763),\n",
       " ('h5py', True, 150, 24.828944875923469),\n",
       " ('python-netCDF4', True, 150, 29.114171479342513),\n",
       " ('h5py', True, 1800, 22.223126483553749),\n",
       " ('python-netCDF4', True, 1800, 37.871135509968219),\n",
       " ('h5py', True, 17, 61.666431427899319),\n",
       " ('python-netCDF4', True, 17, 94.042690582959636),\n",
       " ('h5py', True, 150, 60.999185573007566),\n",
       " ('python-netCDF4', True, 150, 90.503711375798375),\n",
       " ('h5py', True, 1800, 72.415469613259674),\n",
       " ('python-netCDF4', True, 1800, 78.193586875466067),\n",
       " ('h5py', True, 17, 200.79443343624717),\n",
       " ('python-netCDF4', True, 17, 226.09625113503697),\n",
       " ('h5py', True, 150, 185.45454545454547),\n",
       " ('python-netCDF4', True, 150, 211.68549151060265),\n",
       " ('h5py', True, 1800, 195.20831466714452),\n",
       " ('python-netCDF4', True, 1800, 232.29149452248313),\n",
       " ('h5py', True, 17, 191.37030927019791),\n",
       " ('python-netCDF4', True, 17, 189.28425855513308),\n",
       " ('h5py', True, 150, 174.08574991207595),\n",
       " ('python-netCDF4', True, 150, 173.38242493959743),\n",
       " ('h5py', True, 1800, 190.62161257360165),\n",
       " ('python-netCDF4', True, 1800, 188.29298446202824)]"
      ]
     },
     "execution_count": 7,
     "metadata": {},
     "output_type": "execute_result"
    }
   ],
   "source": [
    "results"
   ]
  },
  {
   "cell_type": "markdown",
   "metadata": {},
   "source": [
    "## Summarize Results"
   ]
  },
  {
   "cell_type": "code",
   "execution_count": 11,
   "metadata": {
    "collapsed": false
   },
   "outputs": [],
   "source": [
    "h5py_results = [r[3] for r in results[0::2]]\n",
    "netcdf4_results = [r[3] for r in results[1::2]]"
   ]
  },
  {
   "cell_type": "code",
   "execution_count": 12,
   "metadata": {
    "collapsed": false
   },
   "outputs": [
    {
     "data": {
      "text/plain": [
       "[8.2726584195910124,\n",
       " 24.828944875923469,\n",
       " 22.223126483553749,\n",
       " 61.666431427899319,\n",
       " 60.999185573007566,\n",
       " 72.415469613259674,\n",
       " 200.79443343624717,\n",
       " 185.45454545454547,\n",
       " 195.20831466714452,\n",
       " 191.37030927019791,\n",
       " 174.08574991207595,\n",
       " 190.62161257360165]"
      ]
     },
     "execution_count": 12,
     "metadata": {},
     "output_type": "execute_result"
    }
   ],
   "source": [
    "h5py_results"
   ]
  },
  {
   "cell_type": "code",
   "execution_count": 17,
   "metadata": {
    "collapsed": false
   },
   "outputs": [
    {
     "data": {
      "text/plain": [
       "[191.37030927019791, 174.08574991207595, 190.62161257360165]"
      ]
     },
     "execution_count": 17,
     "metadata": {},
     "output_type": "execute_result"
    }
   ],
   "source": [
    "h5py_results[9:12]"
   ]
  },
  {
   "cell_type": "code",
   "execution_count": 13,
   "metadata": {
    "collapsed": false
   },
   "outputs": [
    {
     "data": {
      "text/plain": [
       "[27.283930058284763,\n",
       " 29.114171479342513,\n",
       " 37.871135509968219,\n",
       " 94.042690582959636,\n",
       " 90.503711375798375,\n",
       " 78.193586875466067,\n",
       " 226.09625113503697,\n",
       " 211.68549151060265,\n",
       " 232.29149452248313,\n",
       " 189.28425855513308,\n",
       " 173.38242493959743,\n",
       " 188.29298446202824]"
      ]
     },
     "execution_count": 13,
     "metadata": {},
     "output_type": "execute_result"
    }
   ],
   "source": [
    "netcdf4_results"
   ]
  },
  {
   "cell_type": "code",
   "execution_count": 18,
   "metadata": {
    "collapsed": false
   },
   "outputs": [
    {
     "data": {
      "text/plain": [
       "[<matplotlib.text.Text at 0x7f8e01d5f978>,\n",
       " <matplotlib.text.Text at 0x7f8e01d44b70>,\n",
       " <matplotlib.text.Text at 0x7f8e01d98630>]"
      ]
     },
     "execution_count": 18,
     "metadata": {},
     "output_type": "execute_result"
    },
    {
     "data": {
      "image/png": "[encoded data removed]",
      "text/plain": [
       "<matplotlib.figure.Figure at 0x7f8e0906d6a0>"
      ]
     },
     "metadata": {},
     "output_type": "display_data"
    }
   ],
   "source": [
    "import matplotlib.pyplot as plt\n",
    "%matplotlib inline\n",
    "\n",
    "f, (ax1, ax2, ax3, ax4) = plt.subplots(4, 1)\n",
    "f.set_size_inches(12, 12)\n",
    "\n",
    "ax1.plot(h5py_results[0:3], label=\"hdf5\")\n",
    "ax1.plot(netcdf4_results[0:3], label=\"netcdf4\")\n",
    "ax1.legend()\n",
    "ax1.set_title(\"world_250k\")\n",
    "ax1.set_xticks(range(len(ts)))\n",
    "ax1.set_xticklabels([len(x) for x in ts])\n",
    "\n",
    "ax2.plot(h5py_results[3:6], label=\"hdf5\")\n",
    "ax2.plot(netcdf4_results[3:6], label=\"netcdf4\")\n",
    "ax2.set_title(\"world_125k\")\n",
    "ax2.set_xticks(range(len(ts)))\n",
    "ax2.set_xticklabels([len(x) for x in ts])\n",
    "\n",
    "ax3.plot(h5py_results[6:9], label=\"hdf5\")\n",
    "ax3.plot(netcdf4_results[6:9], label=\"netcdf4\")\n",
    "ax3.set_title(\"canada_5k\")\n",
    "ax3.set_xticks(range(len(ts)))\n",
    "ax3.set_xticklabels([len(x) for x in ts])\n",
    "\n",
    "ax4.plot(h5py_results[9:12], label=\"hdf5\")\n",
    "ax4.plot(netcdf4_results[9:12], label=\"netcdf4\")\n",
    "ax4.set_title(\"bc_400m\")\n",
    "ax4.set_xticks(range(len(ts)))\n",
    "ax4.set_xticklabels([len(x) for x in ts])"
   ]
  },
  {
   "cell_type": "markdown",
   "metadata": {},
   "source": [
    "### NetCDF file readout using python-netcdf4 is generally faster than with hdf5"
   ]
  },
  {
   "cell_type": "code",
   "execution_count": null,
   "metadata": {
    "collapsed": true
   },
   "outputs": [],
   "source": []
  }
 ],
 "metadata": {
  "kernelspec": {
   "display_name": "Python 3",
   "language": "python",
   "name": "python3"
  },
  "language_info": {
   "codemirror_mode": {
    "name": "ipython",
    "version": 3
   },
   "file_extension": ".py",
   "mimetype": "text/x-python",
   "name": "python",
   "nbconvert_exporter": "python",
   "pygments_lexer": "ipython3",
   "version": "3.4.0"
  }
 },
 "nbformat": 4,
 "nbformat_minor": 0
}
