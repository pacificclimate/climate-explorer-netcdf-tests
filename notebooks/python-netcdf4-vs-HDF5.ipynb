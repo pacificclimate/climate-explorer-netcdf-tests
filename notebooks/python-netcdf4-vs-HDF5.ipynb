{
 "cells": [
  {
   "cell_type": "code",
   "execution_count": 32,
   "metadata": {
    "collapsed": true
   },
   "outputs": [],
   "source": [
    "import sys\n",
    "import os\n",
    "from tempfile import NamedTemporaryFile\n",
    "from gc import collect\n",
    "\n",
    "sys.path.append('../util')\n",
    "from meters import ThroughputMeter\n",
    "import ncgen\n",
    "\n",
    "import netCDF4\n",
    "import h5py\n",
    "import numpy as np\n",
    "import pylab as pl\n",
    "\n",
    "os.environ['TMPDIR'] = os.getenv('HOME') + '/tmp/'"
   ]
  },
  {
   "cell_type": "markdown",
   "metadata": {},
   "source": [
    "## Test throughput reading data via h5py, followed by via python-netcdf4:"
   ]
  },
  {
   "cell_type": "code",
   "execution_count": 43,
   "metadata": {
    "collapsed": false
   },
   "outputs": [
    {
     "name": "stdout",
     "output_type": "stream",
     "text": [
      "Creating a NetCDF file with 1 variables\n",
      "Reading out with h5py module...\n",
      "353.100 MB in 0.132 seconds at 2679.543 MB / sec\n",
      "Reading out with python-netCDF4 module...\n",
      "353.100 MB in 0.17 seconds at 2071.501 MB / sec\n",
      "Removing /tmp/tmpowifah0j.nc\n",
      "Creating a NetCDF file with 3 variables\n",
      "Reading out with h5py module...\n",
      "353.100 MB in 0.132 seconds at 2682.183 MB / sec\n",
      "Reading out with python-netCDF4 module...\n",
      "353.100 MB in 0.174 seconds at 2027.550 MB / sec\n",
      "Removing /tmp/tmpbrx6sm6d.nc\n",
      "Creating a NetCDF file with 5 variables\n",
      "Reading out with h5py module...\n",
      "353.100 MB in 0.132 seconds at 2668.640 MB / sec\n",
      "Reading out with python-netCDF4 module...\n",
      "353.100 MB in 0.17 seconds at 2073.468 MB / sec\n",
      "Removing /tmp/tmpcpvcdwdx.nc\n",
      "Creating a NetCDF file with 7 variables\n",
      "Reading out with h5py module...\n",
      "353.100 MB in 0.131 seconds at 2692.266 MB / sec\n",
      "Reading out with python-netCDF4 module...\n",
      "353.100 MB in 0.171 seconds at 2061.760 MB / sec\n",
      "Removing /tmp/tmpqaip40wz.nc\n",
      "Creating a NetCDF file with 9 variables\n",
      "Reading out with h5py module...\n",
      "353.100 MB in 0.132 seconds at 2673.453 MB / sec\n",
      "Reading out with python-netCDF4 module...\n",
      "353.100 MB in 0.171 seconds at 2062.213 MB / sec\n",
      "Removing /tmp/tmppe4nyurz.nc\n",
      "Creating a NetCDF file with 11 variables\n",
      "Reading out with h5py module...\n",
      "353.100 MB in 0.135 seconds at 2614.353 MB / sec\n",
      "Reading out with python-netCDF4 module...\n",
      "353.100 MB in 0.172 seconds at 2051.007 MB / sec\n",
      "Removing /tmp/tmpl2s88ij6.nc\n",
      "Creating a NetCDF file with 13 variables\n",
      "Reading out with h5py module...\n",
      "353.100 MB in 1.71 seconds at 206.105 MB / sec\n",
      "Reading out with python-netCDF4 module...\n",
      "353.100 MB in 0.273 seconds at 1293.240 MB / sec\n",
      "Removing /tmp/tmprz6194f2.nc\n",
      "Creating a NetCDF file with 15 variables\n",
      "Reading out with h5py module...\n",
      "353.100 MB in 1.71 seconds at 206.327 MB / sec\n",
      "Reading out with python-netCDF4 module...\n",
      "353.100 MB in 0.288 seconds at 1227.821 MB / sec\n",
      "Removing /tmp/tmp9vhaxlzf.nc\n",
      "Creating a NetCDF file with 17 variables\n",
      "Reading out with h5py module...\n",
      "353.100 MB in 1.62 seconds at 218.109 MB / sec\n",
      "Reading out with python-netCDF4 module...\n",
      "353.100 MB in 0.288 seconds at 1227.686 MB / sec\n",
      "Removing /tmp/tmpn1bc9h0t.nc\n",
      "Creating a NetCDF file with 19 variables\n",
      "Reading out with h5py module...\n",
      "353.100 MB in 1.73 seconds at 203.546 MB / sec\n",
      "Reading out with python-netCDF4 module...\n",
      "353.100 MB in 0.288 seconds at 1226.102 MB / sec\n",
      "Removing /tmp/tmpy996ky6a.nc\n"
     ]
    }
   ],
   "source": [
    "results = []\n",
    "for num_vars in range(1, 20, 2):\n",
    "    print(\"Creating a NetCDF file with {} variables\".format(num_vars))\n",
    "    with NamedTemporaryFile(suffix='.nc', delete=False) as f:\n",
    "        nc = ncgen.make_multivariable_nc(f.name, num_vars=num_vars, unlim=True)\n",
    "        nc.close()\n",
    "    for read_with_h5py in [True, False]:\n",
    "        if read_with_h5py:\n",
    "            print(\"Reading out with h5py module...\")\n",
    "            nc = h5py.File(f.name, 'r')\n",
    "            with ThroughputMeter() as t:\n",
    "                a = nc['var_0'][:, :, :]\n",
    "            nc.close()\n",
    "        else:\n",
    "            print(\"Reading out with python-netCDF4 module...\")\n",
    "            nc = netCDF4.Dataset(f.name, 'r')\n",
    "            with ThroughputMeter() as t:\n",
    "                a = nc.variables['var_0'][:, :, :]\n",
    "            nc.close()\n",
    "        results.append((read_with_h5py, num_vars, t.megabytes_per_second(a)))\n",
    "        del a\n",
    "# python-netCDF4 seems to leak file descriptors\n",
    "    # We have to take a lot of steps to make sure that the files get closed and that\n",
    "    # the space gets reclaimed by the OS\n",
    "    f.close()\n",
    "    del nc\n",
    "    print(\"Removing {}\".format(f.name))\n",
    "    os.remove(f.name)\n",
    "#    f.close()\n",
    "    collect()"
   ]
  },
  {
   "cell_type": "code",
   "execution_count": 44,
   "metadata": {
    "collapsed": false
   },
   "outputs": [
    {
     "data": {
      "text/plain": [
       "[(True, 1, 2679.5426888290222),\n",
       " (False, 1, 2071.5012084862592),\n",
       " (True, 3, 2682.1826084594277),\n",
       " (False, 3, 2027.5495658792895),\n",
       " (True, 5, 2668.6404056457409),\n",
       " (False, 5, 2073.467531703875),\n",
       " (True, 7, 2692.2658367524273),\n",
       " (False, 7, 2061.7597122181974),\n",
       " (True, 9, 2673.4529070271205),\n",
       " (False, 9, 2062.213310608719),\n",
       " (True, 11, 2614.3528493833087),\n",
       " (False, 11, 2051.0067471000766),\n",
       " (True, 13, 206.10492845786965),\n",
       " (False, 13, 1293.2404812821617),\n",
       " (True, 15, 206.32679801208391),\n",
       " (False, 15, 1227.8208733485435),\n",
       " (True, 17, 218.10853857549176),\n",
       " (False, 17, 1227.6855051763971),\n",
       " (True, 19, 203.54579688951682),\n",
       " (False, 19, 1226.1019836923451)]"
      ]
     },
     "execution_count": 44,
     "metadata": {},
     "output_type": "execute_result"
    }
   ],
   "source": [
    "results"
   ]
  },
  {
   "cell_type": "code",
   "execution_count": 53,
   "metadata": {
    "collapsed": true
   },
   "outputs": [],
   "source": [
    "h5py_result_indices = [0,2,4,6,8,10,12,14,16,18]\n",
    "python_netcdf4_indices = [1,3,5,7,9,11,13,15,17,19]"
   ]
  },
  {
   "cell_type": "code",
   "execution_count": 45,
   "metadata": {
    "collapsed": true
   },
   "outputs": [],
   "source": [
    "a = np.array([results[ind] for ind in h5py_result_indices])"
   ]
  },
  {
   "cell_type": "code",
   "execution_count": 46,
   "metadata": {
    "collapsed": true
   },
   "outputs": [],
   "source": [
    "b = np.array([results[ind] for ind in python_netcdf4_indices])"
   ]
  },
  {
   "cell_type": "code",
   "execution_count": 47,
   "metadata": {
    "collapsed": false
   },
   "outputs": [
    {
     "data": {
      "text/plain": [
       "[<matplotlib.lines.Line2D at 0x7f8b64706080>,\n",
       " <matplotlib.lines.Line2D at 0x7f8b646d3c50>,\n",
       " <matplotlib.lines.Line2D at 0x7f8b646d3eb8>]"
      ]
     },
     "execution_count": 47,
     "metadata": {},
     "output_type": "execute_result"
    },
    {
     "data": {
      "image/png": "[encoded data removed]",
      "text/plain": [
       "<matplotlib.figure.Figure at 0x7f8b64706f60>"
      ]
     },
     "metadata": {},
     "output_type": "display_data"
    }
   ],
   "source": [
    "%matplotlib inline\n",
    "pl.plot(range(1, 20, 2), a)\n",
    "pl.plot(range(1, 20, 2), b)"
   ]
  },
  {
   "cell_type": "markdown",
   "metadata": {},
   "source": [
    "h5py is in yellow, python-netcdf4 is in red"
   ]
  },
  {
   "cell_type": "code",
   "execution_count": 48,
   "metadata": {
    "collapsed": false
   },
   "outputs": [
    {
     "name": "stdout",
     "output_type": "stream",
     "text": [
      "             total       used       free     shared    buffers     cached\r\n",
      "Mem:          7681       1871       5810        374         42        960\r\n",
      "-/+ buffers/cache:        868       6812\r\n",
      "Swap:            0          0          0\r\n"
     ]
    }
   ],
   "source": [
    "!free -m"
   ]
  },
  {
   "cell_type": "code",
   "execution_count": 49,
   "metadata": {
    "collapsed": false
   },
   "outputs": [
    {
     "name": "stdout",
     "output_type": "stream",
     "text": [
      "Filesystem      Size  Used Avail Use% Mounted on\r\n",
      "/dev/sda1       107G   36G   66G  35% /\r\n",
      "none            4.0K     0  4.0K   0% /sys/fs/cgroup\r\n",
      "udev            3.8G  4.0K  3.8G   1% /dev\r\n",
      "tmpfs           769M  1.3M  767M   1% /run\r\n",
      "none            5.0M     0  5.0M   0% /run/lock\r\n",
      "none            3.8G  156K  3.8G   1% /run/shm\r\n",
      "none            100M   32K  100M   1% /run/user\r\n"
     ]
    }
   ],
   "source": [
    "!df -h"
   ]
  },
  {
   "cell_type": "markdown",
   "metadata": {},
   "source": [
    "## and with the order reversed (python-netcdf4 read followed by hdf5 read)..."
   ]
  },
  {
   "cell_type": "code",
   "execution_count": 50,
   "metadata": {
    "collapsed": false
   },
   "outputs": [
    {
     "name": "stdout",
     "output_type": "stream",
     "text": [
      "Creating a NetCDF file with 1 variables\n",
      "Reading out with python-netCDF4 module...\n",
      "353.100 MB in 0.18 seconds at 1956.445 MB / sec\n",
      "Reading out with h5py module...\n",
      "353.100 MB in 0.127 seconds at 2776.370 MB / sec\n",
      "Removing /tmp/tmprsakcrh2.nc\n",
      "Creating a NetCDF file with 3 variables\n",
      "Reading out with python-netCDF4 module...\n",
      "353.100 MB in 0.18 seconds at 1963.271 MB / sec\n",
      "Reading out with h5py module...\n",
      "353.100 MB in 0.127 seconds at 2789.112 MB / sec\n",
      "Removing /tmp/tmp3vowd0t4.nc\n",
      "Creating a NetCDF file with 5 variables\n",
      "Reading out with python-netCDF4 module...\n",
      "353.100 MB in 0.181 seconds at 1955.089 MB / sec\n",
      "Reading out with h5py module...\n",
      "353.100 MB in 0.127 seconds at 2789.133 MB / sec\n",
      "Removing /tmp/tmp5cyowfs6.nc\n",
      "Creating a NetCDF file with 7 variables\n",
      "Reading out with python-netCDF4 module...\n",
      "353.100 MB in 0.184 seconds at 1920.632 MB / sec\n",
      "Reading out with h5py module...\n",
      "353.100 MB in 0.125 seconds at 2831.911 MB / sec\n",
      "Removing /tmp/tmpi4obozgk.nc\n",
      "Creating a NetCDF file with 9 variables\n",
      "Reading out with python-netCDF4 module...\n",
      "353.100 MB in 0.182 seconds at 1942.116 MB / sec\n",
      "Reading out with h5py module...\n",
      "353.100 MB in 0.128 seconds at 2764.425 MB / sec\n",
      "Removing /tmp/tmp8hzcfvnr.nc\n",
      "Creating a NetCDF file with 11 variables\n",
      "Reading out with python-netCDF4 module...\n",
      "353.100 MB in 0.18 seconds at 1964.498 MB / sec\n",
      "Reading out with h5py module...\n",
      "353.100 MB in 0.125 seconds at 2820.590 MB / sec\n",
      "Removing /tmp/tmp_gl635kk.nc\n",
      "Creating a NetCDF file with 13 variables\n",
      "Reading out with python-netCDF4 module...\n",
      "353.100 MB in 1.43 seconds at 247.129 MB / sec\n",
      "Reading out with h5py module...\n",
      "353.100 MB in 0.181 seconds at 1947.361 MB / sec\n",
      "Removing /tmp/tmpikv5r4zv.nc\n",
      "Creating a NetCDF file with 15 variables\n",
      "Reading out with python-netCDF4 module...\n",
      "353.100 MB in 1.66 seconds at 212.991 MB / sec\n",
      "Reading out with h5py module...\n",
      "353.100 MB in 0.197 seconds at 1794.297 MB / sec\n",
      "Removing /tmp/tmpbsit8c8g.nc\n",
      "Creating a NetCDF file with 17 variables\n",
      "Reading out with python-netCDF4 module...\n",
      "353.100 MB in 1.77 seconds at 198.957 MB / sec\n",
      "Reading out with h5py module...\n",
      "353.100 MB in 0.188 seconds at 1880.821 MB / sec\n",
      "Removing /tmp/tmphp2pepqr.nc\n",
      "Creating a NetCDF file with 19 variables\n",
      "Reading out with python-netCDF4 module...\n",
      "353.100 MB in 1.74 seconds at 202.394 MB / sec\n",
      "Reading out with h5py module...\n",
      "353.100 MB in 0.174 seconds at 2026.975 MB / sec\n",
      "Removing /tmp/tmp9h8455ii.nc\n"
     ]
    }
   ],
   "source": [
    "results = []\n",
    "for num_vars in range(1, 20, 2):\n",
    "    print(\"Creating a NetCDF file with {} variables\".format(num_vars))\n",
    "    with NamedTemporaryFile(suffix='.nc', delete=False) as f:\n",
    "        nc = ncgen.make_multivariable_nc(f.name, num_vars=num_vars, unlim=True)\n",
    "        nc.close()\n",
    "    for read_with_h5py in [False, True]:\n",
    "        if read_with_h5py:\n",
    "            print(\"Reading out with h5py module...\")\n",
    "            nc = h5py.File(f.name, 'r')\n",
    "            with ThroughputMeter() as t:\n",
    "                a = nc['var_0'][:, :, :]\n",
    "            nc.close()\n",
    "        else:\n",
    "            print(\"Reading out with python-netCDF4 module...\")\n",
    "            nc = netCDF4.Dataset(f.name, 'r')\n",
    "            with ThroughputMeter() as t:\n",
    "                a = nc.variables['var_0'][:, :, :]\n",
    "            nc.close()\n",
    "        results.append((read_with_h5py, num_vars, t.megabytes_per_second(a)))\n",
    "        del a\n",
    "# python-netCDF4 seems to leak file descriptors\n",
    "    # We have to take a lot of steps to make sure that the files get closed and that\n",
    "    # the space gets reclaimed by the OS\n",
    "    f.close()\n",
    "    del nc\n",
    "    print(\"Removing {}\".format(f.name))\n",
    "    os.remove(f.name)\n",
    "#    f.close()\n",
    "    collect()"
   ]
  },
  {
   "cell_type": "code",
   "execution_count": 51,
   "metadata": {
    "collapsed": false
   },
   "outputs": [
    {
     "data": {
      "text/plain": [
       "[(False, 1, 1956.4450209976631),\n",
       " (True, 1, 2776.3699658626292),\n",
       " (False, 3, 1963.2711832726416),\n",
       " (True, 3, 2789.1120837068452),\n",
       " (False, 5, 1955.0890940629481),\n",
       " (True, 5, 2789.1330942839063),\n",
       " (False, 7, 1920.6324438726813),\n",
       " (True, 7, 2831.911061990053),\n",
       " (False, 9, 1942.1162536357128),\n",
       " (True, 9, 2764.4247001332742),\n",
       " (False, 11, 1964.4977622611377),\n",
       " (True, 11, 2820.5903212904946),\n",
       " (False, 13, 247.12876679687167),\n",
       " (True, 13, 1947.3614895071794),\n",
       " (False, 15, 212.99100006040229),\n",
       " (True, 15, 1794.2969988987118),\n",
       " (False, 17, 198.95661276236518),\n",
       " (True, 17, 1880.8210041324519),\n",
       " (False, 19, 202.39402654970053),\n",
       " (True, 19, 2026.9751412785072)]"
      ]
     },
     "execution_count": 51,
     "metadata": {},
     "output_type": "execute_result"
    }
   ],
   "source": [
    "results"
   ]
  },
  {
   "cell_type": "code",
   "execution_count": 52,
   "metadata": {
    "collapsed": false
   },
   "outputs": [
    {
     "data": {
      "text/plain": [
       "[<matplotlib.lines.Line2D at 0x7f8b6471c2b0>,\n",
       " <matplotlib.lines.Line2D at 0x7f8b6457d240>,\n",
       " <matplotlib.lines.Line2D at 0x7f8b6457d4a8>]"
      ]
     },
     "execution_count": 52,
     "metadata": {},
     "output_type": "execute_result"
    },
    {
     "data": {
      "image/png": "[encoded data removed]",
      "text/plain": [
       "<matplotlib.figure.Figure at 0x7f8b6471cc50>"
      ]
     },
     "metadata": {},
     "output_type": "display_data"
    }
   ],
   "source": [
    "python_netcdf4_indices = [0,2,4,6,8,10,12,14,16,18]\n",
    "h5py_result_indices = [1,3,5,7,9,11,13,15,17,19]\n",
    "a = np.array([results[ind] for ind in h5py_result_indices])\n",
    "b = np.array([results[ind] for ind in python_netcdf4_indices])\n",
    "%matplotlib inline\n",
    "pl.plot(range(1, 20, 2), a)\n",
    "pl.plot(range(1, 20, 2), b)"
   ]
  },
  {
   "cell_type": "markdown",
   "metadata": {},
   "source": [
    "The throughput for readout via h5py is in red, via python-netcdf4 is in yellow."
   ]
  },
  {
   "cell_type": "markdown",
   "metadata": {},
   "source": [
    "h5py has an overall average higher read throughput at < 13 variables (~2700MB/sec), but at >=13 variables both suffer a significant performance hit. The order the test is run (i.e. h5py then python-netcdf4, or vice-versa) may have some effect.  What follows are standalone tests:"
   ]
  },
  {
   "cell_type": "markdown",
   "metadata": {},
   "source": [
    "## h5py read out only"
   ]
  },
  {
   "cell_type": "code",
   "execution_count": 54,
   "metadata": {
    "collapsed": false
   },
   "outputs": [
    {
     "name": "stdout",
     "output_type": "stream",
     "text": [
      "Creating a NetCDF file with 1 variables\n",
      "Reading out with h5py module...\n",
      "353.100 MB in 0.132 seconds at 2681.323 MB / sec\n",
      "Removing /tmp/tmpvgrr40zc.nc\n",
      "Creating a NetCDF file with 3 variables\n",
      "Reading out with h5py module...\n",
      "353.100 MB in 0.135 seconds at 2608.289 MB / sec\n",
      "Removing /tmp/tmpsknfzf7_.nc\n",
      "Creating a NetCDF file with 5 variables\n",
      "Reading out with h5py module...\n",
      "353.100 MB in 0.133 seconds at 2652.467 MB / sec\n",
      "Removing /tmp/tmp29ft_9r7.nc\n",
      "Creating a NetCDF file with 7 variables\n",
      "Reading out with h5py module...\n",
      "353.100 MB in 0.133 seconds at 2664.789 MB / sec\n",
      "Removing /tmp/tmpytbfyu4n.nc\n",
      "Creating a NetCDF file with 9 variables\n",
      "Reading out with h5py module...\n",
      "353.100 MB in 0.132 seconds at 2668.943 MB / sec\n",
      "Removing /tmp/tmpdcu7sn_3.nc\n",
      "Creating a NetCDF file with 11 variables\n",
      "Reading out with h5py module...\n",
      "353.100 MB in 0.133 seconds at 2655.525 MB / sec\n",
      "Removing /tmp/tmpiyzb8cgt.nc\n",
      "Creating a NetCDF file with 13 variables\n",
      "Reading out with h5py module...\n",
      "353.100 MB in 1.65 seconds at 214.550 MB / sec\n",
      "Removing /tmp/tmpz2s9kivw.nc\n",
      "Creating a NetCDF file with 15 variables\n",
      "Reading out with h5py module...\n",
      "353.100 MB in 1.75 seconds at 201.559 MB / sec\n",
      "Removing /tmp/tmpya8midpr.nc\n",
      "Creating a NetCDF file with 17 variables\n",
      "Reading out with h5py module...\n",
      "353.100 MB in 1.71 seconds at 206.530 MB / sec\n",
      "Removing /tmp/tmpvpjen0nb.nc\n",
      "Creating a NetCDF file with 19 variables\n",
      "Reading out with h5py module...\n",
      "353.100 MB in 1.55 seconds at 228.118 MB / sec\n",
      "Removing /tmp/tmpdi2g59h2.nc\n"
     ]
    }
   ],
   "source": [
    "results = []\n",
    "for num_vars in range(1, 20, 2):\n",
    "    print(\"Creating a NetCDF file with {} variables\".format(num_vars))\n",
    "    with NamedTemporaryFile(suffix='.nc', delete=False) as f:\n",
    "        nc = ncgen.make_multivariable_nc(f.name, num_vars=num_vars, unlim=True)\n",
    "        nc.close()\n",
    "        print(\"Reading out with h5py module...\")\n",
    "        nc = h5py.File(f.name, 'r')\n",
    "        with ThroughputMeter() as t:\n",
    "            a = nc['var_0'][:, :, :]\n",
    "        nc.close()\n",
    "        results.append((read_with_h5py, num_vars, t.megabytes_per_second(a)))\n",
    "        del a\n",
    "# python-netCDF4 seems to leak file descriptors\n",
    "    # We have to take a lot of steps to make sure that the files get closed and that\n",
    "    # the space gets reclaimed by the OS\n",
    "        f.close()\n",
    "        del nc\n",
    "        print(\"Removing {}\".format(f.name))\n",
    "        os.remove(f.name)\n",
    "        collect()"
   ]
  },
  {
   "cell_type": "code",
   "execution_count": 55,
   "metadata": {
    "collapsed": false
   },
   "outputs": [
    {
     "data": {
      "text/plain": [
       "[(True, 1, 2681.3230933008895),\n",
       " (True, 3, 2608.2889990982867),\n",
       " (True, 5, 2652.4665667295303),\n",
       " (True, 7, 2664.7894358987278),\n",
       " (True, 9, 2668.9433848016956),\n",
       " (True, 11, 2655.5246831675358),\n",
       " (True, 13, 214.55034686432822),\n",
       " (True, 15, 201.55886292513944),\n",
       " (True, 17, 206.52987605061617),\n",
       " (True, 19, 228.1183960938192)]"
      ]
     },
     "execution_count": 55,
     "metadata": {},
     "output_type": "execute_result"
    }
   ],
   "source": [
    "results"
   ]
  },
  {
   "cell_type": "code",
   "execution_count": 61,
   "metadata": {
    "collapsed": false
   },
   "outputs": [
    {
     "data": {
      "text/plain": [
       "[<matplotlib.lines.Line2D at 0x7f8b6452c4a8>,\n",
       " <matplotlib.lines.Line2D at 0x7f8b64528ef0>,\n",
       " <matplotlib.lines.Line2D at 0x7f8b6196dc50>]"
      ]
     },
     "execution_count": 61,
     "metadata": {},
     "output_type": "execute_result"
    },
    {
     "data": {
      "image/png": "[encoded data removed]",
      "text/plain": [
       "<matplotlib.figure.Figure at 0x7f8b6479ec18>"
      ]
     },
     "metadata": {},
     "output_type": "display_data"
    }
   ],
   "source": [
    "a = np.array(results)\n",
    "%matplotlib inline\n",
    "pl.plot(range(1, 20, 2), a)"
   ]
  },
  {
   "cell_type": "code",
   "execution_count": 57,
   "metadata": {
    "collapsed": false
   },
   "outputs": [
    {
     "name": "stdout",
     "output_type": "stream",
     "text": [
      "             total       used       free     shared    buffers     cached\r\n",
      "Mem:          7681       1886       5795        372         42        957\r\n",
      "-/+ buffers/cache:        885       6795\r\n",
      "Swap:            0          0          0\r\n"
     ]
    }
   ],
   "source": [
    "!free -m"
   ]
  },
  {
   "cell_type": "code",
   "execution_count": 58,
   "metadata": {
    "collapsed": false
   },
   "outputs": [
    {
     "name": "stdout",
     "output_type": "stream",
     "text": [
      "Filesystem      Size  Used Avail Use% Mounted on\r\n",
      "/dev/sda1       107G   36G   66G  35% /\r\n",
      "none            4.0K     0  4.0K   0% /sys/fs/cgroup\r\n",
      "udev            3.8G  4.0K  3.8G   1% /dev\r\n",
      "tmpfs           769M  1.3M  767M   1% /run\r\n",
      "none            5.0M     0  5.0M   0% /run/lock\r\n",
      "none            3.8G  156K  3.8G   1% /run/shm\r\n",
      "none            100M   32K  100M   1% /run/user\r\n"
     ]
    }
   ],
   "source": [
    "!df -h"
   ]
  },
  {
   "cell_type": "markdown",
   "metadata": {},
   "source": [
    "## python-netcdf4 read out only"
   ]
  },
  {
   "cell_type": "code",
   "execution_count": 62,
   "metadata": {
    "collapsed": false
   },
   "outputs": [
    {
     "name": "stdout",
     "output_type": "stream",
     "text": [
      "Creating a NetCDF file with 1 variables\n",
      "Reading out with python-netCDF4 module...\n",
      "353.100 MB in 0.182 seconds at 1944.623 MB / sec\n",
      "Removing /tmp/tmpmj2yg5sz.nc\n",
      "Creating a NetCDF file with 3 variables\n",
      "Reading out with python-netCDF4 module...\n",
      "353.100 MB in 0.179 seconds at 1969.642 MB / sec\n",
      "Removing /tmp/tmpugh3t7u0.nc\n",
      "Creating a NetCDF file with 5 variables\n",
      "Reading out with python-netCDF4 module...\n",
      "353.100 MB in 0.186 seconds at 1894.031 MB / sec\n",
      "Removing /tmp/tmpu98z2zks.nc\n",
      "Creating a NetCDF file with 7 variables\n",
      "Reading out with python-netCDF4 module...\n",
      "353.100 MB in 0.181 seconds at 1951.338 MB / sec\n",
      "Removing /tmp/tmphkhagdxt.nc\n",
      "Creating a NetCDF file with 9 variables\n",
      "Reading out with python-netCDF4 module...\n",
      "353.100 MB in 0.181 seconds at 1955.593 MB / sec\n",
      "Removing /tmp/tmpze1xinwi.nc\n",
      "Creating a NetCDF file with 11 variables\n",
      "Reading out with python-netCDF4 module...\n",
      "353.100 MB in 0.182 seconds at 1939.458 MB / sec\n",
      "Removing /tmp/tmphy8p3z4x.nc\n",
      "Creating a NetCDF file with 13 variables\n",
      "Reading out with python-netCDF4 module...\n",
      "353.100 MB in 1.8 seconds at 196.282 MB / sec\n",
      "Removing /tmp/tmpxd8u6_yy.nc\n",
      "Creating a NetCDF file with 15 variables\n",
      "Reading out with python-netCDF4 module...\n",
      "353.100 MB in 1.84 seconds at 191.684 MB / sec\n",
      "Removing /tmp/tmpyt61ft3h.nc\n",
      "Creating a NetCDF file with 17 variables\n",
      "Reading out with python-netCDF4 module...\n",
      "353.100 MB in 1.83 seconds at 192.536 MB / sec\n",
      "Removing /tmp/tmpsmmxbsli.nc\n",
      "Creating a NetCDF file with 19 variables\n",
      "Reading out with python-netCDF4 module...\n",
      "353.100 MB in 1.67 seconds at 211.344 MB / sec\n",
      "Removing /tmp/tmpfoz2uk8v.nc\n"
     ]
    }
   ],
   "source": [
    "results = []\n",
    "for num_vars in range(1, 20, 2):\n",
    "    print(\"Creating a NetCDF file with {} variables\".format(num_vars))\n",
    "    with NamedTemporaryFile(suffix='.nc', delete=False) as f:\n",
    "        nc = ncgen.make_multivariable_nc(f.name, num_vars=num_vars, unlim=True)\n",
    "        nc.close()\n",
    "        print(\"Reading out with python-netCDF4 module...\")\n",
    "        nc = netCDF4.Dataset(f.name, 'r')\n",
    "        with ThroughputMeter() as t:\n",
    "            a = nc.variables['var_0'][:, :, :]\n",
    "        nc.close()\n",
    "        results.append((num_vars, t.megabytes_per_second(a)))\n",
    "        del a\n",
    "# python-netCDF4 seems to leak file descriptors\n",
    "    # We have to take a lot of steps to make sure that the files get closed and that\n",
    "    # the space gets reclaimed by the OS\n",
    "        f.close()\n",
    "        del nc\n",
    "        print(\"Removing {}\".format(f.name))\n",
    "        os.remove(f.name)\n",
    "        collect()"
   ]
  },
  {
   "cell_type": "code",
   "execution_count": 63,
   "metadata": {
    "collapsed": false
   },
   "outputs": [
    {
     "data": {
      "text/plain": [
       "[(1, 1944.6229800509723),\n",
       " (3, 1969.6420748566663),\n",
       " (5, 1894.0311586399876),\n",
       " (7, 1951.3384718763587),\n",
       " (9, 1955.5925046116629),\n",
       " (11, 1939.4584995920741),\n",
       " (13, 196.28241625766969),\n",
       " (15, 191.68368233784074),\n",
       " (17, 192.53552951882608),\n",
       " (19, 211.34443934994141)]"
      ]
     },
     "execution_count": 63,
     "metadata": {},
     "output_type": "execute_result"
    }
   ],
   "source": [
    "results"
   ]
  },
  {
   "cell_type": "code",
   "execution_count": 64,
   "metadata": {
    "collapsed": false
   },
   "outputs": [
    {
     "data": {
      "text/plain": [
       "[<matplotlib.lines.Line2D at 0x7f8b618f65f8>,\n",
       " <matplotlib.lines.Line2D at 0x7f8b618f6978>]"
      ]
     },
     "execution_count": 64,
     "metadata": {},
     "output_type": "execute_result"
    },
    {
     "data": {
      "image/png": "[encoded data removed]",
      "text/plain": [
       "<matplotlib.figure.Figure at 0x7f8b61963c88>"
      ]
     },
     "metadata": {},
     "output_type": "display_data"
    }
   ],
   "source": [
    "b = np.array(results)\n",
    "%matplotlib inline\n",
    "pl.plot(range(1, 20, 2), b)"
   ]
  },
  {
   "cell_type": "code",
   "execution_count": 65,
   "metadata": {
    "collapsed": false
   },
   "outputs": [
    {
     "name": "stdout",
     "output_type": "stream",
     "text": [
      "             total       used       free     shared    buffers     cached\r\n",
      "Mem:          7681       1890       5790        375         42        960\r\n",
      "-/+ buffers/cache:        887       6794\r\n",
      "Swap:            0          0          0\r\n"
     ]
    }
   ],
   "source": [
    "!free -m"
   ]
  },
  {
   "cell_type": "code",
   "execution_count": 66,
   "metadata": {
    "collapsed": false
   },
   "outputs": [
    {
     "name": "stdout",
     "output_type": "stream",
     "text": [
      "Filesystem      Size  Used Avail Use% Mounted on\r\n",
      "/dev/sda1       107G   36G   66G  35% /\r\n",
      "none            4.0K     0  4.0K   0% /sys/fs/cgroup\r\n",
      "udev            3.8G  4.0K  3.8G   1% /dev\r\n",
      "tmpfs           769M  1.3M  767M   1% /run\r\n",
      "none            5.0M     0  5.0M   0% /run/lock\r\n",
      "none            3.8G  156K  3.8G   1% /run/shm\r\n",
      "none            100M   32K  100M   1% /run/user\r\n"
     ]
    }
   ],
   "source": [
    "!df -h"
   ]
  },
  {
   "cell_type": "markdown",
   "metadata": {},
   "source": [
    "## Summary\n",
    "NetCDF file readout using hdf5 appears to be faster than with python-netcdf4, even after suffering a ~10x performance hit at >= 13 variables"
   ]
  },
  {
   "cell_type": "code",
   "execution_count": 72,
   "metadata": {
    "collapsed": false
   },
   "outputs": [
    {
     "name": "stdout",
     "output_type": "stream",
     "text": [
      "hdf5 is 26.8% faster than python-netcdf4 for reading from NetCDF files with small numbers of variables (<13)\n",
      "hdf5 is 6.9% faster than python-netcdf4 for reading from NetCDF files with large numbers of variables (>13)\n"
     ]
    }
   ],
   "source": [
    "hdf5_small_file_avg_throughput = np.average([2681, 2608, 2652, 2664, 2668, 2655])\n",
    "hdf5_large_file_avg_throughput = np.average([214, 201, 206, 228])\n",
    "python_netcdf4_small_file_avg_throughput = np.average([1944, 1969, 1894, 1951, 1955, 1939])\n",
    "python_netcdf4_large_file_avg_throughput = np.average([196, 191, 192, 211])\n",
    "percent_diff_small = (1 - (python_netcdf4_small_file_avg_throughput / hdf5_small_file_avg_throughput)) * 100\n",
    "percent_diff_large = (1 - (python_netcdf4_large_file_avg_throughput / hdf5_large_file_avg_throughput)) * 100\n",
    "print('hdf5 is {0:2.1f}% faster than python-netcdf4 for reading from NetCDF files with small numbers of variables (<13)'.format(percent_diff_small))\n",
    "print('hdf5 is {0:2.1f}% faster than python-netcdf4 for reading from NetCDF files with large numbers of variables (>13)'.format(percent_diff_large))\n"
   ]
  },
  {
   "cell_type": "code",
   "execution_count": null,
   "metadata": {
    "collapsed": true
   },
   "outputs": [],
   "source": []
  }
 ],
 "metadata": {
  "kernelspec": {
   "display_name": "Python 3",
   "language": "python",
   "name": "python3"
  },
  "language_info": {
   "codemirror_mode": {
    "name": "ipython",
    "version": 3
   },
   "file_extension": ".py",
   "mimetype": "text/x-python",
   "name": "python",
   "nbconvert_exporter": "python",
   "pygments_lexer": "ipython3",
   "version": "3.4.0"
  }
 },
 "nbformat": 4,
 "nbformat_minor": 0
}
