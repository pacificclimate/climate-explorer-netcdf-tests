{
 "cells": [
  {
   "cell_type": "code",
   "execution_count": 1,
   "metadata": {
    "collapsed": true
   },
   "outputs": [],
   "source": [
    "import sys\n",
    "import os\n",
    "from tempfile import NamedTemporaryFile\n",
    "from gc import collect\n",
    "\n",
    "sys.path.append('../util')\n",
    "from meters import ThroughputMeter\n",
    "import ncgen\n",
    "\n",
    "import netCDF4\n",
    "import h5py\n",
    "import numpy as np\n",
    "import pylab as pl\n",
    "\n",
    "os.environ['TMPDIR'] = os.getenv('HOME') + '/tmp/'"
   ]
  },
  {
   "cell_type": "code",
   "execution_count": 6,
   "metadata": {
    "collapsed": false
   },
   "outputs": [
    {
     "name": "stdout",
     "output_type": "stream",
     "text": [
      "Creating a NetCDF file with 1 variables\n",
      "Reading out with h5py module...\n",
      "353.100 MB in 0.241 seconds at 1466.836 MB / sec\n",
      "Reading out with python-netCDF4 module...\n",
      "353.100 MB in 0.392 seconds at 901.249 MB / sec\n",
      "Removing /tmp/tmpu_7panpa.nc\n",
      "Creating a NetCDF file with 3 variables\n",
      "Reading out with h5py module...\n",
      "353.100 MB in 1.6 seconds at 220.343 MB / sec\n",
      "Reading out with python-netCDF4 module...\n",
      "353.100 MB in 0.387 seconds at 913.356 MB / sec\n",
      "Removing /tmp/tmpsr4lgav9.nc\n",
      "Creating a NetCDF file with 5 variables\n",
      "Reading out with h5py module...\n",
      "353.100 MB in 1.5 seconds at 235.765 MB / sec\n",
      "Reading out with python-netCDF4 module...\n",
      "353.100 MB in 0.427 seconds at 826.521 MB / sec\n",
      "Removing /tmp/tmpgutbbx5_.nc\n",
      "Creating a NetCDF file with 7 variables\n",
      "Reading out with h5py module...\n",
      "353.100 MB in 1.48 seconds at 237.951 MB / sec\n",
      "Reading out with python-netCDF4 module...\n",
      "353.100 MB in 0.417 seconds at 846.691 MB / sec\n",
      "Removing /tmp/tmp3ps2ftfq.nc\n",
      "Creating a NetCDF file with 9 variables\n",
      "Reading out with h5py module...\n",
      "353.100 MB in 1.45 seconds at 242.783 MB / sec\n",
      "Reading out with python-netCDF4 module...\n",
      "353.100 MB in 0.395 seconds at 894.281 MB / sec\n",
      "Removing /tmp/tmp1q0sgstd.nc\n",
      "Creating a NetCDF file with 11 variables\n",
      "Reading out with h5py module...\n",
      "353.100 MB in 1.47 seconds at 240.068 MB / sec\n",
      "Reading out with python-netCDF4 module...\n",
      "353.100 MB in 0.423 seconds at 834.965 MB / sec\n",
      "Removing /tmp/tmpb_gcvllh.nc\n",
      "Creating a NetCDF file with 13 variables\n",
      "Reading out with h5py module...\n",
      "353.100 MB in 1.51 seconds at 233.660 MB / sec\n",
      "Reading out with python-netCDF4 module...\n",
      "353.100 MB in 0.445 seconds at 793.414 MB / sec\n",
      "Removing /tmp/tmp_3sl74kn.nc\n",
      "Creating a NetCDF file with 15 variables\n",
      "Reading out with h5py module...\n",
      "353.100 MB in 1.43 seconds at 246.474 MB / sec\n",
      "Reading out with python-netCDF4 module...\n",
      "353.100 MB in 0.444 seconds at 794.407 MB / sec\n",
      "Removing /tmp/tmp5xtvlcur.nc\n",
      "Creating a NetCDF file with 17 variables\n",
      "Reading out with h5py module...\n",
      "353.100 MB in 1.48 seconds at 237.983 MB / sec\n",
      "Reading out with python-netCDF4 module...\n",
      "353.100 MB in 0.42 seconds at 840.809 MB / sec\n",
      "Removing /tmp/tmph8198vt6.nc\n",
      "Creating a NetCDF file with 19 variables\n",
      "Reading out with h5py module...\n",
      "353.100 MB in 1.57 seconds at 224.254 MB / sec\n",
      "Reading out with python-netCDF4 module...\n",
      "353.100 MB in 0.446 seconds at 791.535 MB / sec\n",
      "Removing /tmp/tmpg6vstzb6.nc\n"
     ]
    }
   ],
   "source": [
    "results = []\n",
    "for num_vars in range(1, 20, 2):\n",
    "    print(\"Creating a NetCDF file with {} variables\".format(num_vars))\n",
    "    with NamedTemporaryFile(suffix='.nc', delete=False) as f:\n",
    "        nc = ncgen.make_multivariable_nc(f.name, num_vars=num_vars, unlim=True)\n",
    "        nc.close()\n",
    "    for read_with_h5py in [True, False]:\n",
    "        if read_with_h5py:\n",
    "            print(\"Reading out with h5py module...\")\n",
    "            nc = h5py.File(f.name, 'r')\n",
    "            with ThroughputMeter() as t:\n",
    "                a = nc['var_0'][:, :, :]\n",
    "        else:\n",
    "            print(\"Reading out with python-netCDF4 module...\")\n",
    "            nc = netCDF4.Dataset(f.name, 'r')\n",
    "            with ThroughputMeter() as t:\n",
    "                a = nc.variables['var_0'][:, :, :]\n",
    "        results.append((read_with_h5py, num_vars, t.megabytes_per_second(a)))\n",
    "    # python-netCDF4 seems to leak file descriptors\n",
    "    # We have to take a lot of steps to make sure that the files get closed and that\n",
    "    # the space gets reclaimed by the OS\n",
    "    nc.close\n",
    "    del nc\n",
    "    print(\"Removing {}\".format(f.name))\n",
    "    os.remove(f.name)\n",
    "    f.close()\n",
    "    collect()"
   ]
  },
  {
   "cell_type": "code",
   "execution_count": null,
   "metadata": {
    "collapsed": true
   },
   "outputs": [],
   "source": []
  }
 ],
 "metadata": {
  "kernelspec": {
   "display_name": "Python 3",
   "language": "python",
   "name": "python3"
  },
  "language_info": {
   "codemirror_mode": {
    "name": "ipython",
    "version": 3
   },
   "file_extension": ".py",
   "mimetype": "text/x-python",
   "name": "python",
   "nbconvert_exporter": "python",
   "pygments_lexer": "ipython3",
   "version": "3.4.0"
  }
 },
 "nbformat": 4,
 "nbformat_minor": 0
}
