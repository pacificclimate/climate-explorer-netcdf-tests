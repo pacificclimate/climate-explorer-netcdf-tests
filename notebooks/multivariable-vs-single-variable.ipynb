{
 "cells": [
  {
   "cell_type": "markdown",
   "metadata": {},
   "source": [
    "##Does storing multiple variables in a single file affect read performance?"
   ]
  },
  {
   "cell_type": "code",
   "execution_count": 49,
   "metadata": {
    "collapsed": false
   },
   "outputs": [],
   "source": [
    "import sys\n",
    "import os\n",
    "from tempfile import NamedTemporaryFile\n",
    "from gc import collect\n",
    "\n",
    "sys.path.append('../util')\n",
    "from meters import ThroughputMeter\n",
    "import ncgen\n",
    "\n",
    "import netCDF4\n",
    "import numpy as np\n",
    "import matplotlib.pyplot as plt\n",
    "\n",
    "os.environ['TMPDIR'] = os.getenv('HOME') + '/tmp/'"
   ]
  },
  {
   "cell_type": "code",
   "execution_count": 50,
   "metadata": {
    "collapsed": false
   },
   "outputs": [
    {
     "name": "stdout",
     "output_type": "stream",
     "text": [
      "Creating a NetCDF file with 1 unlimited variables\n",
      "Removing /root/tmp/tmpwe6dxf60.nc\n",
      "353.100 MB in 0.34 seconds at 1039.738 MB / sec\n",
      "Creating a NetCDF file with 1 limited variables\n",
      "Removing /root/tmp/tmp7dsre8b9.nc\n",
      "353.100 MB in 0.449 seconds at 785.724 MB / sec\n",
      "Creating a NetCDF file with 3 unlimited variables\n",
      "Removing /root/tmp/tmpxv44qzxi.nc\n",
      "353.100 MB in 3.98 seconds at 88.620 MB / sec\n",
      "Creating a NetCDF file with 3 limited variables\n",
      "Removing /root/tmp/tmpjdi9rwhq.nc\n",
      "353.100 MB in 3.43 seconds at 102.849 MB / sec\n",
      "Creating a NetCDF file with 7 unlimited variables\n",
      "Removing /root/tmp/tmphulzi2yx.nc\n",
      "353.100 MB in 2.1 seconds at 168.294 MB / sec\n",
      "Creating a NetCDF file with 7 limited variables\n",
      "Removing /root/tmp/tmp1hlg2rta.nc\n",
      "353.100 MB in 2.67 seconds at 132.137 MB / sec\n"
     ]
    }
   ],
   "source": [
    "results = []\n",
    "\n",
    "# single var files, 3 var files, and 7 var files (perhaps some derived variables)\n",
    "for num_vars in [1,3,7]:\n",
    "    for unlim in [True, False]:\n",
    "        print(\"Creating a NetCDF file with {} {}limited variables\".format(num_vars, 'un' if unlim else ''))\n",
    "        with NamedTemporaryFile(suffix='.nc', delete=False) as f:\n",
    "            nc = ncgen.make_multivariable_nc(f.name, num_vars=num_vars)\n",
    "            nc.close()\n",
    "        nc = netCDF4.Dataset(f.name, 'r')\n",
    "        with ThroughputMeter() as t:\n",
    "            a = nc.variables['var_0'][:, :, :]\n",
    "        nc.close\n",
    "        del nc\n",
    "        print(\"Removing {}\".format(f.name))\n",
    "        os.remove(f.name)\n",
    "        f.close()\n",
    "        collect()\n",
    "        results.append((unlim, num_vars, t.megabytes_per_second(a)))\n",
    "    "
   ]
  },
  {
   "cell_type": "code",
   "execution_count": 51,
   "metadata": {
    "collapsed": false
   },
   "outputs": [],
   "source": [
    "a = np.array([result[2] for result in results]).reshape(2,3)"
   ]
  },
  {
   "cell_type": "code",
   "execution_count": 52,
   "metadata": {
    "collapsed": false
   },
   "outputs": [
    {
     "data": {
      "text/plain": [
       "<matplotlib.legend.Legend at 0x7f7981b37438>"
      ]
     },
     "execution_count": 52,
     "metadata": {},
     "output_type": "execute_result"
    },
    {
     "data": {
      "image/png": "[encoded data removed]",
      "text/plain": [
       "<matplotlib.figure.Figure at 0x7f7981961208>"
      ]
     },
     "metadata": {},
     "output_type": "display_data"
    }
   ],
   "source": [
    "plt.plot([1,3,7], a[0,:], 'r--', label=\"unlimited\")\n",
    "plt.plot( [1,3,7], a[1,:], 'g--', label=\"limited\")\n",
    "plt.legend()"
   ]
  },
  {
   "cell_type": "code",
   "execution_count": null,
   "metadata": {
    "collapsed": false
   },
   "outputs": [],
   "source": []
  },
  {
   "cell_type": "code",
   "execution_count": null,
   "metadata": {
    "collapsed": true
   },
   "outputs": [],
   "source": []
  }
 ],
 "metadata": {
  "kernelspec": {
   "display_name": "Python 3",
   "language": "python",
   "name": "python3"
  },
  "language_info": {
   "codemirror_mode": {
    "name": "ipython",
    "version": 3
   },
   "file_extension": ".py",
   "mimetype": "text/x-python",
   "name": "python",
   "nbconvert_exporter": "python",
   "pygments_lexer": "ipython3",
   "version": "3.4.0"
  }
 },
 "nbformat": 4,
 "nbformat_minor": 0
}
