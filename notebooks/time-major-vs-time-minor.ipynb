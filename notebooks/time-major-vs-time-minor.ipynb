{
 "cells": [
  {
   "cell_type": "code",
   "execution_count": 88,
   "metadata": {
    "collapsed": false
   },
   "outputs": [],
   "source": [
    "import sys\n",
    "import os\n",
    "from tempfile import NamedTemporaryFile\n",
    "from gc import collect\n",
    "\n",
    "sys.path.append('../util')\n",
    "from meters import ThroughputMeter\n",
    "from ncgen import *\n",
    "from grids import *\n",
    "\n",
    "import netCDF4\n",
    "import numpy as np\n",
    "import pylab as pl\n"
   ]
  },
  {
   "cell_type": "code",
   "execution_count": 101,
   "metadata": {
    "collapsed": false
   },
   "outputs": [],
   "source": [
    "def write_netcdf_file(timescale, time_major=True):\n",
    "    print(\"Creating a time-{} NetCDF file with {}x{} grid and {} time steps\".format('major' if time_major else 'minor', grid['lon']['count'], grid['lat']['count'],len(timescale)))\n",
    "    with NamedTemporaryFile(suffix='.nc', delete=False, dir='../tmp') as f:\n",
    "        nc = get_base_nc(f.name, world_125k)\n",
    "        nc = add_simple_time(nc, timescale)\n",
    "        nc = add_climo_data(nc, 'var_0', timemajor=time_major)\n",
    "        nc.close()\n",
    "    print(\"file size: {}\".format(os.path.getsize(f.name)))\n",
    "    return f"
   ]
  },
  {
   "cell_type": "markdown",
   "metadata": {},
   "source": [
    "../tmp path in the Docker container points at rotating media storage."
   ]
  },
  {
   "cell_type": "code",
   "execution_count": 177,
   "metadata": {
    "collapsed": true
   },
   "outputs": [],
   "source": [
    "def netcdf_read_test(f):\n",
    "    results = []\n",
    "    # Open the file just created\n",
    "    nc = netCDF4.Dataset(f.name, 'r')\n",
    "    with ThroughputMeter() as t:\n",
    "        for i in range(nc.variables['var_0'].shape[0]):\n",
    "            a = nc.variables['var_0'][i,:,:]\n",
    "    results.append((time_major, len(timescale), t.megabytes_per_second(nc.variables['var_0'])))\n",
    "    # python-netCDF4 seems to leak file descriptors\n",
    "    # We have to take a lot of steps to make sure that the files get closed and that\n",
    "    # the space gets reclaimed by the OS\n",
    "    nc.close\n",
    "    del nc\n",
    "    print(\"Removing {}\".format(f.name))\n",
    "    os.remove(f.name)\n",
    "    f.close()\n",
    "    collect()\n",
    "    return results"
   ]
  },
  {
   "cell_type": "code",
   "execution_count": 92,
   "metadata": {
    "collapsed": true
   },
   "outputs": [],
   "source": [
    "def hdf5_read_test(f):\n",
    "    pass"
   ]
  },
  {
   "cell_type": "markdown",
   "metadata": {},
   "source": [
    "###Run time-major test for world_125k grid at monthly timescale:"
   ]
  },
  {
   "cell_type": "code",
   "execution_count": 136,
   "metadata": {
    "collapsed": false
   },
   "outputs": [
    {
     "name": "stdout",
     "output_type": "stream",
     "text": [
      "Creating a time-major NetCDF file with 256x128 grid and 1800 time steps\n",
      "file size: 235945088\n"
     ]
    }
   ],
   "source": [
    "grid = world_125k\n",
    "timescale = timescales['monthly']\n",
    "time_major = True\n",
    "testfile = write_netcdf_file(timescale, time_major)"
   ]
  },
  {
   "cell_type": "markdown",
   "metadata": {},
   "source": [
    "####Need to empty the filesystem buffers and cache after writing the file, to ensure it is read back from disk and not memory:"
   ]
  },
  {
   "cell_type": "code",
   "execution_count": 137,
   "metadata": {
    "collapsed": false
   },
   "outputs": [
    {
     "name": "stdout",
     "output_type": "stream",
     "text": [
      "             total       used       free     shared    buffers     cached\r\n",
      "Mem:          7681       3368       4313        706          2       1011\r\n",
      "-/+ buffers/cache:       2354       5327\r\n",
      "Swap:            0          0          0\r\n"
     ]
    }
   ],
   "source": [
    "!free -m"
   ]
  },
  {
   "cell_type": "code",
   "execution_count": 138,
   "metadata": {
    "collapsed": true
   },
   "outputs": [],
   "source": [
    "!sync"
   ]
  },
  {
   "cell_type": "markdown",
   "metadata": {},
   "source": [
    "####Then cleared cache via the command line (requires entry of su password): #sudo sh -c 'echo 3 >/proc/sys/vm/drop_caches'"
   ]
  },
  {
   "cell_type": "code",
   "execution_count": 139,
   "metadata": {
    "collapsed": false
   },
   "outputs": [
    {
     "name": "stdout",
     "output_type": "stream",
     "text": [
      "             total       used       free     shared    buffers     cached\r\n",
      "Mem:          7681       3129       4552        706          2        783\r\n",
      "-/+ buffers/cache:       2343       5338\r\n",
      "Swap:            0          0          0\r\n"
     ]
    }
   ],
   "source": [
    "!free -m"
   ]
  },
  {
   "cell_type": "code",
   "execution_count": 140,
   "metadata": {
    "collapsed": false
   },
   "outputs": [
    {
     "name": "stdout",
     "output_type": "stream",
     "text": [
      "225.000 MB in 1.13 seconds at 198.323 MB / sec\n",
      "Removing /app/tmp/tmpg6tg01e7.nc\n"
     ]
    }
   ],
   "source": [
    "results_tmaj_world_125k_monthly = netcdf_read_test(testfile)"
   ]
  },
  {
   "cell_type": "code",
   "execution_count": 141,
   "metadata": {
    "collapsed": false
   },
   "outputs": [
    {
     "data": {
      "text/plain": [
       "[(True, 1800, 198.32333154845114)]"
      ]
     },
     "execution_count": 141,
     "metadata": {},
     "output_type": "execute_result"
    }
   ],
   "source": [
    "results_tmaj_world_125k_monthly"
   ]
  },
  {
   "cell_type": "markdown",
   "metadata": {},
   "source": [
    "###Run time-minor test for world_125k grid at monthly timescale:"
   ]
  },
  {
   "cell_type": "code",
   "execution_count": 142,
   "metadata": {
    "collapsed": false
   },
   "outputs": [
    {
     "name": "stdout",
     "output_type": "stream",
     "text": [
      "Creating a time-minor NetCDF file with 256x128 grid and 1800 time steps\n",
      "file size: 235945088\n"
     ]
    }
   ],
   "source": [
    "time_major = False\n",
    "testfile = write_netcdf_file(timescale, time_major)"
   ]
  },
  {
   "cell_type": "code",
   "execution_count": 143,
   "metadata": {
    "collapsed": false,
    "scrolled": true
   },
   "outputs": [
    {
     "name": "stdout",
     "output_type": "stream",
     "text": [
      "             total       used       free     shared    buffers     cached\r\n",
      "Mem:          7681       3327       4354        701          3       1003\r\n",
      "-/+ buffers/cache:       2320       5361\r\n",
      "Swap:            0          0          0\r\n"
     ]
    }
   ],
   "source": [
    "!free -m"
   ]
  },
  {
   "cell_type": "code",
   "execution_count": 144,
   "metadata": {
    "collapsed": true
   },
   "outputs": [],
   "source": [
    "!sync"
   ]
  },
  {
   "cell_type": "markdown",
   "metadata": {},
   "source": [
    "Then cleared cache via the command line (requires entry of su password): #sudo sh -c 'echo 3 >/proc/sys/vm/drop_caches'"
   ]
  },
  {
   "cell_type": "code",
   "execution_count": 145,
   "metadata": {
    "collapsed": false,
    "scrolled": true
   },
   "outputs": [
    {
     "name": "stdout",
     "output_type": "stream",
     "text": [
      "             total       used       free     shared    buffers     cached\r\n",
      "Mem:          7681       3106       4574        711          1        788\r\n",
      "-/+ buffers/cache:       2317       5364\r\n",
      "Swap:            0          0          0\r\n"
     ]
    }
   ],
   "source": [
    "!free -m"
   ]
  },
  {
   "cell_type": "code",
   "execution_count": 146,
   "metadata": {
    "collapsed": false,
    "scrolled": true
   },
   "outputs": [
    {
     "name": "stdout",
     "output_type": "stream",
     "text": [
      "225.000 MB in 1.18 seconds at 190.959 MB / sec\n",
      "Removing /app/tmp/tmpv5bvqj_d.nc\n"
     ]
    }
   ],
   "source": [
    "results_tmin_world_125k_monthly = netcdf_read_test(testfile)"
   ]
  },
  {
   "cell_type": "code",
   "execution_count": 147,
   "metadata": {
    "collapsed": false
   },
   "outputs": [
    {
     "data": {
      "text/plain": [
       "[(False, 1800, 190.95857026478723)]"
      ]
     },
     "execution_count": 147,
     "metadata": {},
     "output_type": "execute_result"
    }
   ],
   "source": [
    "results_tmin_world_125k_monthly"
   ]
  },
  {
   "cell_type": "markdown",
   "metadata": {},
   "source": [
    "###Run time-major test for canada_5k grid at monthly timescale:"
   ]
  },
  {
   "cell_type": "code",
   "execution_count": 148,
   "metadata": {
    "collapsed": false
   },
   "outputs": [
    {
     "name": "stdout",
     "output_type": "stream",
     "text": [
      "Creating a time-major NetCDF file with 1068x510 grid and 1800 time steps\n",
      "file size: 235945088\n"
     ]
    }
   ],
   "source": [
    "grid = canada_5k\n",
    "timescale = timescales['monthly']\n",
    "time_major = True\n",
    "testfile = write_netcdf_file(timescale, time_major)"
   ]
  },
  {
   "cell_type": "code",
   "execution_count": 149,
   "metadata": {
    "collapsed": false,
    "scrolled": true
   },
   "outputs": [
    {
     "name": "stdout",
     "output_type": "stream",
     "text": [
      "             total       used       free     shared    buffers     cached\r\n",
      "Mem:          7681       3352       4329        706          1       1009\r\n",
      "-/+ buffers/cache:       2341       5340\r\n",
      "Swap:            0          0          0\r\n"
     ]
    }
   ],
   "source": [
    "!free -m"
   ]
  },
  {
   "cell_type": "code",
   "execution_count": 150,
   "metadata": {
    "collapsed": true
   },
   "outputs": [],
   "source": [
    "!sync"
   ]
  },
  {
   "cell_type": "markdown",
   "metadata": {},
   "source": [
    "Then cleared cache via the command line (requires entry of su password): #sudo sh -c 'echo 3 >/proc/sys/vm/drop_caches'"
   ]
  },
  {
   "cell_type": "code",
   "execution_count": 151,
   "metadata": {
    "collapsed": false,
    "scrolled": false
   },
   "outputs": [
    {
     "name": "stdout",
     "output_type": "stream",
     "text": [
      "             total       used       free     shared    buffers     cached\r\n",
      "Mem:          7681       3121       4559        706          0        783\r\n",
      "-/+ buffers/cache:       2337       5344\r\n",
      "Swap:            0          0          0\r\n"
     ]
    }
   ],
   "source": [
    "!free -m"
   ]
  },
  {
   "cell_type": "code",
   "execution_count": 152,
   "metadata": {
    "collapsed": false,
    "scrolled": true
   },
   "outputs": [
    {
     "name": "stdout",
     "output_type": "stream",
     "text": [
      "225.000 MB in 1.31 seconds at 171.610 MB / sec\n",
      "Removing /app/tmp/tmpls3knvac.nc\n"
     ]
    }
   ],
   "source": [
    "results_tmaj_canada_5k_monthly = netcdf_read_test(testfile)"
   ]
  },
  {
   "cell_type": "code",
   "execution_count": 153,
   "metadata": {
    "collapsed": false
   },
   "outputs": [
    {
     "data": {
      "text/plain": [
       "[(True, 1800, 171.60962580847888)]"
      ]
     },
     "execution_count": 153,
     "metadata": {},
     "output_type": "execute_result"
    }
   ],
   "source": [
    "results_tmaj_canada_5k_monthly"
   ]
  },
  {
   "cell_type": "markdown",
   "metadata": {},
   "source": [
    "###Run time-minor test for canada_5k grid at monthly timescale:"
   ]
  },
  {
   "cell_type": "code",
   "execution_count": 154,
   "metadata": {
    "collapsed": false
   },
   "outputs": [
    {
     "name": "stdout",
     "output_type": "stream",
     "text": [
      "Creating a time-minor NetCDF file with 1068x510 grid and 1800 time steps\n",
      "file size: 235945088\n"
     ]
    }
   ],
   "source": [
    "grid = canada_5k\n",
    "timescale = timescales['monthly']\n",
    "time_major = False\n",
    "testfile = write_netcdf_file(timescale, time_major)"
   ]
  },
  {
   "cell_type": "code",
   "execution_count": 155,
   "metadata": {
    "collapsed": false
   },
   "outputs": [
    {
     "name": "stdout",
     "output_type": "stream",
     "text": [
      "             total       used       free     shared    buffers     cached\r\n",
      "Mem:          7681       3379       4302        701          2       1004\r\n",
      "-/+ buffers/cache:       2373       5308\r\n",
      "Swap:            0          0          0\r\n"
     ]
    }
   ],
   "source": [
    "!free -m"
   ]
  },
  {
   "cell_type": "code",
   "execution_count": 156,
   "metadata": {
    "collapsed": true
   },
   "outputs": [],
   "source": [
    "!sync"
   ]
  },
  {
   "cell_type": "markdown",
   "metadata": {},
   "source": [
    "Then cleared cache via the command line (requires entry of su password): #sudo sh -c 'echo 3 >/proc/sys/vm/drop_caches'"
   ]
  },
  {
   "cell_type": "code",
   "execution_count": 157,
   "metadata": {
    "collapsed": false,
    "scrolled": true
   },
   "outputs": [
    {
     "name": "stdout",
     "output_type": "stream",
     "text": [
      "             total       used       free     shared    buffers     cached\r\n",
      "Mem:          7681       3125       4556        705          0        782\r\n",
      "-/+ buffers/cache:       2341       5340\r\n",
      "Swap:            0          0          0\r\n"
     ]
    }
   ],
   "source": [
    "!free -m"
   ]
  },
  {
   "cell_type": "code",
   "execution_count": 158,
   "metadata": {
    "collapsed": false,
    "scrolled": true
   },
   "outputs": [
    {
     "name": "stdout",
     "output_type": "stream",
     "text": [
      "225.000 MB in 1.37 seconds at 163.778 MB / sec\n",
      "Removing /app/tmp/tmpi7_6zru3.nc\n"
     ]
    }
   ],
   "source": [
    "results_tmin_canada_5k_monthly = netcdf_read_test(testfile)"
   ]
  },
  {
   "cell_type": "code",
   "execution_count": 159,
   "metadata": {
    "collapsed": false,
    "scrolled": true
   },
   "outputs": [
    {
     "data": {
      "text/plain": [
       "[(False, 1800, 163.77775876494158)]"
      ]
     },
     "execution_count": 159,
     "metadata": {},
     "output_type": "execute_result"
    }
   ],
   "source": [
    "results_tmin_canada_5k_monthly"
   ]
  },
  {
   "cell_type": "markdown",
   "metadata": {},
   "source": [
    "###Run time-major test for canada_5k grid at daily timescale:"
   ]
  },
  {
   "cell_type": "code",
   "execution_count": 190,
   "metadata": {
    "collapsed": false
   },
   "outputs": [
    {
     "name": "stdout",
     "output_type": "stream",
     "text": [
      "Creating a time-major NetCDF file with 1068x510 grid and 54787 time steps\n",
      "file size: 7181269100\n"
     ]
    }
   ],
   "source": [
    "grid = canada_5k\n",
    "timescale = timescales['daily']\n",
    "time_major = True\n",
    "testfile = write_netcdf_file(timescale, time_major)"
   ]
  },
  {
   "cell_type": "code",
   "execution_count": 191,
   "metadata": {
    "collapsed": false
   },
   "outputs": [
    {
     "name": "stdout",
     "output_type": "stream",
     "text": [
      "             total       used       free     shared    buffers     cached\r\n",
      "Mem:          7681       7514        167        711          2       5023\r\n",
      "-/+ buffers/cache:       2488       5193\r\n",
      "Swap:            0          0          0\r\n"
     ]
    }
   ],
   "source": [
    "!free -m"
   ]
  },
  {
   "cell_type": "code",
   "execution_count": 192,
   "metadata": {
    "collapsed": true
   },
   "outputs": [],
   "source": [
    "!sync"
   ]
  },
  {
   "cell_type": "markdown",
   "metadata": {},
   "source": [
    "Then cleared cache via the command line (requires entry of su password): #sudo sh -c 'echo 3 >/proc/sys/vm/drop_caches'"
   ]
  },
  {
   "cell_type": "code",
   "execution_count": 193,
   "metadata": {
    "collapsed": false
   },
   "outputs": [
    {
     "name": "stdout",
     "output_type": "stream",
     "text": [
      "             total       used       free     shared    buffers     cached\r\n",
      "Mem:          7681       3136       4545        706          2        765\r\n",
      "-/+ buffers/cache:       2368       5313\r\n",
      "Swap:            0          0          0\r\n"
     ]
    }
   ],
   "source": [
    "!free -m"
   ]
  },
  {
   "cell_type": "code",
   "execution_count": 194,
   "metadata": {
    "collapsed": false
   },
   "outputs": [
    {
     "name": "stdout",
     "output_type": "stream",
     "text": [
      "6848.375 MB in 36.3 seconds at 188.614 MB / sec\n",
      "Removing /app/tmp/tmph11fyyet.nc\n"
     ]
    }
   ],
   "source": [
    "results_tmaj_canada_5k_daily = netcdf_read_test(testfile)"
   ]
  },
  {
   "cell_type": "code",
   "execution_count": 195,
   "metadata": {
    "collapsed": false,
    "scrolled": true
   },
   "outputs": [
    {
     "data": {
      "text/plain": [
       "[(True, 54787, 188.61440551039792)]"
      ]
     },
     "execution_count": 195,
     "metadata": {},
     "output_type": "execute_result"
    }
   ],
   "source": [
    "results_tmaj_canada_5k_daily"
   ]
  },
  {
   "cell_type": "markdown",
   "metadata": {},
   "source": [
    "###Run time-minor test for canada_5k grid at daily timescale:"
   ]
  },
  {
   "cell_type": "code",
   "execution_count": 202,
   "metadata": {
    "collapsed": false
   },
   "outputs": [
    {
     "name": "stdout",
     "output_type": "stream",
     "text": [
      "Creating a time-minor NetCDF file with 1068x510 grid and 54787 time steps\n",
      "file size: 7181269100\n"
     ]
    }
   ],
   "source": [
    "grid = canada_5k\n",
    "timescale = timescales['daily']\n",
    "time_major = False\n",
    "testfile = write_netcdf_file(timescale, time_major)"
   ]
  },
  {
   "cell_type": "code",
   "execution_count": 203,
   "metadata": {
    "collapsed": false
   },
   "outputs": [
    {
     "name": "stdout",
     "output_type": "stream",
     "text": [
      "             total       used       free     shared    buffers     cached\r\n",
      "Mem:          7681       7424        257        699          2       4916\r\n",
      "-/+ buffers/cache:       2505       5176\r\n",
      "Swap:            0          0          0\r\n"
     ]
    }
   ],
   "source": [
    "!free -m"
   ]
  },
  {
   "cell_type": "code",
   "execution_count": 204,
   "metadata": {
    "collapsed": true
   },
   "outputs": [],
   "source": [
    "!sync"
   ]
  },
  {
   "cell_type": "markdown",
   "metadata": {},
   "source": [
    "Then cleared cache via the command line (requires entry of su password): #sudo sh -c 'echo 3 >/proc/sys/vm/drop_caches'"
   ]
  },
  {
   "cell_type": "code",
   "execution_count": 206,
   "metadata": {
    "collapsed": false
   },
   "outputs": [
    {
     "name": "stdout",
     "output_type": "stream",
     "text": [
      "             total       used       free     shared    buffers     cached\r\n",
      "Mem:          7681       3116       4565        697          2        752\r\n",
      "-/+ buffers/cache:       2361       5320\r\n",
      "Swap:            0          0          0\r\n"
     ]
    }
   ],
   "source": [
    "!free -m"
   ]
  },
  {
   "cell_type": "code",
   "execution_count": 207,
   "metadata": {
    "collapsed": false
   },
   "outputs": [
    {
     "name": "stdout",
     "output_type": "stream",
     "text": [
      "6848.375 MB in 37.5 seconds at 182.511 MB / sec\n",
      "Removing /app/tmp/tmpp0sab2mw.nc\n"
     ]
    }
   ],
   "source": [
    "results_tmin_canada_5k_daily = netcdf_read_test(testfile)"
   ]
  },
  {
   "cell_type": "code",
   "execution_count": 208,
   "metadata": {
    "collapsed": false
   },
   "outputs": [
    {
     "data": {
      "text/plain": [
       "[(False, 54787, 182.51077374403957)]"
      ]
     },
     "execution_count": 208,
     "metadata": {},
     "output_type": "execute_result"
    }
   ],
   "source": [
    "results_tmin_canada_5k_daily"
   ]
  },
  {
   "cell_type": "markdown",
   "metadata": {},
   "source": [
    "###Run time-major test for world_250k grid at daily timescale:"
   ]
  },
  {
   "cell_type": "code",
   "execution_count": 178,
   "metadata": {
    "collapsed": false
   },
   "outputs": [
    {
     "name": "stdout",
     "output_type": "stream",
     "text": [
      "Creating a time-major NetCDF file with 128x64 grid and 54787 time steps\n",
      "file size: 7181269100\n"
     ]
    }
   ],
   "source": [
    "grid = world_250k\n",
    "timescale = timescales['daily']\n",
    "time_major = True\n",
    "testfile = write_netcdf_file(timescale, time_major)"
   ]
  },
  {
   "cell_type": "code",
   "execution_count": 179,
   "metadata": {
    "collapsed": false
   },
   "outputs": [
    {
     "name": "stdout",
     "output_type": "stream",
     "text": [
      "             total       used       free     shared    buffers     cached\r\n",
      "Mem:          7681       7559        121        726          4       5031\r\n",
      "-/+ buffers/cache:       2523       5157\r\n",
      "Swap:            0          0          0\r\n"
     ]
    }
   ],
   "source": [
    "!free -m"
   ]
  },
  {
   "cell_type": "code",
   "execution_count": 180,
   "metadata": {
    "collapsed": true
   },
   "outputs": [],
   "source": [
    "!sync"
   ]
  },
  {
   "cell_type": "markdown",
   "metadata": {},
   "source": [
    "Then cleared cache via the command line (requires entry of su password): #sudo sh -c 'echo 3 >/proc/sys/vm/drop_caches'"
   ]
  },
  {
   "cell_type": "code",
   "execution_count": 181,
   "metadata": {
    "collapsed": false
   },
   "outputs": [
    {
     "name": "stdout",
     "output_type": "stream",
     "text": [
      "             total       used       free     shared    buffers     cached\r\n",
      "Mem:          7681       3151       4530        726          2        786\r\n",
      "-/+ buffers/cache:       2362       5318\r\n",
      "Swap:            0          0          0\r\n"
     ]
    }
   ],
   "source": [
    "!free -m"
   ]
  },
  {
   "cell_type": "code",
   "execution_count": 182,
   "metadata": {
    "collapsed": false
   },
   "outputs": [
    {
     "name": "stdout",
     "output_type": "stream",
     "text": [
      "6848.375 MB in 36.6 seconds at 187.132 MB / sec\n",
      "Removing /app/tmp/tmplgqemk32.nc\n"
     ]
    }
   ],
   "source": [
    "results_tmaj_world_250k_daily = netcdf_read_test(testfile)"
   ]
  },
  {
   "cell_type": "code",
   "execution_count": 188,
   "metadata": {
    "collapsed": false
   },
   "outputs": [
    {
     "data": {
      "text/plain": [
       "[(True, 54787, 187.1324676433039)]"
      ]
     },
     "execution_count": 188,
     "metadata": {},
     "output_type": "execute_result"
    }
   ],
   "source": [
    "results_tmaj_world_250k_daily"
   ]
  },
  {
   "cell_type": "markdown",
   "metadata": {},
   "source": [
    "###Run time-minor test for world_250k grid at daily timescale:"
   ]
  },
  {
   "cell_type": "code",
   "execution_count": 196,
   "metadata": {
    "collapsed": false
   },
   "outputs": [
    {
     "name": "stdout",
     "output_type": "stream",
     "text": [
      "Creating a time-minor NetCDF file with 128x64 grid and 54787 time steps\n",
      "file size: 7181269100\n"
     ]
    }
   ],
   "source": [
    "grid = world_250k\n",
    "timescale = timescales['daily']\n",
    "time_major = False\n",
    "testfile = write_netcdf_file(timescale, time_major)"
   ]
  },
  {
   "cell_type": "code",
   "execution_count": 197,
   "metadata": {
    "collapsed": false,
    "scrolled": true
   },
   "outputs": [
    {
     "name": "stdout",
     "output_type": "stream",
     "text": [
      "             total       used       free     shared    buffers     cached\r\n",
      "Mem:          7681       7404        277        762          5       4874\r\n",
      "-/+ buffers/cache:       2524       5157\r\n",
      "Swap:            0          0          0\r\n"
     ]
    }
   ],
   "source": [
    "!free -m"
   ]
  },
  {
   "cell_type": "code",
   "execution_count": 198,
   "metadata": {
    "collapsed": true
   },
   "outputs": [],
   "source": [
    "!sync"
   ]
  },
  {
   "cell_type": "markdown",
   "metadata": {},
   "source": [
    "Then cleared cache via the command line (requires entry of su password): #sudo sh -c 'echo 3 >/proc/sys/vm/drop_caches'"
   ]
  },
  {
   "cell_type": "code",
   "execution_count": 199,
   "metadata": {
    "collapsed": false
   },
   "outputs": [
    {
     "name": "stdout",
     "output_type": "stream",
     "text": [
      "             total       used       free     shared    buffers     cached\r\n",
      "Mem:          7681       3233       4447        773          1        827\r\n",
      "-/+ buffers/cache:       2405       5276\r\n",
      "Swap:            0          0          0\r\n"
     ]
    }
   ],
   "source": [
    "!free -m"
   ]
  },
  {
   "cell_type": "code",
   "execution_count": 200,
   "metadata": {
    "collapsed": false
   },
   "outputs": [
    {
     "name": "stdout",
     "output_type": "stream",
     "text": [
      "6848.375 MB in 38.0 seconds at 180.391 MB / sec\n",
      "Removing /app/tmp/tmpyurz77ek.nc\n"
     ]
    }
   ],
   "source": [
    "results_tmin_world_250k_daily = netcdf_read_test(testfile)"
   ]
  },
  {
   "cell_type": "code",
   "execution_count": 201,
   "metadata": {
    "collapsed": false
   },
   "outputs": [
    {
     "data": {
      "text/plain": [
       "[(False, 54787, 180.3910584406552)]"
      ]
     },
     "execution_count": 201,
     "metadata": {},
     "output_type": "execute_result"
    }
   ],
   "source": [
    "results_tmin_world_250k_daily"
   ]
  },
  {
   "cell_type": "markdown",
   "metadata": {},
   "source": [
    "###Run time-major test for bc_400m grid at monthly timescale:"
   ]
  },
  {
   "cell_type": "code",
   "execution_count": 209,
   "metadata": {
    "collapsed": false
   },
   "outputs": [
    {
     "name": "stdout",
     "output_type": "stream",
     "text": [
      "Creating a time-major NetCDF file with 1680x3241 grid and 1800 time steps\n",
      "file size: 235945088\n"
     ]
    }
   ],
   "source": [
    "grid = bc_400m\n",
    "timescale = timescales['monthly']\n",
    "time_major = True\n",
    "testfile = write_netcdf_file(timescale, time_major)"
   ]
  },
  {
   "cell_type": "code",
   "execution_count": 210,
   "metadata": {
    "collapsed": false,
    "scrolled": true
   },
   "outputs": [
    {
     "name": "stdout",
     "output_type": "stream",
     "text": [
      "             total       used       free     shared    buffers     cached\r\n",
      "Mem:          7681       3383       4298        694          7        985\r\n",
      "-/+ buffers/cache:       2391       5290\r\n",
      "Swap:            0          0          0\r\n"
     ]
    }
   ],
   "source": [
    "!free -m"
   ]
  },
  {
   "cell_type": "code",
   "execution_count": 211,
   "metadata": {
    "collapsed": true
   },
   "outputs": [],
   "source": [
    "!sync"
   ]
  },
  {
   "cell_type": "markdown",
   "metadata": {},
   "source": [
    "Then cleared cache via the command line (requires entry of su password): #sudo sh -c 'echo 3 >/proc/sys/vm/drop_caches'"
   ]
  },
  {
   "cell_type": "code",
   "execution_count": 212,
   "metadata": {
    "collapsed": false
   },
   "outputs": [
    {
     "name": "stdout",
     "output_type": "stream",
     "text": [
      "             total       used       free     shared    buffers     cached\r\n",
      "Mem:          7681       3117       4564        699          1        753\r\n",
      "-/+ buffers/cache:       2362       5318\r\n",
      "Swap:            0          0          0\r\n"
     ]
    }
   ],
   "source": [
    "!free -m"
   ]
  },
  {
   "cell_type": "code",
   "execution_count": 213,
   "metadata": {
    "collapsed": false
   },
   "outputs": [
    {
     "name": "stdout",
     "output_type": "stream",
     "text": [
      "225.000 MB in 1.16 seconds at 193.842 MB / sec\n",
      "Removing /app/tmp/tmpr000c1vz.nc\n"
     ]
    }
   ],
   "source": [
    "results_tmaj_bc_400m_monthly = netcdf_read_test(testfile)"
   ]
  },
  {
   "cell_type": "code",
   "execution_count": 214,
   "metadata": {
    "collapsed": false
   },
   "outputs": [
    {
     "data": {
      "text/plain": [
       "[(True, 1800, 193.8415578995108)]"
      ]
     },
     "execution_count": 214,
     "metadata": {},
     "output_type": "execute_result"
    }
   ],
   "source": [
    "results_tmaj_bc_400m_monthly"
   ]
  },
  {
   "cell_type": "markdown",
   "metadata": {},
   "source": [
    "###Run time-minor test for bc_400m grid at monthly timescale:"
   ]
  },
  {
   "cell_type": "code",
   "execution_count": 215,
   "metadata": {
    "collapsed": false
   },
   "outputs": [
    {
     "name": "stdout",
     "output_type": "stream",
     "text": [
      "Creating a time-minor NetCDF file with 1680x3241 grid and 1800 time steps\n",
      "file size: 235945088\n"
     ]
    }
   ],
   "source": [
    "grid = bc_400m\n",
    "timescale = timescales['monthly']\n",
    "time_major = False\n",
    "testfile = write_netcdf_file(timescale, time_major)"
   ]
  },
  {
   "cell_type": "code",
   "execution_count": 216,
   "metadata": {
    "collapsed": false,
    "scrolled": false
   },
   "outputs": [
    {
     "name": "stdout",
     "output_type": "stream",
     "text": [
      "             total       used       free     shared    buffers     cached\r\n",
      "Mem:          7681       3401       4280        713          2       1001\r\n",
      "-/+ buffers/cache:       2397       5284\r\n",
      "Swap:            0          0          0\r\n"
     ]
    }
   ],
   "source": [
    "!free -m"
   ]
  },
  {
   "cell_type": "code",
   "execution_count": 217,
   "metadata": {
    "collapsed": true
   },
   "outputs": [],
   "source": [
    "!sync"
   ]
  },
  {
   "cell_type": "markdown",
   "metadata": {},
   "source": [
    "Then cleared cache via the command line (requires entry of su password): #sudo sh -c 'echo 3 >/proc/sys/vm/drop_caches'"
   ]
  },
  {
   "cell_type": "code",
   "execution_count": 218,
   "metadata": {
    "collapsed": false
   },
   "outputs": [
    {
     "name": "stdout",
     "output_type": "stream",
     "text": [
      "             total       used       free     shared    buffers     cached\r\n",
      "Mem:          7681       3135       4546        713          1        766\r\n",
      "-/+ buffers/cache:       2366       5314\r\n",
      "Swap:            0          0          0\r\n"
     ]
    }
   ],
   "source": [
    "!free -m"
   ]
  },
  {
   "cell_type": "code",
   "execution_count": 219,
   "metadata": {
    "collapsed": false
   },
   "outputs": [
    {
     "name": "stdout",
     "output_type": "stream",
     "text": [
      "225.000 MB in 1.19 seconds at 188.939 MB / sec\n",
      "Removing /app/tmp/tmpa9ss0kht.nc\n"
     ]
    }
   ],
   "source": [
    "results_tmin_bc_400m_monthly = netcdf_read_test(testfile)"
   ]
  },
  {
   "cell_type": "markdown",
   "metadata": {},
   "source": [
    "###Run time-major test for bc_400m grid at daily timescale:"
   ]
  },
  {
   "cell_type": "code",
   "execution_count": 220,
   "metadata": {
    "collapsed": false
   },
   "outputs": [
    {
     "name": "stdout",
     "output_type": "stream",
     "text": [
      "Creating a time-major NetCDF file with 1680x3241 grid and 54787 time steps\n",
      "file size: 7181269100\n"
     ]
    }
   ],
   "source": [
    "grid = bc_400m\n",
    "timescale = timescales['daily']\n",
    "time_major = True\n",
    "testfile = write_netcdf_file(timescale, time_major)"
   ]
  },
  {
   "cell_type": "code",
   "execution_count": 221,
   "metadata": {
    "collapsed": false,
    "scrolled": true
   },
   "outputs": [
    {
     "name": "stdout",
     "output_type": "stream",
     "text": [
      "             total       used       free     shared    buffers     cached\r\n",
      "Mem:          7681       7430        251        718          6       4989\r\n",
      "-/+ buffers/cache:       2434       5247\r\n",
      "Swap:            0          0          0\r\n"
     ]
    }
   ],
   "source": [
    "!free -m"
   ]
  },
  {
   "cell_type": "code",
   "execution_count": 222,
   "metadata": {
    "collapsed": true
   },
   "outputs": [],
   "source": [
    "!sync"
   ]
  },
  {
   "cell_type": "markdown",
   "metadata": {},
   "source": [
    "Then cleared cache via the command line (requires entry of su password): #sudo sh -c 'echo 3 >/proc/sys/vm/drop_caches'"
   ]
  },
  {
   "cell_type": "code",
   "execution_count": 223,
   "metadata": {
    "collapsed": false
   },
   "outputs": [
    {
     "name": "stdout",
     "output_type": "stream",
     "text": [
      "             total       used       free     shared    buffers     cached\r\n",
      "Mem:          7681       3098       4583        709          1        765\r\n",
      "-/+ buffers/cache:       2331       5350\r\n",
      "Swap:            0          0          0\r\n"
     ]
    }
   ],
   "source": [
    "!free -m"
   ]
  },
  {
   "cell_type": "code",
   "execution_count": 224,
   "metadata": {
    "collapsed": false
   },
   "outputs": [
    {
     "name": "stdout",
     "output_type": "stream",
     "text": [
      "6848.375 MB in 36.1 seconds at 189.544 MB / sec\n",
      "Removing /app/tmp/tmp3ral1rsi.nc\n"
     ]
    }
   ],
   "source": [
    "results_tmaj_bc_400m_daily = netcdf_read_test(testfile)"
   ]
  },
  {
   "cell_type": "markdown",
   "metadata": {},
   "source": [
    "###Run time-minor test for bc_400m grid at daily timescale:"
   ]
  },
  {
   "cell_type": "code",
   "execution_count": 225,
   "metadata": {
    "collapsed": false
   },
   "outputs": [
    {
     "name": "stdout",
     "output_type": "stream",
     "text": [
      "Creating a time-minor NetCDF file with 1680x3241 grid and 54787 time steps\n",
      "file size: 7181269100\n"
     ]
    }
   ],
   "source": [
    "grid = bc_400m\n",
    "timescale = timescales['daily']\n",
    "time_major = False\n",
    "testfile = write_netcdf_file(timescale, time_major)"
   ]
  },
  {
   "cell_type": "code",
   "execution_count": 226,
   "metadata": {
    "collapsed": false
   },
   "outputs": [
    {
     "name": "stdout",
     "output_type": "stream",
     "text": [
      "             total       used       free     shared    buffers     cached\r\n",
      "Mem:          7681       7366        315        715          3       4933\r\n",
      "-/+ buffers/cache:       2429       5252\r\n",
      "Swap:            0          0          0\r\n"
     ]
    }
   ],
   "source": [
    "!free -m"
   ]
  },
  {
   "cell_type": "code",
   "execution_count": 227,
   "metadata": {
    "collapsed": true
   },
   "outputs": [],
   "source": [
    "!sync"
   ]
  },
  {
   "cell_type": "markdown",
   "metadata": {},
   "source": [
    "Then cleared cache via the command line (requires entry of su password): #sudo sh -c 'echo 3 >/proc/sys/vm/drop_caches'"
   ]
  },
  {
   "cell_type": "code",
   "execution_count": 228,
   "metadata": {
    "collapsed": false
   },
   "outputs": [
    {
     "name": "stdout",
     "output_type": "stream",
     "text": [
      "             total       used       free     shared    buffers     cached\r\n",
      "Mem:          7681       3119       4561        720          1        776\r\n",
      "-/+ buffers/cache:       2342       5339\r\n",
      "Swap:            0          0          0\r\n"
     ]
    }
   ],
   "source": [
    "!free -m"
   ]
  },
  {
   "cell_type": "code",
   "execution_count": 229,
   "metadata": {
    "collapsed": false
   },
   "outputs": [
    {
     "name": "stdout",
     "output_type": "stream",
     "text": [
      "6848.375 MB in 38.3 seconds at 178.624 MB / sec\n",
      "Removing /app/tmp/tmpudg_z_ys.nc\n"
     ]
    }
   ],
   "source": [
    "results_tmin_bc_400m_daily = netcdf_read_test(testfile)"
   ]
  },
  {
   "cell_type": "code",
   "execution_count": null,
   "metadata": {
    "collapsed": true
   },
   "outputs": [],
   "source": []
  }
 ],
 "metadata": {
  "kernelspec": {
   "display_name": "Python 3",
   "language": "python",
   "name": "python3"
  },
  "language_info": {
   "codemirror_mode": {
    "name": "ipython",
    "version": 3
   },
   "file_extension": ".py",
   "mimetype": "text/x-python",
   "name": "python",
   "nbconvert_exporter": "python",
   "pygments_lexer": "ipython3",
   "version": "3.4.0"
  }
 },
 "nbformat": 4,
 "nbformat_minor": 0
}
