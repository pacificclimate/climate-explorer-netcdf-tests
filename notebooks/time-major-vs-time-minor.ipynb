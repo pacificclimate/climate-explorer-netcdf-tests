{
 "cells": [
  {
   "cell_type": "code",
   "execution_count": 1,
   "metadata": {
    "collapsed": true
   },
   "outputs": [],
   "source": [
    "import sys\n",
    "import os\n",
    "from tempfile import NamedTemporaryFile\n",
    "from gc import collect\n",
    "\n",
    "sys.path.append('../util')\n",
    "from meters import ThroughputMeter\n",
    "import ncgen\n",
    "\n",
    "import netCDF4\n",
    "import numpy as np\n",
    "import pylab as pl\n",
    "\n",
    "os.environ['TMPDIR'] = os.getenv('HOME') + '/tmp/'"
   ]
  },
  {
   "cell_type": "code",
   "execution_count": 4,
   "metadata": {
    "collapsed": false
   },
   "outputs": [
    {
     "name": "stdout",
     "output_type": "stream",
     "text": [
      "Creating a time-major NetCDF file with 1 variables\n",
      "Removing /tmp/tmpc8hwsjyg.nc\n",
      "353.100 MB in 0.325 seconds at 1087.240 MB / sec\n",
      "Creating a time-major NetCDF file with 3 variables\n",
      "Removing /tmp/tmpna0b06_q.nc\n",
      "353.100 MB in 1.61 seconds at 218.934 MB / sec\n",
      "Creating a time-major NetCDF file with 5 variables\n",
      "Removing /tmp/tmptt4wgo66.nc\n",
      "353.100 MB in 1.37 seconds at 257.676 MB / sec\n",
      "Creating a time-major NetCDF file with 7 variables\n",
      "Removing /tmp/tmpqei0kdbn.nc\n",
      "353.100 MB in 1.54 seconds at 229.723 MB / sec\n",
      "Creating a time-major NetCDF file with 9 variables\n",
      "Removing /tmp/tmpdqgj2rl8.nc\n",
      "353.100 MB in 1.34 seconds at 263.825 MB / sec\n",
      "Creating a time-major NetCDF file with 11 variables\n",
      "Removing /tmp/tmppedeqp3p.nc\n",
      "353.100 MB in 1.4 seconds at 251.935 MB / sec\n",
      "Creating a time-major NetCDF file with 13 variables\n",
      "Removing /tmp/tmphk5w20gc.nc\n",
      "353.100 MB in 1.43 seconds at 246.689 MB / sec\n",
      "Creating a time-major NetCDF file with 15 variables\n",
      "Removing /tmp/tmpnj57_yn7.nc\n",
      "353.100 MB in 1.34 seconds at 263.059 MB / sec\n",
      "Creating a time-major NetCDF file with 17 variables\n",
      "Removing /tmp/tmpjostblcg.nc\n",
      "353.100 MB in 1.41 seconds at 250.224 MB / sec\n",
      "Creating a time-major NetCDF file with 19 variables\n",
      "Removing /tmp/tmp8j986g08.nc\n",
      "353.100 MB in 1.34 seconds at 263.233 MB / sec\n",
      "Creating a time-minor NetCDF file with 1 variables\n",
      "Removing /tmp/tmp4cj0hoqv.nc\n",
      "353.100 MB in 0.409 seconds at 864.324 MB / sec\n",
      "Creating a time-minor NetCDF file with 3 variables\n",
      "Removing /tmp/tmpug6l7tq5.nc\n",
      "353.100 MB in 1.51 seconds at 234.007 MB / sec\n",
      "Creating a time-minor NetCDF file with 5 variables\n",
      "Removing /tmp/tmpfhu4rkvt.nc\n",
      "353.100 MB in 1.54 seconds at 229.559 MB / sec\n",
      "Creating a time-minor NetCDF file with 7 variables\n",
      "Removing /tmp/tmplahcdwrg.nc\n",
      "353.100 MB in 1.39 seconds at 253.498 MB / sec\n",
      "Creating a time-minor NetCDF file with 9 variables\n",
      "Removing /tmp/tmpjzoukep7.nc\n",
      "353.100 MB in 1.38 seconds at 255.853 MB / sec\n",
      "Creating a time-minor NetCDF file with 11 variables\n",
      "Removing /tmp/tmp9ulg5hqn.nc\n",
      "353.100 MB in 1.4 seconds at 251.730 MB / sec\n",
      "Creating a time-minor NetCDF file with 13 variables\n",
      "Removing /tmp/tmpvtzuoc30.nc\n",
      "353.100 MB in 1.52 seconds at 232.150 MB / sec\n",
      "Creating a time-minor NetCDF file with 15 variables\n",
      "Removing /tmp/tmpekkedp_h.nc\n",
      "353.100 MB in 1.38 seconds at 256.185 MB / sec\n",
      "Creating a time-minor NetCDF file with 17 variables\n",
      "Removing /tmp/tmpt259kf58.nc\n",
      "353.100 MB in 1.4 seconds at 251.702 MB / sec\n",
      "Creating a time-minor NetCDF file with 19 variables\n",
      "Removing /tmp/tmpnfk90q8j.nc\n",
      "353.100 MB in 1.4 seconds at 251.964 MB / sec\n"
     ]
    }
   ],
   "source": [
    "results = []\n",
    "for timedimpos in [True, False]:\n",
    "    for num_vars in range(1, 20, 2):\n",
    "        print(\"Creating a time-{} NetCDF file with {} variables\".format('major' if timedimpos else 'minor', num_vars))\n",
    "        with NamedTemporaryFile(suffix='.nc', delete=False) as f:\n",
    "            nc = ncgen.make_multivariable_nc(f.name, num_vars=num_vars, unlim=True)\n",
    "            nc.close()\n",
    "        nc = netCDF4.Dataset(f.name, 'r')\n",
    "        with ThroughputMeter() as t:\n",
    "            a = nc.variables['var_0'][:, :, :]\n",
    "        \n",
    "        # python-netCDF4 seems to leak file descriptors\n",
    "        # We have to take a lot of steps to make sure that the files get closed and that\n",
    "        # the space gets reclaimed by the OS\n",
    "        nc.close\n",
    "        del nc\n",
    "        print(\"Removing {}\".format(f.name))\n",
    "        os.remove(f.name)\n",
    "        f.close()\n",
    "        collect()\n",
    "        results.append((timedimpos, num_vars, t.megabytes_per_second(a)))"
   ]
  },
  {
   "cell_type": "code",
   "execution_count": 5,
   "metadata": {
    "collapsed": false
   },
   "outputs": [
    {
     "data": {
      "text/plain": [
       "[(True, 1, 1087.2404125473233),\n",
       " (True, 3, 218.93397865071705),\n",
       " (True, 5, 257.67642439461565),\n",
       " (True, 7, 229.72277825750632),\n",
       " (True, 9, 263.82488242838821),\n",
       " (True, 11, 251.9347266053997),\n",
       " (True, 13, 246.68876693873921),\n",
       " (True, 15, 263.05926637202754),\n",
       " (True, 17, 250.22388421568212),\n",
       " (True, 19, 263.23329214520027),\n",
       " (False, 1, 864.32366279989287),\n",
       " (False, 3, 234.00696139599549),\n",
       " (False, 5, 229.55866364971351),\n",
       " (False, 7, 253.4975747540264),\n",
       " (False, 9, 255.85299426847223),\n",
       " (False, 11, 251.72965287486244),\n",
       " (False, 13, 232.15028089887642),\n",
       " (False, 15, 256.18519139325821),\n",
       " (False, 17, 251.70158775155801),\n",
       " (False, 19, 251.96404400791309)]"
      ]
     },
     "execution_count": 5,
     "metadata": {},
     "output_type": "execute_result"
    }
   ],
   "source": [
    "results"
   ]
  },
  {
   "cell_type": "markdown",
   "metadata": {},
   "source": [
    "and again (run from the command line)...\n",
    "\n",
    "Creating a time-major NetCDF file with 1 variables\n",
    "Removing /tmp/tmpfbrgznqt.nc\n",
    "353.100 MB in 0.314 seconds at 1126.189 MB / sec\n",
    "Creating a time-major NetCDF file with 3 variables\n",
    "Removing /tmp/tmpz618vjky.nc\n",
    "353.100 MB in 1.44 seconds at 245.712 MB / sec\n",
    "Creating a time-major NetCDF file with 5 variables\n",
    "Removing /tmp/tmp0n7lzuqo.nc\n",
    "353.100 MB in 1.38 seconds at 256.594 MB / sec\n",
    "Creating a time-major NetCDF file with 7 variables\n",
    "Removing /tmp/tmph_hqkf46.nc\n",
    "353.100 MB in 1.68 seconds at 210.260 MB / sec\n",
    "Creating a time-major NetCDF file with 9 variables\n",
    "Removing /tmp/tmp93eqp9x_.nc\n",
    "353.100 MB in 1.67 seconds at 211.540 MB / sec\n",
    "Creating a time-major NetCDF file with 11 variables\n",
    "Removing /tmp/tmpwjrusbht.nc\n",
    "353.100 MB in 1.74 seconds at 203.277 MB / sec\n",
    "Creating a time-major NetCDF file with 13 variables\n",
    "Removing /tmp/tmpqbkvc90n.nc\n",
    "353.100 MB in 1.61 seconds at 219.115 MB / sec\n",
    "Creating a time-major NetCDF file with 15 variables\n",
    "Removing /tmp/tmp4d2ui9st.nc\n",
    "353.100 MB in 1.55 seconds at 227.796 MB / sec\n",
    "Creating a time-major NetCDF file with 17 variables\n",
    "Removing /tmp/tmp7v37u_hq.nc\n",
    "353.100 MB in 1.71 seconds at 206.714 MB / sec\n",
    "Creating a time-major NetCDF file with 19 variables\n",
    "Removing /tmp/tmp3z4fz63e.nc\n",
    "353.100 MB in 1.7 seconds at 207.965 MB / sec\n",
    "Creating a time-minor NetCDF file with 1 variables\n",
    "Removing /tmp/tmp7dlf754y.nc\n",
    "353.100 MB in 2.29 seconds at 154.183 MB / sec\n",
    "Creating a time-minor NetCDF file with 3 variables\n",
    "Removing /tmp/tmp17wjppn9.nc\n",
    "353.100 MB in 1.1 seconds at 319.745 MB / sec\n",
    "Creating a time-minor NetCDF file with 5 variables\n",
    "Removing /tmp/tmpwz7etvrr.nc\n",
    "353.100 MB in 0.647 seconds at 545.571 MB / sec\n",
    "Creating a time-minor NetCDF file with 7 variables\n",
    "Removing /tmp/tmpxlslqyjd.nc\n",
    "353.100 MB in 1.72 seconds at 205.496 MB / sec\n",
    "Creating a time-minor NetCDF file with 9 variables\n",
    "Removing /tmp/tmpw9h_8zyi.nc\n",
    "353.100 MB in 1.64 seconds at 214.965 MB / sec\n",
    "Creating a time-minor NetCDF file with 11 variables\n",
    "Removing /tmp/tmpjp67_xg0.nc\n",
    "353.100 MB in 1.67 seconds at 211.767 MB / sec\n",
    "Creating a time-minor NetCDF file with 13 variables\n",
    "Removing /tmp/tmp770n9j5y.nc\n",
    "353.100 MB in 1.71 seconds at 206.908 MB / sec\n",
    "Creating a time-minor NetCDF file with 15 variables\n",
    "Removing /tmp/tmpyjvuaksu.nc\n",
    "353.100 MB in 1.7 seconds at 208.188 MB / sec\n",
    "Creating a time-minor NetCDF file with 17 variables\n",
    "Removing /tmp/tmpcf604xq5.nc\n",
    "353.100 MB in 1.63 seconds at 216.240 MB / sec\n",
    "Creating a time-minor NetCDF file with 19 variables\n",
    "Removing /tmp/tmpw5r4ictr.nc\n",
    "353.100 MB in 1.77 seconds at 198.934 MB / sec"
   ]
  },
  {
   "cell_type": "markdown",
   "metadata": {},
   "source": [
    "There appears to be no significant difference between the read speed of time-major vs. time-minor data at this scale (using the bc_400m grid)."
   ]
  }
 ],
 "metadata": {
  "kernelspec": {
   "display_name": "Python 2",
   "language": "python",
   "name": "python2"
  },
  "language_info": {
   "codemirror_mode": {
    "name": "ipython",
    "version": 2
   },
   "file_extension": ".py",
   "mimetype": "text/x-python",
   "name": "python",
   "nbconvert_exporter": "python",
   "pygments_lexer": "ipython2",
   "version": "2.7.6"
  }
 },
 "nbformat": 4,
 "nbformat_minor": 0
}
