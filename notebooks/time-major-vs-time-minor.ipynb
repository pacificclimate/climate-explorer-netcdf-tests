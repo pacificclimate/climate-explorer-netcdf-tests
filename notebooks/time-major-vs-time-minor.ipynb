{
 "cells": [
  {
   "cell_type": "code",
   "execution_count": null,
   "metadata": {
    "collapsed": false
   },
   "outputs": [],
   "source": [
    "import sys\n",
    "import os\n",
    "from tempfile import NamedTemporaryFile\n",
    "from gc import collect\n",
    "from time import sleep\n",
    "sys.path.append('../util')\n",
    "from meters import ThroughputMeter, clear_host_cache\n",
    "from ncgen import make_nc\n",
    "from grids import *\n",
    "import netCDF4\n",
    "import numpy as np"
   ]
  },
  {
   "cell_type": "code",
   "execution_count": null,
   "metadata": {
    "collapsed": false
   },
   "outputs": [],
   "source": [
    "def write_netcdf_file(timescale, time_major=True, grid=canada_5k):\n",
    "    print(\"Creating a time-{} NetCDF file with {}x{} grid and {} time steps\".format('major' if time_major else 'minor', grid['lon']['count'], grid['lat']['count'],len(timescale)))\n",
    "    with NamedTemporaryFile(suffix='.nc', delete=False, dir='/app/tmp') as f:\n",
    "        nc = make_nc(f.name, grid=grid, timescale=timescale, timemajor=time_major)\n",
    "        nc.close()\n",
    "    print(\"File size: {:.2f}Mb\".format(os.path.getsize(f.name)/1024/1024))\n",
    "    return f"
   ]
  },
  {
   "cell_type": "markdown",
   "metadata": {},
   "source": [
    "../tmp path in the Docker container points at rotating media storage."
   ]
  },
  {
   "cell_type": "code",
   "execution_count": null,
   "metadata": {
    "collapsed": true
   },
   "outputs": [],
   "source": [
    "def netcdf_read_test(f, time_major):\n",
    "    # Open the file just created\n",
    "    nc = netCDF4.Dataset(f.name, 'r')\n",
    "    if time_major:\n",
    "        with ThroughputMeter() as t:\n",
    "            a = nc.variables['var_0'][0,:,:]\n",
    "\n",
    "    else:\n",
    "        with ThroughputMeter() as t:\n",
    "            a = nc.variables['var_0'][:,:,0]\n",
    "    res = (time_major, len(timescale), t.megabytes_per_second(a))\n",
    "    # python-netCDF4 seems to leak file descriptors\n",
    "    # We have to take a lot of steps to make sure that the files get closed and that\n",
    "    # the space gets reclaimed by the OS\n",
    "    nc.close\n",
    "    del nc\n",
    "    print(\"Removing {}\".format(f.name))\n",
    "    os.remove(f.name)\n",
    "    f.close()\n",
    "    collect()\n",
    "    return res"
   ]
  },
  {
   "cell_type": "markdown",
   "metadata": {},
   "source": [
    "### Test scenarios"
   ]
  },
  {
   "cell_type": "code",
   "execution_count": null,
   "metadata": {
    "collapsed": true
   },
   "outputs": [],
   "source": [
    "time_major = [True, False]\n",
    "grids = [world_250k, world_125k, canada_5k]\n",
    "ts = [timescales['annual'], timescales['monthly'], timescales['daily']]"
   ]
  },
  {
   "cell_type": "code",
   "execution_count": null,
   "metadata": {
    "collapsed": false
   },
   "outputs": [],
   "source": [
    "results = []\n",
    "\n",
    "for tm in time_major:\n",
    "    for grid in grids:\n",
    "        for timescale in ts:\n",
    "            testfile = write_netcdf_file(timescale, time_major=tm, grid=grid)\n",
    "            clear_host_cache()\n",
    "            results.append(netcdf_read_test(testfile, tm))"
   ]
  },
  {
   "cell_type": "markdown",
   "metadata": {},
   "source": [
    "## Summarize Results"
   ]
  },
  {
   "cell_type": "code",
   "execution_count": null,
   "metadata": {
    "collapsed": false
   },
   "outputs": [],
   "source": [
    "results"
   ]
  },
  {
   "cell_type": "markdown",
   "metadata": {},
   "source": [
    "Reshape to dimensions timescale, grid, time_major"
   ]
  },
  {
   "cell_type": "code",
   "execution_count": null,
   "metadata": {
    "collapsed": false
   },
   "outputs": [],
   "source": [
    "a = np.array([r[2] for r in results]).reshape(len(time_major),len(grids),len(ts))\n",
    "a"
   ]
  },
  {
   "cell_type": "code",
   "execution_count": null,
   "metadata": {
    "collapsed": false
   },
   "outputs": [],
   "source": [
    "import matplotlib.pyplot as plt\n",
    "%matplotlib inline\n",
    "\n",
    "f, (ax1, ax2, ax3) = plt.subplots(3, 1)\n",
    "f.set_size_inches(18.5, 10.5)\n",
    "\n",
    "ax1.plot(a[0,0,:], label=\"mjr\")\n",
    "ax1.plot(a[1,0,:], label=\"mnr\")\n",
    "ax1.legend()\n",
    "ax1.set_title(\"world_250k\")\n",
    "\n",
    "ax2.plot(a[0,1,:], label=\"mjr\")\n",
    "ax2.plot(a[1,1,:], label=\"mnr\")\n",
    "ax2.set_title(\"world_125k\")\n",
    "\n",
    "ax3.plot(a[0,2,:], label=\"mjr\")\n",
    "ax3.plot(a[1,2,:], label=\"mnr\")\n",
    "ax3.set_title(\"canada_5k\")"
   ]
  }
 ],
 "metadata": {
  "kernelspec": {
   "display_name": "Python 3",
   "language": "python",
   "name": "python3"
  },
  "language_info": {
   "codemirror_mode": {
    "name": "ipython",
    "version": 3
   },
   "file_extension": ".py",
   "mimetype": "text/x-python",
   "name": "python",
   "nbconvert_exporter": "python",
   "pygments_lexer": "ipython3",
   "version": "3.4.0"
  }
 },
 "nbformat": 4,
 "nbformat_minor": 0
}
