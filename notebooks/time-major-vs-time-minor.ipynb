{
 "cells": [
  {
   "cell_type": "code",
   "execution_count": 236,
   "metadata": {
    "collapsed": false
   },
   "outputs": [],
   "source": [
    "import sys\n",
    "import os\n",
    "from tempfile import NamedTemporaryFile\n",
    "from gc import collect\n",
    "from time import sleep\n",
    "sys.path.append('../util')\n",
    "from meters import ThroughputMeter\n",
    "from ncgen import *\n",
    "from grids import *\n",
    "import netCDF4\n",
    "import numpy as np"
   ]
  },
  {
   "cell_type": "code",
   "execution_count": 237,
   "metadata": {
    "collapsed": false
   },
   "outputs": [],
   "source": [
    "def write_netcdf_file(timescale, time_major=True):\n",
    "    print(\"Creating a time-{} NetCDF file with {}x{} grid and {} time steps\".format('major' if time_major else 'minor', grid['lon']['count'], grid['lat']['count'],len(timescale)))\n",
    "    with NamedTemporaryFile(suffix='.nc', delete=False, dir='../tmp') as f:\n",
    "        nc = get_base_nc(f.name, world_125k)\n",
    "        nc = add_simple_time(nc, timescale)\n",
    "        nc = add_climo_data(nc, 'var_0', timemajor=time_major)\n",
    "        nc.close()\n",
    "    print(\"file size: {}\".format(os.path.getsize(f.name)))\n",
    "    return f"
   ]
  },
  {
   "cell_type": "markdown",
   "metadata": {},
   "source": [
    "../tmp path in the Docker container points at rotating media storage."
   ]
  },
  {
   "cell_type": "code",
   "execution_count": 238,
   "metadata": {
    "collapsed": true
   },
   "outputs": [],
   "source": [
    "def netcdf_read_test(f):\n",
    "    results = []\n",
    "    # Open the file just created\n",
    "    nc = netCDF4.Dataset(f.name, 'r')\n",
    "    with ThroughputMeter() as t:\n",
    "        for i in range(nc.variables['var_0'].shape[0]):\n",
    "            a = nc.variables['var_0'][i,:,:]\n",
    "    results.append((time_major, len(timescale), t.megabytes_per_second(nc.variables['var_0'])))\n",
    "    # python-netCDF4 seems to leak file descriptors\n",
    "    # We have to take a lot of steps to make sure that the files get closed and that\n",
    "    # the space gets reclaimed by the OS\n",
    "    nc.close\n",
    "    del nc\n",
    "    print(\"Removing {}\".format(f.name))\n",
    "    os.remove(f.name)\n",
    "    f.close()\n",
    "    collect()\n",
    "    return results"
   ]
  },
  {
   "cell_type": "code",
   "execution_count": 239,
   "metadata": {
    "collapsed": true
   },
   "outputs": [],
   "source": [
    "def clear_host_cache():\n",
    "    \"\"\" Ensures that temp files created for subsequent readout are not read from cache, but from disk.\n",
    "        This requires triggering the script clear_host_cache.sh to carry out the clearing of system cache\n",
    "        by way of modifying a .tmp file in the /app/watch directory, which is linked to a real directory on the host\n",
    "        (make sure it has no other .tmp files in it you do not want deleted).\n",
    "        Make sure to run /path/on/host/to/notebooks/sudo clear_host_cache.sh &> /dev/null on the host before starting \n",
    "        this test suite.\"\"\"\n",
    "    os.system('touch /app/watch/cc_sig.tmp')\n",
    "    while True:\n",
    "        try:\n",
    "            open('/app/watch/cc_sig.tmp', 'w')\n",
    "            f.write('.') # modify the file to trigger clear_host_cache.sh to carry out cache clearing\n",
    "        except: # clear_host_cache.sh will delete the temp file after the cache is cleared, which will cause this exception\n",
    "            print('host cache cleared')\n",
    "            f.close()\n",
    "            break"
   ]
  },
  {
   "cell_type": "markdown",
   "metadata": {},
   "source": [
    "###Run time-major test for world_125k grid at monthly timescale:"
   ]
  },
  {
   "cell_type": "code",
   "execution_count": 240,
   "metadata": {
    "collapsed": false
   },
   "outputs": [
    {
     "name": "stdout",
     "output_type": "stream",
     "text": [
      "Creating a time-major NetCDF file with 256x128 grid and 1800 time steps\n",
      "file size: 235945088\n"
     ]
    }
   ],
   "source": [
    "grid = world_125k\n",
    "timescale = timescales['monthly']\n",
    "time_major = True\n",
    "testfile = write_netcdf_file(timescale, time_major)"
   ]
  },
  {
   "cell_type": "markdown",
   "metadata": {},
   "source": [
    "####Need to empty the filesystem buffers and cache after writing the file, to ensure it is read back from disk and not memory:"
   ]
  },
  {
   "cell_type": "code",
   "execution_count": 241,
   "metadata": {
    "collapsed": false
   },
   "outputs": [
    {
     "name": "stdout",
     "output_type": "stream",
     "text": [
      "             total       used       free     shared    buffers     cached\r\n",
      "Mem:          7681       7548        133        770          3       5250\r\n",
      "-/+ buffers/cache:       2295       5386\r\n",
      "Swap:            0          0          0\r\n"
     ]
    }
   ],
   "source": [
    "!free -m"
   ]
  },
  {
   "cell_type": "code",
   "execution_count": 242,
   "metadata": {
    "collapsed": true
   },
   "outputs": [],
   "source": [
    "!sync"
   ]
  },
  {
   "cell_type": "code",
   "execution_count": 243,
   "metadata": {
    "collapsed": false
   },
   "outputs": [
    {
     "name": "stdout",
     "output_type": "stream",
     "text": [
      "host cache cleared\n"
     ]
    }
   ],
   "source": [
    "clear_host_cache()\n",
    "sleep(0.3)"
   ]
  },
  {
   "cell_type": "code",
   "execution_count": 244,
   "metadata": {
    "collapsed": false
   },
   "outputs": [
    {
     "name": "stdout",
     "output_type": "stream",
     "text": [
      "             total       used       free     shared    buffers     cached\r\n",
      "Mem:          7681       5083       2597        775          0       2816\r\n",
      "-/+ buffers/cache:       2266       5414\r\n",
      "Swap:            0          0          0\r\n"
     ]
    }
   ],
   "source": [
    "!free -m"
   ]
  },
  {
   "cell_type": "code",
   "execution_count": 245,
   "metadata": {
    "collapsed": false
   },
   "outputs": [
    {
     "name": "stdout",
     "output_type": "stream",
     "text": [
      "225.000 MB in 1.22 seconds at 183.712 MB / sec\n",
      "Removing /app/tmp/tmplpd0oekg.nc\n"
     ]
    }
   ],
   "source": [
    "results_tmaj_world_125k_monthly = netcdf_read_test(testfile)"
   ]
  },
  {
   "cell_type": "code",
   "execution_count": 246,
   "metadata": {
    "collapsed": false
   },
   "outputs": [
    {
     "data": {
      "text/plain": [
       "[(True, 1800, 183.71220682200041)]"
      ]
     },
     "execution_count": 246,
     "metadata": {},
     "output_type": "execute_result"
    }
   ],
   "source": [
    "results_tmaj_world_125k_monthly"
   ]
  },
  {
   "cell_type": "markdown",
   "metadata": {},
   "source": [
    "###Run time-minor test for world_125k grid at monthly timescale:"
   ]
  },
  {
   "cell_type": "code",
   "execution_count": 247,
   "metadata": {
    "collapsed": false
   },
   "outputs": [
    {
     "name": "stdout",
     "output_type": "stream",
     "text": [
      "Creating a time-minor NetCDF file with 256x128 grid and 1800 time steps\n",
      "file size: 235945088\n"
     ]
    }
   ],
   "source": [
    "time_major = False\n",
    "testfile = write_netcdf_file(timescale, time_major)"
   ]
  },
  {
   "cell_type": "code",
   "execution_count": 248,
   "metadata": {
    "collapsed": false,
    "scrolled": true
   },
   "outputs": [
    {
     "name": "stdout",
     "output_type": "stream",
     "text": [
      "             total       used       free     shared    buffers     cached\r\n",
      "Mem:          7681       3331       4349        795          1       1107\r\n",
      "-/+ buffers/cache:       2223       5458\r\n",
      "Swap:            0          0          0\r\n"
     ]
    }
   ],
   "source": [
    "!free -m"
   ]
  },
  {
   "cell_type": "code",
   "execution_count": 249,
   "metadata": {
    "collapsed": true
   },
   "outputs": [],
   "source": [
    "!sync"
   ]
  },
  {
   "cell_type": "code",
   "execution_count": 250,
   "metadata": {
    "collapsed": false
   },
   "outputs": [
    {
     "name": "stdout",
     "output_type": "stream",
     "text": [
      "host cache cleared\n"
     ]
    }
   ],
   "source": [
    "clear_host_cache()\n",
    "sleep(0.3)"
   ]
  },
  {
   "cell_type": "code",
   "execution_count": 251,
   "metadata": {
    "collapsed": false,
    "scrolled": true
   },
   "outputs": [
    {
     "name": "stdout",
     "output_type": "stream",
     "text": [
      "             total       used       free     shared    buffers     cached\r\n",
      "Mem:          7681       3100       4581        802          0        887\r\n",
      "-/+ buffers/cache:       2212       5469\r\n",
      "Swap:            0          0          0\r\n"
     ]
    }
   ],
   "source": [
    "!free -m"
   ]
  },
  {
   "cell_type": "code",
   "execution_count": 252,
   "metadata": {
    "collapsed": false,
    "scrolled": true
   },
   "outputs": [
    {
     "name": "stdout",
     "output_type": "stream",
     "text": [
      "225.000 MB in 1.18 seconds at 190.995 MB / sec\n",
      "Removing /app/tmp/tmpw1llk2ai.nc\n"
     ]
    }
   ],
   "source": [
    "results_tmin_world_125k_monthly = netcdf_read_test(testfile)"
   ]
  },
  {
   "cell_type": "code",
   "execution_count": 253,
   "metadata": {
    "collapsed": false
   },
   "outputs": [
    {
     "data": {
      "text/plain": [
       "[(False, 1800, 190.99482136250705)]"
      ]
     },
     "execution_count": 253,
     "metadata": {},
     "output_type": "execute_result"
    }
   ],
   "source": [
    "results_tmin_world_125k_monthly"
   ]
  },
  {
   "cell_type": "markdown",
   "metadata": {},
   "source": [
    "###Run time-major test for canada_5k grid at monthly timescale:"
   ]
  },
  {
   "cell_type": "code",
   "execution_count": 254,
   "metadata": {
    "collapsed": false
   },
   "outputs": [
    {
     "name": "stdout",
     "output_type": "stream",
     "text": [
      "Creating a time-major NetCDF file with 1068x510 grid and 1800 time steps\n",
      "file size: 235945088\n"
     ]
    }
   ],
   "source": [
    "grid = canada_5k\n",
    "timescale = timescales['monthly']\n",
    "time_major = True\n",
    "testfile = write_netcdf_file(timescale, time_major)"
   ]
  },
  {
   "cell_type": "code",
   "execution_count": 255,
   "metadata": {
    "collapsed": false,
    "scrolled": true
   },
   "outputs": [
    {
     "name": "stdout",
     "output_type": "stream",
     "text": [
      "             total       used       free     shared    buffers     cached\r\n",
      "Mem:          7681       3282       4399        828          1       1141\r\n",
      "-/+ buffers/cache:       2139       5541\r\n",
      "Swap:            0          0          0\r\n"
     ]
    }
   ],
   "source": [
    "!free -m"
   ]
  },
  {
   "cell_type": "code",
   "execution_count": 256,
   "metadata": {
    "collapsed": true
   },
   "outputs": [],
   "source": [
    "!sync"
   ]
  },
  {
   "cell_type": "code",
   "execution_count": 257,
   "metadata": {
    "collapsed": false
   },
   "outputs": [
    {
     "name": "stdout",
     "output_type": "stream",
     "text": [
      "host cache cleared\n"
     ]
    }
   ],
   "source": [
    "clear_host_cache()\n",
    "sleep(0.3)"
   ]
  },
  {
   "cell_type": "code",
   "execution_count": 258,
   "metadata": {
    "collapsed": false,
    "scrolled": false
   },
   "outputs": [
    {
     "name": "stdout",
     "output_type": "stream",
     "text": [
      "             total       used       free     shared    buffers     cached\r\n",
      "Mem:          7681       3037       4643        828          0        914\r\n",
      "-/+ buffers/cache:       2122       5558\r\n",
      "Swap:            0          0          0\r\n"
     ]
    }
   ],
   "source": [
    "!free -m"
   ]
  },
  {
   "cell_type": "code",
   "execution_count": 259,
   "metadata": {
    "collapsed": false,
    "scrolled": true
   },
   "outputs": [
    {
     "name": "stdout",
     "output_type": "stream",
     "text": [
      "225.000 MB in 1.17 seconds at 191.794 MB / sec\n",
      "Removing /app/tmp/tmpfojs179i.nc\n"
     ]
    }
   ],
   "source": [
    "results_tmaj_canada_5k_monthly = netcdf_read_test(testfile)"
   ]
  },
  {
   "cell_type": "code",
   "execution_count": 260,
   "metadata": {
    "collapsed": false
   },
   "outputs": [
    {
     "data": {
      "text/plain": [
       "[(True, 1800, 191.79432212891814)]"
      ]
     },
     "execution_count": 260,
     "metadata": {},
     "output_type": "execute_result"
    }
   ],
   "source": [
    "results_tmaj_canada_5k_monthly"
   ]
  },
  {
   "cell_type": "markdown",
   "metadata": {},
   "source": [
    "###Run time-minor test for canada_5k grid at monthly timescale:"
   ]
  },
  {
   "cell_type": "code",
   "execution_count": 261,
   "metadata": {
    "collapsed": false
   },
   "outputs": [
    {
     "name": "stdout",
     "output_type": "stream",
     "text": [
      "Creating a time-minor NetCDF file with 1068x510 grid and 1800 time steps\n",
      "file size: 235945088\n"
     ]
    }
   ],
   "source": [
    "grid = canada_5k\n",
    "timescale = timescales['monthly']\n",
    "time_major = False\n",
    "testfile = write_netcdf_file(timescale, time_major)"
   ]
  },
  {
   "cell_type": "code",
   "execution_count": 262,
   "metadata": {
    "collapsed": false
   },
   "outputs": [
    {
     "name": "stdout",
     "output_type": "stream",
     "text": [
      "             total       used       free     shared    buffers     cached\r\n",
      "Mem:          7681       3265       4416        823          1       1134\r\n",
      "-/+ buffers/cache:       2129       5552\r\n",
      "Swap:            0          0          0\r\n"
     ]
    }
   ],
   "source": [
    "!free -m"
   ]
  },
  {
   "cell_type": "code",
   "execution_count": 263,
   "metadata": {
    "collapsed": true
   },
   "outputs": [],
   "source": [
    "!sync"
   ]
  },
  {
   "cell_type": "code",
   "execution_count": 264,
   "metadata": {
    "collapsed": false
   },
   "outputs": [
    {
     "name": "stdout",
     "output_type": "stream",
     "text": [
      "host cache cleared\n"
     ]
    }
   ],
   "source": [
    "clear_host_cache()\n",
    "sleep(0.3)"
   ]
  },
  {
   "cell_type": "code",
   "execution_count": 265,
   "metadata": {
    "collapsed": false,
    "scrolled": true
   },
   "outputs": [
    {
     "name": "stdout",
     "output_type": "stream",
     "text": [
      "             total       used       free     shared    buffers     cached\r\n",
      "Mem:          7681       3031       4650        823          0        908\r\n",
      "-/+ buffers/cache:       2121       5559\r\n",
      "Swap:            0          0          0\r\n"
     ]
    }
   ],
   "source": [
    "!free -m"
   ]
  },
  {
   "cell_type": "code",
   "execution_count": 266,
   "metadata": {
    "collapsed": false,
    "scrolled": true
   },
   "outputs": [
    {
     "name": "stdout",
     "output_type": "stream",
     "text": [
      "225.000 MB in 1.2 seconds at 188.266 MB / sec\n",
      "Removing /app/tmp/tmp74ws_ink.nc\n"
     ]
    }
   ],
   "source": [
    "results_tmin_canada_5k_monthly = netcdf_read_test(testfile)"
   ]
  },
  {
   "cell_type": "code",
   "execution_count": 267,
   "metadata": {
    "collapsed": false,
    "scrolled": true
   },
   "outputs": [
    {
     "data": {
      "text/plain": [
       "[(False, 1800, 188.26634949748407)]"
      ]
     },
     "execution_count": 267,
     "metadata": {},
     "output_type": "execute_result"
    }
   ],
   "source": [
    "results_tmin_canada_5k_monthly"
   ]
  },
  {
   "cell_type": "markdown",
   "metadata": {},
   "source": [
    "###Run time-major test for canada_5k grid at daily timescale:"
   ]
  },
  {
   "cell_type": "code",
   "execution_count": 268,
   "metadata": {
    "collapsed": false
   },
   "outputs": [
    {
     "name": "stdout",
     "output_type": "stream",
     "text": [
      "Creating a time-major NetCDF file with 1068x510 grid and 54787 time steps\n",
      "file size: 7181269100\n"
     ]
    }
   ],
   "source": [
    "grid = canada_5k\n",
    "timescale = timescales['daily']\n",
    "time_major = True\n",
    "testfile = write_netcdf_file(timescale, time_major)"
   ]
  },
  {
   "cell_type": "code",
   "execution_count": 269,
   "metadata": {
    "collapsed": false
   },
   "outputs": [
    {
     "name": "stdout",
     "output_type": "stream",
     "text": [
      "             total       used       free     shared    buffers     cached\r\n",
      "Mem:          7681       7556        125        813          2       5278\r\n",
      "-/+ buffers/cache:       2275       5406\r\n",
      "Swap:            0          0          0\r\n"
     ]
    }
   ],
   "source": [
    "!free -m"
   ]
  },
  {
   "cell_type": "code",
   "execution_count": 270,
   "metadata": {
    "collapsed": true
   },
   "outputs": [],
   "source": [
    "!sync"
   ]
  },
  {
   "cell_type": "code",
   "execution_count": 271,
   "metadata": {
    "collapsed": false
   },
   "outputs": [
    {
     "name": "stdout",
     "output_type": "stream",
     "text": [
      "host cache cleared\n"
     ]
    }
   ],
   "source": [
    "clear_host_cache()\n",
    "sleep(0.3)"
   ]
  },
  {
   "cell_type": "code",
   "execution_count": 272,
   "metadata": {
    "collapsed": false
   },
   "outputs": [
    {
     "name": "stdout",
     "output_type": "stream",
     "text": [
      "             total       used       free     shared    buffers     cached\r\n",
      "Mem:          7681       4981       2700        813          0       2759\r\n",
      "-/+ buffers/cache:       2221       5460\r\n",
      "Swap:            0          0          0\r\n"
     ]
    }
   ],
   "source": [
    "!free -m"
   ]
  },
  {
   "cell_type": "code",
   "execution_count": 273,
   "metadata": {
    "collapsed": false
   },
   "outputs": [
    {
     "name": "stdout",
     "output_type": "stream",
     "text": [
      "6848.375 MB in 36.6 seconds at 187.186 MB / sec\n",
      "Removing /app/tmp/tmp5bvm7iwf.nc\n"
     ]
    }
   ],
   "source": [
    "results_tmaj_canada_5k_daily = netcdf_read_test(testfile)"
   ]
  },
  {
   "cell_type": "code",
   "execution_count": 274,
   "metadata": {
    "collapsed": false,
    "scrolled": true
   },
   "outputs": [
    {
     "data": {
      "text/plain": [
       "[(True, 54787, 187.18618583868866)]"
      ]
     },
     "execution_count": 274,
     "metadata": {},
     "output_type": "execute_result"
    }
   ],
   "source": [
    "results_tmaj_canada_5k_daily"
   ]
  },
  {
   "cell_type": "markdown",
   "metadata": {},
   "source": [
    "###Run time-minor test for canada_5k grid at daily timescale:"
   ]
  },
  {
   "cell_type": "code",
   "execution_count": 275,
   "metadata": {
    "collapsed": false
   },
   "outputs": [
    {
     "name": "stdout",
     "output_type": "stream",
     "text": [
      "Creating a time-minor NetCDF file with 1068x510 grid and 54787 time steps\n",
      "file size: 7181269100\n"
     ]
    }
   ],
   "source": [
    "grid = canada_5k\n",
    "timescale = timescales['daily']\n",
    "time_major = False\n",
    "testfile = write_netcdf_file(timescale, time_major)"
   ]
  },
  {
   "cell_type": "code",
   "execution_count": 276,
   "metadata": {
    "collapsed": false
   },
   "outputs": [
    {
     "name": "stdout",
     "output_type": "stream",
     "text": [
      "             total       used       free     shared    buffers     cached\r\n",
      "Mem:          7681       7386        294        789          2       5070\r\n",
      "-/+ buffers/cache:       2314       5367\r\n",
      "Swap:            0          0          0\r\n"
     ]
    }
   ],
   "source": [
    "!free -m"
   ]
  },
  {
   "cell_type": "code",
   "execution_count": 277,
   "metadata": {
    "collapsed": true
   },
   "outputs": [],
   "source": [
    "!sync"
   ]
  },
  {
   "cell_type": "code",
   "execution_count": 278,
   "metadata": {
    "collapsed": false
   },
   "outputs": [
    {
     "name": "stdout",
     "output_type": "stream",
     "text": [
      "host cache cleared\n"
     ]
    }
   ],
   "source": [
    "clear_host_cache()\n",
    "sleep(0.3)"
   ]
  },
  {
   "cell_type": "code",
   "execution_count": 279,
   "metadata": {
    "collapsed": false
   },
   "outputs": [
    {
     "name": "stdout",
     "output_type": "stream",
     "text": [
      "             total       used       free     shared    buffers     cached\r\n",
      "Mem:          7681       4567       3113        793          0       2313\r\n",
      "-/+ buffers/cache:       2253       5428\r\n",
      "Swap:            0          0          0\r\n"
     ]
    }
   ],
   "source": [
    "!free -m"
   ]
  },
  {
   "cell_type": "code",
   "execution_count": 280,
   "metadata": {
    "collapsed": false
   },
   "outputs": [
    {
     "name": "stdout",
     "output_type": "stream",
     "text": [
      "6848.375 MB in 37.7 seconds at 181.777 MB / sec\n",
      "Removing /app/tmp/tmpvsc11dth.nc\n"
     ]
    }
   ],
   "source": [
    "results_tmin_canada_5k_daily = netcdf_read_test(testfile)"
   ]
  },
  {
   "cell_type": "code",
   "execution_count": 281,
   "metadata": {
    "collapsed": false
   },
   "outputs": [
    {
     "data": {
      "text/plain": [
       "[(False, 54787, 181.77706079070222)]"
      ]
     },
     "execution_count": 281,
     "metadata": {},
     "output_type": "execute_result"
    }
   ],
   "source": [
    "results_tmin_canada_5k_daily"
   ]
  },
  {
   "cell_type": "markdown",
   "metadata": {},
   "source": [
    "###Run time-major test for world_250k grid at daily timescale:"
   ]
  },
  {
   "cell_type": "code",
   "execution_count": 282,
   "metadata": {
    "collapsed": false
   },
   "outputs": [
    {
     "name": "stdout",
     "output_type": "stream",
     "text": [
      "Creating a time-major NetCDF file with 128x64 grid and 54787 time steps\n",
      "file size: 7181269100\n"
     ]
    }
   ],
   "source": [
    "grid = world_250k\n",
    "timescale = timescales['daily']\n",
    "time_major = True\n",
    "testfile = write_netcdf_file(timescale, time_major)"
   ]
  },
  {
   "cell_type": "code",
   "execution_count": 283,
   "metadata": {
    "collapsed": false
   },
   "outputs": [
    {
     "name": "stdout",
     "output_type": "stream",
     "text": [
      "             total       used       free     shared    buffers     cached\r\n",
      "Mem:          7681       7564        117        826          2       5204\r\n",
      "-/+ buffers/cache:       2357       5323\r\n",
      "Swap:            0          0          0\r\n"
     ]
    }
   ],
   "source": [
    "!free -m"
   ]
  },
  {
   "cell_type": "code",
   "execution_count": 284,
   "metadata": {
    "collapsed": true
   },
   "outputs": [],
   "source": [
    "!sync"
   ]
  },
  {
   "cell_type": "code",
   "execution_count": 285,
   "metadata": {
    "collapsed": false
   },
   "outputs": [
    {
     "name": "stdout",
     "output_type": "stream",
     "text": [
      "host cache cleared\n"
     ]
    }
   ],
   "source": [
    "clear_host_cache()\n",
    "sleep(0.3)"
   ]
  },
  {
   "cell_type": "code",
   "execution_count": 286,
   "metadata": {
    "collapsed": false
   },
   "outputs": [
    {
     "name": "stdout",
     "output_type": "stream",
     "text": [
      "             total       used       free     shared    buffers     cached\r\n",
      "Mem:          7681       4901       2780        826          0       2601\r\n",
      "-/+ buffers/cache:       2298       5382\r\n",
      "Swap:            0          0          0\r\n"
     ]
    }
   ],
   "source": [
    "!free -m"
   ]
  },
  {
   "cell_type": "code",
   "execution_count": 287,
   "metadata": {
    "collapsed": false
   },
   "outputs": [
    {
     "name": "stdout",
     "output_type": "stream",
     "text": [
      "6848.375 MB in 36.4 seconds at 188.167 MB / sec\n",
      "Removing /app/tmp/tmp4q3b5mg7.nc\n"
     ]
    }
   ],
   "source": [
    "results_tmaj_world_250k_daily = netcdf_read_test(testfile)"
   ]
  },
  {
   "cell_type": "code",
   "execution_count": 288,
   "metadata": {
    "collapsed": false
   },
   "outputs": [
    {
     "data": {
      "text/plain": [
       "[(True, 54787, 188.16669504588802)]"
      ]
     },
     "execution_count": 288,
     "metadata": {},
     "output_type": "execute_result"
    }
   ],
   "source": [
    "results_tmaj_world_250k_daily"
   ]
  },
  {
   "cell_type": "markdown",
   "metadata": {},
   "source": [
    "###Run time-minor test for world_250k grid at daily timescale:"
   ]
  },
  {
   "cell_type": "code",
   "execution_count": 289,
   "metadata": {
    "collapsed": false
   },
   "outputs": [
    {
     "name": "stdout",
     "output_type": "stream",
     "text": [
      "Creating a time-minor NetCDF file with 128x64 grid and 54787 time steps\n",
      "file size: 7181269100\n"
     ]
    }
   ],
   "source": [
    "grid = world_250k\n",
    "timescale = timescales['daily']\n",
    "time_major = False\n",
    "testfile = write_netcdf_file(timescale, time_major)"
   ]
  },
  {
   "cell_type": "code",
   "execution_count": 290,
   "metadata": {
    "collapsed": false,
    "scrolled": true
   },
   "outputs": [
    {
     "name": "stdout",
     "output_type": "stream",
     "text": [
      "             total       used       free     shared    buffers     cached\r\n",
      "Mem:          7681       7355        326        790          3       5017\r\n",
      "-/+ buffers/cache:       2334       5346\r\n",
      "Swap:            0          0          0\r\n"
     ]
    }
   ],
   "source": [
    "!free -m"
   ]
  },
  {
   "cell_type": "code",
   "execution_count": 291,
   "metadata": {
    "collapsed": true
   },
   "outputs": [],
   "source": [
    "!sync"
   ]
  },
  {
   "cell_type": "code",
   "execution_count": 292,
   "metadata": {
    "collapsed": false
   },
   "outputs": [
    {
     "name": "stdout",
     "output_type": "stream",
     "text": [
      "host cache cleared\n"
     ]
    }
   ],
   "source": [
    "clear_host_cache()\n",
    "sleep(0.3)"
   ]
  },
  {
   "cell_type": "code",
   "execution_count": 293,
   "metadata": {
    "collapsed": false
   },
   "outputs": [
    {
     "name": "stdout",
     "output_type": "stream",
     "text": [
      "             total       used       free     shared    buffers     cached\r\n",
      "Mem:          7681       4835       2846        799          0       2549\r\n",
      "-/+ buffers/cache:       2285       5396\r\n",
      "Swap:            0          0          0\r\n"
     ]
    }
   ],
   "source": [
    "!free -m"
   ]
  },
  {
   "cell_type": "code",
   "execution_count": 294,
   "metadata": {
    "collapsed": false
   },
   "outputs": [
    {
     "name": "stdout",
     "output_type": "stream",
     "text": [
      "6848.375 MB in 38.3 seconds at 178.872 MB / sec\n",
      "Removing /app/tmp/tmpznpivi98.nc\n"
     ]
    }
   ],
   "source": [
    "results_tmin_world_250k_daily = netcdf_read_test(testfile)"
   ]
  },
  {
   "cell_type": "code",
   "execution_count": 295,
   "metadata": {
    "collapsed": false
   },
   "outputs": [
    {
     "data": {
      "text/plain": [
       "[(False, 54787, 178.87182460918532)]"
      ]
     },
     "execution_count": 295,
     "metadata": {},
     "output_type": "execute_result"
    }
   ],
   "source": [
    "results_tmin_world_250k_daily"
   ]
  },
  {
   "cell_type": "markdown",
   "metadata": {},
   "source": [
    "###Run time-major test for bc_400m grid at monthly timescale:"
   ]
  },
  {
   "cell_type": "code",
   "execution_count": 296,
   "metadata": {
    "collapsed": false
   },
   "outputs": [
    {
     "name": "stdout",
     "output_type": "stream",
     "text": [
      "Creating a time-major NetCDF file with 1680x3241 grid and 1800 time steps\n",
      "file size: 235945088\n"
     ]
    }
   ],
   "source": [
    "grid = bc_400m\n",
    "timescale = timescales['monthly']\n",
    "time_major = True\n",
    "testfile = write_netcdf_file(timescale, time_major)"
   ]
  },
  {
   "cell_type": "code",
   "execution_count": 297,
   "metadata": {
    "collapsed": false,
    "scrolled": true
   },
   "outputs": [
    {
     "name": "stdout",
     "output_type": "stream",
     "text": [
      "             total       used       free     shared    buffers     cached\r\n",
      "Mem:          7681       3283       4398        834          2       1114\r\n",
      "-/+ buffers/cache:       2166       5515\r\n",
      "Swap:            0          0          0\r\n"
     ]
    }
   ],
   "source": [
    "!free -m"
   ]
  },
  {
   "cell_type": "code",
   "execution_count": 298,
   "metadata": {
    "collapsed": true
   },
   "outputs": [],
   "source": [
    "!sync"
   ]
  },
  {
   "cell_type": "code",
   "execution_count": 299,
   "metadata": {
    "collapsed": false
   },
   "outputs": [
    {
     "name": "stdout",
     "output_type": "stream",
     "text": [
      "host cache cleared\n"
     ]
    }
   ],
   "source": [
    "clear_host_cache()\n",
    "sleep(0.3)"
   ]
  },
  {
   "cell_type": "code",
   "execution_count": 300,
   "metadata": {
    "collapsed": false
   },
   "outputs": [
    {
     "name": "stdout",
     "output_type": "stream",
     "text": [
      "             total       used       free     shared    buffers     cached\r\n",
      "Mem:          7681       3046       4634        834          0        884\r\n",
      "-/+ buffers/cache:       2161       5519\r\n",
      "Swap:            0          0          0\r\n"
     ]
    }
   ],
   "source": [
    "!free -m"
   ]
  },
  {
   "cell_type": "code",
   "execution_count": 301,
   "metadata": {
    "collapsed": false
   },
   "outputs": [
    {
     "name": "stdout",
     "output_type": "stream",
     "text": [
      "225.000 MB in 1.12 seconds at 201.298 MB / sec\n",
      "Removing /app/tmp/tmpybknm8m2.nc\n"
     ]
    }
   ],
   "source": [
    "results_tmaj_bc_400m_monthly = netcdf_read_test(testfile)"
   ]
  },
  {
   "cell_type": "code",
   "execution_count": 302,
   "metadata": {
    "collapsed": false
   },
   "outputs": [
    {
     "data": {
      "text/plain": [
       "[(True, 1800, 201.29829214410177)]"
      ]
     },
     "execution_count": 302,
     "metadata": {},
     "output_type": "execute_result"
    }
   ],
   "source": [
    "results_tmaj_bc_400m_monthly"
   ]
  },
  {
   "cell_type": "markdown",
   "metadata": {},
   "source": [
    "###Run time-minor test for bc_400m grid at monthly timescale:"
   ]
  },
  {
   "cell_type": "code",
   "execution_count": 303,
   "metadata": {
    "collapsed": false
   },
   "outputs": [
    {
     "name": "stdout",
     "output_type": "stream",
     "text": [
      "Creating a time-minor NetCDF file with 1680x3241 grid and 1800 time steps\n",
      "file size: 235945088\n"
     ]
    }
   ],
   "source": [
    "grid = bc_400m\n",
    "timescale = timescales['monthly']\n",
    "time_major = False\n",
    "testfile = write_netcdf_file(timescale, time_major)"
   ]
  },
  {
   "cell_type": "code",
   "execution_count": 304,
   "metadata": {
    "collapsed": false,
    "scrolled": false
   },
   "outputs": [
    {
     "name": "stdout",
     "output_type": "stream",
     "text": [
      "             total       used       free     shared    buffers     cached\r\n",
      "Mem:          7681       3288       4393        834          1       1112\r\n",
      "-/+ buffers/cache:       2174       5506\r\n",
      "Swap:            0          0          0\r\n"
     ]
    }
   ],
   "source": [
    "!free -m"
   ]
  },
  {
   "cell_type": "code",
   "execution_count": 305,
   "metadata": {
    "collapsed": true
   },
   "outputs": [],
   "source": [
    "!sync"
   ]
  },
  {
   "cell_type": "code",
   "execution_count": 306,
   "metadata": {
    "collapsed": false
   },
   "outputs": [
    {
     "name": "stdout",
     "output_type": "stream",
     "text": [
      "host cache cleared\n"
     ]
    }
   ],
   "source": [
    "clear_host_cache()\n",
    "sleep(0.3)"
   ]
  },
  {
   "cell_type": "code",
   "execution_count": 307,
   "metadata": {
    "collapsed": false
   },
   "outputs": [
    {
     "name": "stdout",
     "output_type": "stream",
     "text": [
      "             total       used       free     shared    buffers     cached\r\n",
      "Mem:          7681       3057       4623        834          0        884\r\n",
      "-/+ buffers/cache:       2172       5509\r\n",
      "Swap:            0          0          0\r\n"
     ]
    }
   ],
   "source": [
    "!free -m"
   ]
  },
  {
   "cell_type": "code",
   "execution_count": 308,
   "metadata": {
    "collapsed": false
   },
   "outputs": [
    {
     "name": "stdout",
     "output_type": "stream",
     "text": [
      "225.000 MB in 1.16 seconds at 193.297 MB / sec\n",
      "Removing /app/tmp/tmpu707b6d8.nc\n"
     ]
    }
   ],
   "source": [
    "results_tmin_bc_400m_monthly = netcdf_read_test(testfile)"
   ]
  },
  {
   "cell_type": "markdown",
   "metadata": {},
   "source": [
    "###Run time-major test for bc_400m grid at daily timescale:"
   ]
  },
  {
   "cell_type": "code",
   "execution_count": 309,
   "metadata": {
    "collapsed": false
   },
   "outputs": [
    {
     "name": "stdout",
     "output_type": "stream",
     "text": [
      "Creating a time-major NetCDF file with 1680x3241 grid and 54787 time steps\n",
      "file size: 7181269100\n"
     ]
    }
   ],
   "source": [
    "grid = bc_400m\n",
    "timescale = timescales['daily']\n",
    "time_major = True\n",
    "testfile = write_netcdf_file(timescale, time_major)"
   ]
  },
  {
   "cell_type": "code",
   "execution_count": 310,
   "metadata": {
    "collapsed": false,
    "scrolled": true
   },
   "outputs": [
    {
     "name": "stdout",
     "output_type": "stream",
     "text": [
      "             total       used       free     shared    buffers     cached\r\n",
      "Mem:          7681       7554        127        796          7       5291\r\n",
      "-/+ buffers/cache:       2254       5427\r\n",
      "Swap:            0          0          0\r\n"
     ]
    }
   ],
   "source": [
    "!free -m"
   ]
  },
  {
   "cell_type": "code",
   "execution_count": 311,
   "metadata": {
    "collapsed": true
   },
   "outputs": [],
   "source": [
    "!sync"
   ]
  },
  {
   "cell_type": "code",
   "execution_count": 312,
   "metadata": {
    "collapsed": false
   },
   "outputs": [
    {
     "name": "stdout",
     "output_type": "stream",
     "text": [
      "host cache cleared\n"
     ]
    }
   ],
   "source": [
    "clear_host_cache()\n",
    "sleep(0.3)"
   ]
  },
  {
   "cell_type": "code",
   "execution_count": 313,
   "metadata": {
    "collapsed": false
   },
   "outputs": [
    {
     "name": "stdout",
     "output_type": "stream",
     "text": [
      "             total       used       free     shared    buffers     cached\r\n",
      "Mem:          7681       4853       2827        796          0       2656\r\n",
      "-/+ buffers/cache:       2196       5485\r\n",
      "Swap:            0          0          0\r\n"
     ]
    }
   ],
   "source": [
    "!free -m"
   ]
  },
  {
   "cell_type": "code",
   "execution_count": 314,
   "metadata": {
    "collapsed": false
   },
   "outputs": [
    {
     "name": "stdout",
     "output_type": "stream",
     "text": [
      "6848.375 MB in 36.6 seconds at 187.327 MB / sec\n",
      "Removing /app/tmp/tmpe_8ginsq.nc\n"
     ]
    }
   ],
   "source": [
    "results_tmaj_bc_400m_daily = netcdf_read_test(testfile)"
   ]
  },
  {
   "cell_type": "markdown",
   "metadata": {},
   "source": [
    "###Run time-minor test for bc_400m grid at daily timescale:"
   ]
  },
  {
   "cell_type": "code",
   "execution_count": 315,
   "metadata": {
    "collapsed": false
   },
   "outputs": [
    {
     "name": "stdout",
     "output_type": "stream",
     "text": [
      "Creating a time-minor NetCDF file with 1680x3241 grid and 54787 time steps\n",
      "file size: 7181269100\n"
     ]
    }
   ],
   "source": [
    "grid = bc_400m\n",
    "timescale = timescales['daily']\n",
    "time_major = False\n",
    "testfile = write_netcdf_file(timescale, time_major)"
   ]
  },
  {
   "cell_type": "code",
   "execution_count": 316,
   "metadata": {
    "collapsed": false
   },
   "outputs": [
    {
     "name": "stdout",
     "output_type": "stream",
     "text": [
      "             total       used       free     shared    buffers     cached\r\n",
      "Mem:          7681       7385        296        822          7       5137\r\n",
      "-/+ buffers/cache:       2240       5440\r\n",
      "Swap:            0          0          0\r\n"
     ]
    }
   ],
   "source": [
    "!free -m"
   ]
  },
  {
   "cell_type": "code",
   "execution_count": 317,
   "metadata": {
    "collapsed": true
   },
   "outputs": [],
   "source": [
    "!sync"
   ]
  },
  {
   "cell_type": "code",
   "execution_count": 318,
   "metadata": {
    "collapsed": false
   },
   "outputs": [
    {
     "name": "stdout",
     "output_type": "stream",
     "text": [
      "host cache cleared\n"
     ]
    }
   ],
   "source": [
    "clear_host_cache()\n",
    "sleep(0.3)"
   ]
  },
  {
   "cell_type": "code",
   "execution_count": 319,
   "metadata": {
    "collapsed": false
   },
   "outputs": [
    {
     "name": "stdout",
     "output_type": "stream",
     "text": [
      "             total       used       free     shared    buffers     cached\r\n",
      "Mem:          7681       4911       2770        823          0       2729\r\n",
      "-/+ buffers/cache:       2181       5500\r\n",
      "Swap:            0          0          0\r\n"
     ]
    }
   ],
   "source": [
    "!free -m"
   ]
  },
  {
   "cell_type": "code",
   "execution_count": 320,
   "metadata": {
    "collapsed": false
   },
   "outputs": [
    {
     "name": "stdout",
     "output_type": "stream",
     "text": [
      "6848.375 MB in 37.9 seconds at 180.901 MB / sec\n",
      "Removing /app/tmp/tmpysu4r7tb.nc\n"
     ]
    }
   ],
   "source": [
    "results_tmin_bc_400m_daily = netcdf_read_test(testfile)"
   ]
  },
  {
   "cell_type": "code",
   "execution_count": 333,
   "metadata": {
    "collapsed": false
   },
   "outputs": [
    {
     "data": {
      "text/plain": [
       "[(False, 54787, 180.90085417280315)]"
      ]
     },
     "execution_count": 333,
     "metadata": {},
     "output_type": "execute_result"
    }
   ],
   "source": [
    "results_tmin_bc_400m_daily"
   ]
  },
  {
   "cell_type": "markdown",
   "metadata": {},
   "source": [
    "## Summarize Results"
   ]
  },
  {
   "cell_type": "code",
   "execution_count": 352,
   "metadata": {
    "collapsed": false
   },
   "outputs": [],
   "source": [
    "monthly_grid_sizes = ['world_125k', 'canada_5k', 'bc_400m']\n",
    "daily_grid_sizes = ['world_250k', 'canada_5k', 'bc_400m']\n",
    "\n",
    "monthly_step_read_throughput_time_major = [results_tmaj_world_125k_monthly, results_tmaj_canada_5k_monthly, \\\n",
    "                            results_tmaj_bc_400m_monthly]\n",
    "monthly_step_read_throughput_time_minor = [results_tmin_world_125k_monthly, results_tmin_canada_5k_monthly, \\\n",
    "                            results_tmin_bc_400m_monthly]\n",
    "\n",
    "daily_step_read_throughput_time_major = [results_tmaj_world_250k_daily, results_tmaj_canada_5k_daily, \\\n",
    "                            results_tmaj_bc_400m_daily]\n",
    "\n",
    "daily_step_read_throughput_time_minor = [results_tmin_world_250k_daily, results_tmin_canada_5k_daily, \\\n",
    "                            results_tmin_bc_400m_daily]"
   ]
  },
  {
   "cell_type": "code",
   "execution_count": 353,
   "metadata": {
    "collapsed": false
   },
   "outputs": [
    {
     "data": {
      "image/png": "[encoded data removed]",
      "text/plain": [
       "<matplotlib.figure.Figure at 0x7fa98877e438>"
      ]
     },
     "metadata": {},
     "output_type": "display_data"
    },
    {
     "data": {
      "image/png": "[encoded data removed]",
      "text/plain": [
       "<matplotlib.figure.Figure at 0x7fa9887e4048>"
      ]
     },
     "metadata": {},
     "output_type": "display_data"
    }
   ],
   "source": [
    "import matplotlib.pyplot as plt\n",
    "%matplotlib inline\n",
    "monthly_tmaj, = plt.plot([point[0][2] for point in monthly_step_read_throughput_time_major], label='time-major')\n",
    "monthly_tmin, = plt.plot([point[0][2] for point in monthly_step_read_throughput_time_minor], label='time-minor')\n",
    "plt.xticks(range(len(monthly_grid_sizes)), monthly_grid_sizes)\n",
    "plt.title('Monthly (1800 time steps) Throughput Comparison [MB/s]')\n",
    "plt.legend(loc='upper center', shadow=True)\n",
    "plt.show()\n",
    "\n",
    "daily_tmaj, = plt.plot([point[0][2] for point in daily_step_read_throughput_time_major], label='time-major')\n",
    "daily_tmin, = plt.plot([point[0][2] for point in daily_step_read_throughput_time_minor], label='time-minor')\n",
    "plt.xticks(range(len(daily_grid_sizes)), daily_grid_sizes)\n",
    "plt.title('Daily (54787 time steps) Throughput Comparison [MB/s]')\n",
    "plt.legend(loc='upper center', shadow=True)\n",
    "plt.show()"
   ]
  },
  {
   "cell_type": "markdown",
   "metadata": {},
   "source": [
    "### There seems to be a slightly higher throughput for reading out of large time-major NetCDF data files vs. time-minor (on the order of ~7MB/sec)"
   ]
  },
  {
   "cell_type": "code",
   "execution_count": null,
   "metadata": {
    "collapsed": true
   },
   "outputs": [],
   "source": []
  }
 ],
 "metadata": {
  "kernelspec": {
   "display_name": "Python 3",
   "language": "python",
   "name": "python3"
  },
  "language_info": {
   "codemirror_mode": {
    "name": "ipython",
    "version": 3
   },
   "file_extension": ".py",
   "mimetype": "text/x-python",
   "name": "python",
   "nbconvert_exporter": "python",
   "pygments_lexer": "ipython3",
   "version": "3.4.0"
  }
 },
 "nbformat": 4,
 "nbformat_minor": 0
}
