{
 "cells": [
  {
   "cell_type": "code",
   "execution_count": 1,
   "metadata": {
    "collapsed": false
   },
   "outputs": [],
   "source": [
    "import sys\n",
    "import os\n",
    "from tempfile import NamedTemporaryFile\n",
    "from gc import collect\n",
    "from time import sleep\n",
    "sys.path.append('../util')\n",
    "from meters import ThroughputMeter, clear_host_cache\n",
    "from ncgen import make_nc\n",
    "from grids import *\n",
    "import netCDF4\n",
    "import numpy as np"
   ]
  },
  {
   "cell_type": "code",
   "execution_count": 2,
   "metadata": {
    "collapsed": false
   },
   "outputs": [],
   "source": [
    "def write_netcdf_file(timescale, time_major=True, grid=canada_5k):\n",
    "    print(\"Creating a time-{} NetCDF file with {}x{} grid and {} time steps\".format('major' if time_major else 'minor', grid['lon']['count'], grid['lat']['count'],len(timescale)))\n",
    "    with NamedTemporaryFile(suffix='.nc', delete=False, dir='/app/tmp') as f:\n",
    "        nc = make_nc(f.name, grid=grid, timescale=timescale, timemajor=time_major)\n",
    "        nc.close()\n",
    "    print(\"File size: {:.2f}Mb\".format(os.path.getsize(f.name)/1024/1024))\n",
    "    return f"
   ]
  },
  {
   "cell_type": "markdown",
   "metadata": {},
   "source": [
    "../tmp path in the Docker container points at rotating media storage."
   ]
  },
  {
   "cell_type": "code",
   "execution_count": 3,
   "metadata": {
    "collapsed": true
   },
   "outputs": [],
   "source": [
    "def netcdf_read_test(f, time_major):\n",
    "    # Open the file just created\n",
    "    nc = netCDF4.Dataset(f.name, 'r')\n",
    "    if time_major:\n",
    "        with ThroughputMeter() as t:\n",
    "            a = nc.variables['var_0'][0,:,:]\n",
    "\n",
    "    else:\n",
    "        with ThroughputMeter() as t:\n",
    "            a = nc.variables['var_0'][:,:,0]\n",
    "    res = (time_major, len(timescale), t.megabytes_per_second(a))\n",
    "    # python-netCDF4 seems to leak file descriptors\n",
    "    # We have to take a lot of steps to make sure that the files get closed and that\n",
    "    # the space gets reclaimed by the OS\n",
    "    nc.close\n",
    "    del nc\n",
    "    print(\"Removing {}\".format(f.name))\n",
    "    os.remove(f.name)\n",
    "    f.close()\n",
    "    collect()\n",
    "    return res"
   ]
  },
  {
   "cell_type": "markdown",
   "metadata": {},
   "source": [
    "### Test scenarios"
   ]
  },
  {
   "cell_type": "code",
   "execution_count": 4,
   "metadata": {
    "collapsed": true
   },
   "outputs": [],
   "source": [
    "time_major = [True, False]\n",
    "grids = [world_250k, world_125k, canada_5k]\n",
    "ts = [timescales['seasonal'], timescales['annual'], timescales['monthly']] # Daily takes hours and hours to run #, timescales['daily']]"
   ]
  },
  {
   "cell_type": "code",
   "execution_count": 5,
   "metadata": {
    "collapsed": false
   },
   "outputs": [
    {
     "name": "stdout",
     "output_type": "stream",
     "text": [
      "Creating a time-major NetCDF file with 128x64 grid and 17 time steps\n",
      "File size: 0.54Mb\n",
      "host cache cleared\n",
      "0.031 MB in 0.0077 seconds at 4.058 MB / sec\n",
      "Removing /app/tmp/tmpjsm6ax8p.nc\n",
      "Creating a time-major NetCDF file with 128x64 grid and 150 time steps\n",
      "File size: 4.70Mb\n",
      "host cache cleared\n",
      "0.031 MB in 0.000878 seconds at 35.608 MB / sec\n",
      "Removing /app/tmp/tmpdcvfxend.nc\n",
      "Creating a time-major NetCDF file with 128x64 grid and 1800 time steps\n",
      "File size: 56.26Mb\n",
      "host cache cleared\n",
      "0.031 MB in 0.0923 seconds at 0.339 MB / sec\n",
      "Removing /app/tmp/tmpi826megp.nc\n",
      "Creating a time-major NetCDF file with 256x128 grid and 17 time steps\n",
      "File size: 2.13Mb\n",
      "host cache cleared\n",
      "0.125 MB in 0.00467 seconds at 26.740 MB / sec\n",
      "Removing /app/tmp/tmp_uzzsbcm.nc\n",
      "Creating a time-major NetCDF file with 256x128 grid and 150 time steps\n",
      "File size: 18.76Mb\n",
      "host cache cleared\n",
      "0.125 MB in 0.000896 seconds at 139.438 MB / sec\n",
      "Removing /app/tmp/tmpmf7bcje1.nc\n",
      "Creating a time-major NetCDF file with 256x128 grid and 1800 time steps\n",
      "File size: 225.01Mb\n",
      "host cache cleared\n",
      "0.125 MB in 0.00178 seconds at 70.318 MB / sec\n",
      "Removing /app/tmp/tmp6v4q0_b4.nc\n",
      "Creating a time-major NetCDF file with 1068x510 grid and 17 time steps\n",
      "File size: 35.34Mb\n",
      "host cache cleared\n",
      "2.078 MB in 0.0012 seconds at 1733.614 MB / sec\n",
      "Removing /app/tmp/tmp9_l_kg34.nc\n",
      "Creating a time-major NetCDF file with 1068x510 grid and 150 time steps\n",
      "File size: 311.68Mb\n",
      "host cache cleared\n",
      "2.078 MB in 0.0536 seconds at 38.774 MB / sec\n",
      "Removing /app/tmp/tmpdaz5jpcc.nc\n",
      "Creating a time-major NetCDF file with 1068x510 grid and 1800 time steps\n",
      "File size: 3740.04Mb\n",
      "host cache cleared\n",
      "2.078 MB in 0.428 seconds at 4.851 MB / sec\n",
      "Removing /app/tmp/tmpvwpbzrom.nc\n",
      "Creating a time-minor NetCDF file with 128x64 grid and 17 time steps\n",
      "File size: 0.54Mb\n",
      "host cache cleared\n",
      "0.031 MB in 0.00113 seconds at 27.752 MB / sec\n",
      "Removing /app/tmp/tmp5hwlg4jb.nc\n",
      "Creating a time-minor NetCDF file with 128x64 grid and 150 time steps\n",
      "File size: 4.70Mb\n",
      "host cache cleared\n",
      "0.031 MB in 0.00201 seconds at 15.545 MB / sec\n",
      "Removing /app/tmp/tmpu8muja41.nc\n",
      "Creating a time-minor NetCDF file with 128x64 grid and 1800 time steps\n",
      "File size: 56.26Mb\n",
      "host cache cleared\n",
      "0.031 MB in 0.012 seconds at 2.594 MB / sec\n",
      "Removing /app/tmp/tmpa1jiwfrk.nc\n",
      "Creating a time-minor NetCDF file with 256x128 grid and 17 time steps\n",
      "File size: 2.13Mb\n",
      "host cache cleared\n",
      "0.125 MB in 0.00206 seconds at 60.611 MB / sec\n",
      "Removing /app/tmp/tmpqu4r8qrm.nc\n",
      "Creating a time-minor NetCDF file with 256x128 grid and 150 time steps\n",
      "File size: 18.76Mb\n",
      "host cache cleared\n",
      "0.125 MB in 0.0055 seconds at 22.717 MB / sec\n",
      "Removing /app/tmp/tmpjq6uq4ix.nc\n",
      "Creating a time-minor NetCDF file with 256x128 grid and 1800 time steps\n",
      "File size: 225.01Mb\n",
      "host cache cleared\n",
      "0.125 MB in 5.0 seconds at 0.025 MB / sec\n",
      "Removing /app/tmp/tmpv2n2rvpy.nc\n",
      "Creating a time-minor NetCDF file with 1068x510 grid and 17 time steps\n",
      "File size: 35.34Mb\n",
      "host cache cleared\n",
      "2.078 MB in 0.011 seconds at 188.932 MB / sec\n",
      "Removing /app/tmp/tmp8ra82g6l.nc\n",
      "Creating a time-minor NetCDF file with 1068x510 grid and 150 time steps\n",
      "File size: 311.68Mb\n",
      "host cache cleared\n",
      "2.078 MB in 6.33 seconds at 0.328 MB / sec\n",
      "Removing /app/tmp/tmp3cguvz8e.nc\n",
      "Creating a time-minor NetCDF file with 1068x510 grid and 1800 time steps\n",
      "File size: 3740.04Mb\n",
      "host cache cleared\n",
      "2.078 MB in 59.1 seconds at 0.035 MB / sec\n",
      "Removing /app/tmp/tmpo0eqdwru.nc\n"
     ]
    }
   ],
   "source": [
    "results = []\n",
    "\n",
    "for tm in time_major:\n",
    "    for grid in grids:\n",
    "        for timescale in ts:\n",
    "            testfile = write_netcdf_file(timescale, time_major=tm, grid=grid)\n",
    "            clear_host_cache()\n",
    "            results.append(netcdf_read_test(testfile, tm))"
   ]
  },
  {
   "cell_type": "markdown",
   "metadata": {},
   "source": [
    "## Summarize Results"
   ]
  },
  {
   "cell_type": "code",
   "execution_count": 6,
   "metadata": {
    "collapsed": false
   },
   "outputs": [
    {
     "data": {
      "text/plain": [
       "[(True, 17, 4.0583335913552343),\n",
       " (True, 150, 35.607715294756858),\n",
       " (True, 1800, 0.33873635461462126),\n",
       " (True, 17, 26.739837813025961),\n",
       " (True, 150, 139.43829787234043),\n",
       " (True, 1800, 70.317596566523605),\n",
       " (True, 17, 1733.6144817982893),\n",
       " (True, 150, 38.773814078892336),\n",
       " (True, 1800, 4.8505735610880132),\n",
       " (False, 17, 27.751852636036418),\n",
       " (False, 150, 15.544592030360532),\n",
       " (False, 1800, 2.5942522365608425),\n",
       " (False, 17, 60.611329479768784),\n",
       " (False, 150, 22.717102127475194),\n",
       " (False, 1800, 0.024986046000921115),\n",
       " (False, 17, 188.93229561861816),\n",
       " (False, 150, 0.32834688798594031),\n",
       " (False, 1800, 0.035178585407501448)]"
      ]
     },
     "execution_count": 6,
     "metadata": {},
     "output_type": "execute_result"
    }
   ],
   "source": [
    "results"
   ]
  },
  {
   "cell_type": "markdown",
   "metadata": {},
   "source": [
    "Reshape to dimensions timescale, grid, time_major"
   ]
  },
  {
   "cell_type": "code",
   "execution_count": 7,
   "metadata": {
    "collapsed": false
   },
   "outputs": [
    {
     "data": {
      "text/plain": [
       "array([[[  4.05833359e+00,   3.56077153e+01,   3.38736355e-01],\n",
       "        [  2.67398378e+01,   1.39438298e+02,   7.03175966e+01],\n",
       "        [  1.73361448e+03,   3.87738141e+01,   4.85057356e+00]],\n",
       "\n",
       "       [[  2.77518526e+01,   1.55445920e+01,   2.59425224e+00],\n",
       "        [  6.06113295e+01,   2.27171021e+01,   2.49860460e-02],\n",
       "        [  1.88932296e+02,   3.28346888e-01,   3.51785854e-02]]])"
      ]
     },
     "execution_count": 7,
     "metadata": {},
     "output_type": "execute_result"
    }
   ],
   "source": [
    "a = np.array([r[2] for r in results]).reshape(len(time_major),len(grids),len(ts))\n",
    "a"
   ]
  },
  {
   "cell_type": "code",
   "execution_count": 9,
   "metadata": {
    "collapsed": false
   },
   "outputs": [
    {
     "data": {
      "text/plain": [
       "[<matplotlib.text.Text at 0x7fc1c2a6e7f0>,\n",
       " <matplotlib.text.Text at 0x7fc1c2a765c0>,\n",
       " <matplotlib.text.Text at 0x7fc1c2a33668>]"
      ]
     },
     "execution_count": 9,
     "metadata": {},
     "output_type": "execute_result"
    },
    {
     "data": {
      "image/png": "[encoded data removed]",
      "text/plain": [
       "<matplotlib.figure.Figure at 0x7fc1c2b5be10>"
      ]
     },
     "metadata": {},
     "output_type": "display_data"
    }
   ],
   "source": [
    "import matplotlib.pyplot as plt\n",
    "%matplotlib inline\n",
    "\n",
    "f, (ax1, ax2, ax3) = plt.subplots(3, 1)\n",
    "f.set_size_inches(12, 12)\n",
    "\n",
    "ax1.plot(a[0,0,:], label=\"mjr\")\n",
    "ax1.plot(a[1,0,:], label=\"mnr\")\n",
    "ax1.legend()\n",
    "ax1.set_title(\"world_250k\")\n",
    "ax1.set_xticks(range(len(ts)))\n",
    "ax1.set_xticklabels([len(x) for x in ts])\n",
    "\n",
    "ax2.plot(a[0,1,:], label=\"mjr\")\n",
    "ax2.plot(a[1,1,:], label=\"mnr\")\n",
    "ax2.set_title(\"world_125k\")\n",
    "ax2.set_xticks(range(len(ts)))\n",
    "ax2.set_xticklabels([len(x) for x in ts])\n",
    "\n",
    "ax3.plot(a[0,2,:], label=\"mjr\")\n",
    "ax3.plot(a[1,2,:], label=\"mnr\")\n",
    "ax3.set_title(\"canada_5k\")\n",
    "ax3.set_xticks(range(len(ts)))\n",
    "ax3.set_xticklabels([len(x) for x in ts])"
   ]
  }
 ],
 "metadata": {
  "kernelspec": {
   "display_name": "Python 3",
   "language": "python",
   "name": "python3"
  },
  "language_info": {
   "codemirror_mode": {
    "name": "ipython",
    "version": 3
   },
   "file_extension": ".py",
   "mimetype": "text/x-python",
   "name": "python",
   "nbconvert_exporter": "python",
   "pygments_lexer": "ipython3",
   "version": "3.4.0"
  }
 },
 "nbformat": 4,
 "nbformat_minor": 0
}
