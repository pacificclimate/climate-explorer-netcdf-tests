{
 "cells": [
  {
   "cell_type": "code",
   "execution_count": 1,
   "metadata": {
    "collapsed": false
   },
   "outputs": [],
   "source": [
    "import sys\n",
    "import os\n",
    "from tempfile import NamedTemporaryFile\n",
    "from gc import collect\n",
    "from time import sleep\n",
    "sys.path.append('../util')\n",
    "from meters import ThroughputMeter, clear_host_cache\n",
    "from ncgen import make_nc\n",
    "from grids import *\n",
    "import netCDF4\n",
    "import numpy as np"
   ]
  },
  {
   "cell_type": "code",
   "execution_count": 2,
   "metadata": {
    "collapsed": false
   },
   "outputs": [],
   "source": [
    "def write_netcdf_file(timescale, time_major=True, grid=canada_5k):\n",
    "    print(\"Creating a time-{} NetCDF file with {}x{} grid and {} time steps\".format('major' if time_major else 'minor', grid['lon']['count'], grid['lat']['count'],len(timescale)))\n",
    "    with NamedTemporaryFile(suffix='.nc', delete=False, dir='/app/tmp') as f:\n",
    "        nc = make_nc(f.name, grid=grid, timescale=timescale, timemajor=time_major)\n",
    "        nc.close()\n",
    "    print(\"File size: {:.2f}Mb\".format(os.path.getsize(f.name)/1024/1024))\n",
    "    return f"
   ]
  },
  {
   "cell_type": "markdown",
   "metadata": {},
   "source": [
    "../tmp path in the Docker container points at rotating media storage."
   ]
  },
  {
   "cell_type": "code",
   "execution_count": 3,
   "metadata": {
    "collapsed": true
   },
   "outputs": [],
   "source": [
    "def netcdf_read_test(f, time_major):\n",
    "    # Open the file just created\n",
    "    nc = netCDF4.Dataset(f.name, 'r')\n",
    "    if time_major:\n",
    "        with ThroughputMeter() as t:\n",
    "            a = nc.variables['var_0'][0,:,:]\n",
    "\n",
    "    else:\n",
    "        with ThroughputMeter() as t:\n",
    "            a = nc.variables['var_0'][:,:,0]\n",
    "    res = (time_major, len(timescale), t.megabytes_per_second(a))\n",
    "    # python-netCDF4 seems to leak file descriptors\n",
    "    # We have to take a lot of steps to make sure that the files get closed and that\n",
    "    # the space gets reclaimed by the OS\n",
    "    nc.close\n",
    "    del nc\n",
    "    print(\"Removing {}\".format(f.name))\n",
    "    os.remove(f.name)\n",
    "    f.close()\n",
    "    collect()\n",
    "    return res"
   ]
  },
  {
   "cell_type": "markdown",
   "metadata": {},
   "source": [
    "### Test scenarios"
   ]
  },
  {
   "cell_type": "code",
   "execution_count": 4,
   "metadata": {
    "collapsed": true
   },
   "outputs": [],
   "source": [
    "time_major = [True, False]\n",
    "grids = [world_250k, world_125k, canada_5k, bc_400m]\n",
    "ts = [timescales['seasonal'], timescales['annual'], timescales['monthly']] # Daily takes hours and hours to run #, timescales['daily']]"
   ]
  },
  {
   "cell_type": "code",
   "execution_count": 5,
   "metadata": {
    "collapsed": false
   },
   "outputs": [
    {
     "name": "stdout",
     "output_type": "stream",
     "text": [
      "Creating a time-major NetCDF file with 128x64 grid and 17 time steps\n",
      "File size: 0.54Mb\n",
      "host cache cleared\n",
      "0.031 MB in 0.00142 seconds at 21.962 MB / sec\n",
      "Removing /app/tmp/tmpn3eh5f0l.nc\n",
      "Creating a time-major NetCDF file with 128x64 grid and 150 time steps\n",
      "File size: 4.70Mb\n",
      "host cache cleared\n",
      "0.031 MB in 0.00109 seconds at 28.725 MB / sec\n",
      "Removing /app/tmp/tmpy3a1l561.nc\n",
      "Creating a time-major NetCDF file with 128x64 grid and 1800 time steps\n",
      "File size: 56.26Mb\n",
      "host cache cleared\n",
      "0.031 MB in 0.00109 seconds at 28.662 MB / sec\n",
      "Removing /app/tmp/tmpvff3ddgf.nc\n",
      "Creating a time-major NetCDF file with 256x128 grid and 17 time steps\n",
      "File size: 2.13Mb\n",
      "host cache cleared\n",
      "0.125 MB in 0.00163 seconds at 76.628 MB / sec\n",
      "Removing /app/tmp/tmpgjvvswo7.nc\n",
      "Creating a time-major NetCDF file with 256x128 grid and 150 time steps\n",
      "File size: 18.76Mb\n",
      "host cache cleared\n",
      "0.125 MB in 0.0398 seconds at 3.140 MB / sec\n",
      "Removing /app/tmp/tmpy7a24zc5.nc\n",
      "Creating a time-major NetCDF file with 256x128 grid and 1800 time steps\n",
      "File size: 225.01Mb\n",
      "host cache cleared\n",
      "0.125 MB in 0.0016 seconds at 78.182 MB / sec\n",
      "Removing /app/tmp/tmp063w9dl7.nc\n",
      "Creating a time-major NetCDF file with 1068x510 grid and 17 time steps\n",
      "File size: 35.34Mb\n",
      "host cache cleared\n",
      "2.078 MB in 0.0558 seconds at 37.210 MB / sec\n",
      "Removing /app/tmp/tmpi29j1l10.nc\n",
      "Creating a time-major NetCDF file with 1068x510 grid and 150 time steps\n",
      "File size: 311.68Mb\n",
      "host cache cleared\n",
      "2.078 MB in 0.0564 seconds at 36.855 MB / sec\n",
      "Removing /app/tmp/tmpkkst86_u.nc\n",
      "Creating a time-major NetCDF file with 1068x510 grid and 1800 time steps\n",
      "File size: 3740.04Mb\n",
      "host cache cleared\n",
      "2.078 MB in 0.00955 seconds at 217.578 MB / sec\n",
      "Removing /app/tmp/tmpdgcam068.nc\n",
      "Creating a time-major NetCDF file with 1680x3241 grid and 17 time steps\n",
      "File size: 353.13Mb\n",
      "host cache cleared\n",
      "20.771 MB in 0.642 seconds at 32.346 MB / sec\n",
      "Removing /app/tmp/tmpa1uawl63.nc\n",
      "Creating a time-major NetCDF file with 1680x3241 grid and 150 time steps\n",
      "File size: 3115.61Mb\n",
      "host cache cleared\n",
      "20.771 MB in 0.144 seconds at 144.481 MB / sec\n",
      "Removing /app/tmp/tmpfni18zl9.nc\n",
      "Creating a time-major NetCDF file with 1680x3241 grid and 1800 time steps\n",
      "File size: 37387.06Mb\n",
      "host cache cleared\n",
      "20.771 MB in 0.122 seconds at 170.486 MB / sec\n",
      "Removing /app/tmp/tmp543q4z0m.nc\n",
      "Creating a time-minor NetCDF file with 128x64 grid and 17 time steps\n",
      "File size: 0.54Mb\n",
      "host cache cleared\n",
      "0.031 MB in 0.00305 seconds at 10.258 MB / sec\n",
      "Removing /app/tmp/tmpowwm9y0v.nc\n",
      "Creating a time-minor NetCDF file with 128x64 grid and 150 time steps\n",
      "File size: 4.70Mb\n",
      "host cache cleared\n",
      "0.031 MB in 0.0253 seconds at 1.233 MB / sec\n",
      "Removing /app/tmp/tmp7_41qyx1.nc\n",
      "Creating a time-minor NetCDF file with 128x64 grid and 1800 time steps\n",
      "File size: 56.26Mb\n",
      "host cache cleared\n",
      "0.031 MB in 0.307 seconds at 0.102 MB / sec\n",
      "Removing /app/tmp/tmpjj0kzmyw.nc\n",
      "Creating a time-minor NetCDF file with 256x128 grid and 17 time steps\n",
      "File size: 2.13Mb\n",
      "host cache cleared\n",
      "0.125 MB in 0.0964 seconds at 1.296 MB / sec\n",
      "Removing /app/tmp/tmpvi9q82ou.nc\n",
      "Creating a time-minor NetCDF file with 256x128 grid and 150 time steps\n",
      "File size: 18.76Mb\n",
      "host cache cleared\n",
      "0.125 MB in 0.113 seconds at 1.105 MB / sec\n",
      "Removing /app/tmp/tmpewfbncqu.nc\n",
      "Creating a time-minor NetCDF file with 256x128 grid and 1800 time steps\n",
      "File size: 225.01Mb\n",
      "host cache cleared\n",
      "0.125 MB in 0.22 seconds at 0.567 MB / sec\n",
      "Removing /app/tmp/tmpfx1oqthb.nc\n",
      "Creating a time-minor NetCDF file with 1068x510 grid and 17 time steps\n",
      "File size: 35.34Mb\n",
      "host cache cleared\n",
      "2.078 MB in 0.201 seconds at 10.333 MB / sec\n",
      "Removing /app/tmp/tmpmzb15xw5.nc\n",
      "Creating a time-minor NetCDF file with 1068x510 grid and 150 time steps\n",
      "File size: 311.68Mb\n",
      "host cache cleared\n",
      "2.078 MB in 0.602 seconds at 3.453 MB / sec\n",
      "Removing /app/tmp/tmprxnizv26.nc\n",
      "Creating a time-minor NetCDF file with 1068x510 grid and 1800 time steps\n",
      "File size: 3740.04Mb\n",
      "host cache cleared\n",
      "2.078 MB in 19.9 seconds at 0.105 MB / sec\n",
      "Removing /app/tmp/tmpifj6wsz6.nc\n",
      "Creating a time-minor NetCDF file with 1680x3241 grid and 17 time steps\n",
      "File size: 353.13Mb\n",
      "host cache cleared\n",
      "20.771 MB in 1.37 seconds at 15.184 MB / sec\n",
      "Removing /app/tmp/tmpm14px9pv.nc\n",
      "Creating a time-minor NetCDF file with 1680x3241 grid and 150 time steps\n",
      "File size: 3115.61Mb\n",
      "host cache cleared\n",
      "20.771 MB in 16.7 seconds at 1.243 MB / sec\n",
      "Removing /app/tmp/tmp0qqckcjx.nc\n",
      "Creating a time-minor NetCDF file with 1680x3241 grid and 1800 time steps\n",
      "File size: 37387.06Mb\n",
      "host cache cleared\n",
      "20.771 MB in 1.99e+02 seconds at 0.104 MB / sec\n",
      "Removing /app/tmp/tmpdgnoc5gv.nc\n"
     ]
    }
   ],
   "source": [
    "results = []\n",
    "\n",
    "for tm in time_major:\n",
    "    for grid in grids:\n",
    "        for timescale in ts:\n",
    "            testfile = write_netcdf_file(timescale, time_major=tm, grid=grid)\n",
    "            clear_host_cache()\n",
    "            results.append(netcdf_read_test(testfile, tm))"
   ]
  },
  {
   "cell_type": "markdown",
   "metadata": {},
   "source": [
    "## Summarize Results"
   ]
  },
  {
   "cell_type": "code",
   "execution_count": 6,
   "metadata": {
    "collapsed": false
   },
   "outputs": [
    {
     "data": {
      "text/plain": [
       "[(True, 17, 21.962466487935657),\n",
       " (True, 150, 28.724961648038573),\n",
       " (True, 1800, 28.662147386835777),\n",
       " (True, 17, 76.627886582870502),\n",
       " (True, 150, 3.1396559054788038),\n",
       " (True, 1800, 78.181926632866094),\n",
       " (True, 17, 37.210001366306869),\n",
       " (True, 150, 36.85499695513905),\n",
       " (True, 1800, 217.57826933639586),\n",
       " (True, 17, 32.346174067242316),\n",
       " (True, 150, 144.48089715459895),\n",
       " (True, 1800, 170.4861467168169),\n",
       " (False, 17, 10.258433122016124),\n",
       " (False, 150, 1.2334214760932369),\n",
       " (False, 1800, 0.10164023921189111),\n",
       " (False, 17, 1.2962377833653507),\n",
       " (False, 150, 1.1051718504621677),\n",
       " (False, 1800, 0.56720683995919219),\n",
       " (False, 17, 10.3329962070327),\n",
       " (False, 150, 3.4528857845726186),\n",
       " (False, 1800, 0.10451378026871384),\n",
       " (False, 17, 15.184090236477548),\n",
       " (False, 150, 1.2433207499992507),\n",
       " (False, 1800, 0.10429545285052902)]"
      ]
     },
     "execution_count": 6,
     "metadata": {},
     "output_type": "execute_result"
    }
   ],
   "source": [
    "results"
   ]
  },
  {
   "cell_type": "markdown",
   "metadata": {},
   "source": [
    "Reshape to dimensions timescale, grid, time_major"
   ]
  },
  {
   "cell_type": "code",
   "execution_count": 7,
   "metadata": {
    "collapsed": false
   },
   "outputs": [
    {
     "data": {
      "text/plain": [
       "array([[[  2.19624665e+01,   2.87249616e+01,   2.86621474e+01],\n",
       "        [  7.66278866e+01,   3.13965591e+00,   7.81819266e+01],\n",
       "        [  3.72100014e+01,   3.68549970e+01,   2.17578269e+02],\n",
       "        [  3.23461741e+01,   1.44480897e+02,   1.70486147e+02]],\n",
       "\n",
       "       [[  1.02584331e+01,   1.23342148e+00,   1.01640239e-01],\n",
       "        [  1.29623778e+00,   1.10517185e+00,   5.67206840e-01],\n",
       "        [  1.03329962e+01,   3.45288578e+00,   1.04513780e-01],\n",
       "        [  1.51840902e+01,   1.24332075e+00,   1.04295453e-01]]])"
      ]
     },
     "execution_count": 7,
     "metadata": {},
     "output_type": "execute_result"
    }
   ],
   "source": [
    "a = np.array([r[2] for r in results]).reshape(len(time_major),len(grids),len(ts))\n",
    "a"
   ]
  },
  {
   "cell_type": "code",
   "execution_count": 8,
   "metadata": {
    "collapsed": false
   },
   "outputs": [
    {
     "data": {
      "text/plain": [
       "[<matplotlib.text.Text at 0x7ff7965b30f0>,\n",
       " <matplotlib.text.Text at 0x7ff7965a1c18>,\n",
       " <matplotlib.text.Text at 0x7ff7965a7470>]"
      ]
     },
     "execution_count": 8,
     "metadata": {},
     "output_type": "execute_result"
    },
    {
     "data": {
      "image/png": "[encoded data removed]",
      "text/plain": [
       "<matplotlib.figure.Figure at 0x7ff7cc44c4a8>"
      ]
     },
     "metadata": {},
     "output_type": "display_data"
    }
   ],
   "source": [
    "import matplotlib.pyplot as plt\n",
    "%matplotlib inline\n",
    "\n",
    "f, (ax1, ax2, ax3, ax4) = plt.subplots(4, 1)\n",
    "f.set_size_inches(12, 12)\n",
    "\n",
    "ax1.plot(a[0,0,:], label=\"mjr\")\n",
    "ax1.plot(a[1,0,:], label=\"mnr\")\n",
    "ax1.legend()\n",
    "ax1.set_title(\"world_250k\")\n",
    "ax1.set_xticks(range(len(ts)))\n",
    "ax1.set_xticklabels([len(x) for x in ts])\n",
    "\n",
    "ax2.plot(a[0,1,:], label=\"mjr\")\n",
    "ax2.plot(a[1,1,:], label=\"mnr\")\n",
    "ax2.set_title(\"world_125k\")\n",
    "ax2.set_xticks(range(len(ts)))\n",
    "ax2.set_xticklabels([len(x) for x in ts])\n",
    "\n",
    "ax3.plot(a[0,2,:], label=\"mjr\")\n",
    "ax3.plot(a[1,2,:], label=\"mnr\")\n",
    "ax3.set_title(\"canada_5k\")\n",
    "ax3.set_xticks(range(len(ts)))\n",
    "ax3.set_xticklabels([len(x) for x in ts])\n",
    "\n",
    "ax4.plot(a[0,3,:], label=\"mjr\")\n",
    "ax4.plot(a[1,3,:], label=\"mnr\")\n",
    "ax4.set_title(\"bc_400m\")\n",
    "ax4.set_xticks(range(len(ts)))\n",
    "ax4.set_xticklabels([len(x) for x in ts])"
   ]
  },
  {
   "cell_type": "markdown",
   "metadata": {},
   "source": [
    "### Time-major readout of NetCDF files is consistently better, and gets somewhat faster as the spatial grid gets more dense.  Time-minor readout gets consistently worse with increasing number of time steps."
   ]
  },
  {
   "cell_type": "code",
   "execution_count": null,
   "metadata": {
    "collapsed": true
   },
   "outputs": [],
   "source": []
  }
 ],
 "metadata": {
  "kernelspec": {
   "display_name": "Python 3",
   "language": "python",
   "name": "python3"
  },
  "language_info": {
   "codemirror_mode": {
    "name": "ipython",
    "version": 3
   },
   "file_extension": ".py",
   "mimetype": "text/x-python",
   "name": "python",
   "nbconvert_exporter": "python",
   "pygments_lexer": "ipython3",
   "version": "3.4.0"
  }
 },
 "nbformat": 4,
 "nbformat_minor": 0
}
