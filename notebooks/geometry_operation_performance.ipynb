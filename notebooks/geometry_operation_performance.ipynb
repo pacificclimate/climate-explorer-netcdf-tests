{
 "cells": [
  {
   "cell_type": "code",
   "execution_count": null,
   "metadata": {
    "collapsed": false
   },
   "outputs": [],
   "source": [
    "import sys\n",
    "import os\n",
    "import itertools\n",
    "from tempfile import NamedTemporaryFile\n",
    "from gc import collect\n",
    "from time import time\n",
    "\n",
    "import netCDF4\n",
    "import numpy as np\n",
    "import matplotlib.pyplot as plt\n",
    "from osgeo import ogr\n",
    "\n",
    "sys.path.append('../util')\n",
    "from ncgen import make_nc\n",
    "from meters import ThroughputMeter\n",
    "from circle import wkt_circle\n",
    "from geo import cartesian\n",
    "from areas import metro_van_10, prov_bc_18, fp_270\n",
    "from grids import bc_400m, canada_5k, world_125k, world_250k\n",
    "\n",
    "from shapely import wkt\n",
    "from shapely.geometry import Point, Polygon, box\n",
    "\n",
    "\n",
    "os.environ['TMPDIR'] = os.getenv('HOME') + '/tmp/'"
   ]
  },
  {
   "cell_type": "code",
   "execution_count": null,
   "metadata": {
    "collapsed": true
   },
   "outputs": [],
   "source": [
    "def clipLatLonToPolyExtent(lat, lon, poly):\n",
    "    minx, miny, maxx, maxy = poly.bounds    \n",
    "    lat = lat[np.where( (lat > miny) & (lat < maxy) )]\n",
    "    lon = lon[np.where( (lon > minx) & (lon < maxx) )]\n",
    "    \n",
    "    return lat, lon\n",
    "\n",
    "def pointsInPoly(coords, poly):    \n",
    "    x = [1 if poly.contains(Point(p[0], p[1])) else 0 for p in coords]\n",
    "    coords = coords[np.where(x)]\n",
    "    return coords"
   ]
  },
  {
   "cell_type": "code",
   "execution_count": null,
   "metadata": {
    "collapsed": true
   },
   "outputs": [],
   "source": [
    "def polygonToMask(nc, poly):\n",
    "    nclats = nc.variables['lat'][:]\n",
    "    nclons = nc.variables['lon'][:]\n",
    "\n",
    "    mask = np.zeros(nc.variables['var_0'][0,:,:].shape)\n",
    "    \n",
    "    lat, lon = clipLatLonToPolyExtent(nclats, nclons, poly)\n",
    "    \n",
    "    # If no centroids in polygon, return zeros\n",
    "    if lat.size == 0 or lon.size == 0:\n",
    "        return mask\n",
    "\n",
    "    coords = cartesian([lon, lat])\n",
    "    pts = pointsInPoly(coords, poly)\n",
    "\n",
    "    # map the lon, lat values back to numpy indices\n",
    "    lons = np.sort(np.unique(pts[:,0]))\n",
    "    lats = np.sort(np.unique(pts[:,1]))\n",
    "    lon_indices = nclons.searchsorted(lons)\n",
    "    lat_indices = nclats.searchsorted(lats)\n",
    "\n",
    "    lat_map = dict(zip(lats, lat_indices))\n",
    "    lon_map = dict(zip(lons, lon_indices))\n",
    "    \n",
    "\n",
    "    for pt in pts:\n",
    "        mask[lon_map[pt[0]],lat_map[pt[1]]] = 1\n",
    "        \n",
    "    return mask"
   ]
  },
  {
   "cell_type": "code",
   "execution_count": null,
   "metadata": {
    "collapsed": false
   },
   "outputs": [],
   "source": [
    "from rtree import index\n",
    "\n",
    "class GriddedPolygon:\n",
    "    '''\n",
    "    This builds a queryable structure for high speed point in polygon operations.\n",
    "    Based on partitioning the polygon into an n*n grid\n",
    "    '''\n",
    "    def __init__(self, poly, size=12):\n",
    "        assert isinstance(poly, Polygon)\n",
    "        self.poly = poly\n",
    "        self.minx, self.miny, self.maxx, self.maxy = poly.bounds\n",
    "        self.size = size\n",
    "        self.interior_idx = index.Index()\n",
    "        self.exterior_idx = index.Index()\n",
    "        \n",
    "        self.grid = self._generate_grid()\n",
    "        self._index_grid()\n",
    "\n",
    "    def _generate_grid(self):\n",
    "        x_range = np.linspace(self.minx, self.maxx, self.size + 1)\n",
    "        y_range = np.linspace(self.miny, self.maxy, self.size + 1)\n",
    "        \n",
    "        grid = []\n",
    "        for xi in range(self.size):\n",
    "            for yi in range(self.size):\n",
    "                grid.append(box(x_range[xi], y_range[yi], x_range[xi + 1], y_range[yi] + 1))\n",
    "        return grid\n",
    "\n",
    "    def _index_grid(self):\n",
    "        '''\n",
    "        Both shapely and Rtree use logic that a point on the boundary of an object are not \n",
    "        contained within that object. This could lead to points on the boundary of known\n",
    "        inside/ouside grid cell's being needlessly tested.\n",
    "        '''\n",
    "        for i, g in enumerate(self.grid):\n",
    "            if poly.contains(g):\n",
    "                self.interior_idx.insert(i, g.bounds)\n",
    "            elif poly.disjoint(g):\n",
    "                self.exterior_idx.insert(i, g.bounds)\n",
    "\n",
    "    def contains(self, p):\n",
    "        '''\n",
    "        First test for exerior index, then interior, then edges\n",
    "        '''\n",
    "        assert isinstance(p, Point)\n",
    "        x, y = p.x, p.y\n",
    "\n",
    "        # Check known interior\n",
    "        try:\n",
    "            next(self.interior_idx.intersection((x, y, x, y)))\n",
    "            return True\n",
    "        except StopIteration:\n",
    "            pass\n",
    "\n",
    "        # Check known exterior\n",
    "        try:\n",
    "            next(self.exterior_idx.intersection((x, y, x, y)))\n",
    "            return False\n",
    "        except StopIteration:\n",
    "            pass\n",
    "\n",
    "        # Check unknown area\n",
    "        if Point(x, y).within(self.poly):\n",
    "            return True\n",
    "\n",
    "        return False\n",
    "\n",
    "def polygonToMaskGrid(nc, poly):\n",
    "    # Grid method: http://erich.realtimerendering.com/ptinpoly/\n",
    "    nclats = nc.variables['lat'][:]\n",
    "    nclons = nc.variables['lon'][:]\n",
    "\n",
    "    mask = np.zeros(nc.variables['var_0'][0,:,:].shape)\n",
    "\n",
    "    lat, lon = clipLatLonToPolyExtent(nclats, nclons, poly)\n",
    "    \n",
    "    # If no centroids in polygon, return zeros\n",
    "    if lat.size == 0 or lon.size == 0:\n",
    "        return mask\n",
    "\n",
    "    coords = cartesian([lon, lat])\n",
    "    grid_poly = GriddedPolygon(poly)\n",
    "    pts = pointsInPoly(coords, grid_poly)\n",
    "\n",
    "    # map the lon, lat values back to numpy indices\n",
    "    lons = np.sort(np.unique(pts[:,0]))\n",
    "    lats = np.sort(np.unique(pts[:,1]))\n",
    "    lon_indices = nclons.searchsorted(lons)\n",
    "    lat_indices = nclats.searchsorted(lats)\n",
    "\n",
    "    lat_map = dict(zip(lats, lat_indices))\n",
    "    lon_map = dict(zip(lons, lon_indices))\n",
    "\n",
    "    for pt in pts:\n",
    "        mask[lon_map[pt[0]],lat_map[pt[1]]] = 1\n",
    "\n",
    "    return mask\n"
   ]
  },
  {
   "cell_type": "code",
   "execution_count": null,
   "metadata": {
    "collapsed": false
   },
   "outputs": [],
   "source": [
    "poly_complexity = [8, 16, 32, 64, 128]\n",
    "grids = [world_250k, world_125k, canada_5k, bc_400m]\n"
   ]
  },
  {
   "cell_type": "code",
   "execution_count": null,
   "metadata": {
    "collapsed": false
   },
   "outputs": [],
   "source": [
    "from rtree import index\n",
    "\n",
    "idx = index.Index()\n",
    "idx.insert(1, (-118.8720703125, 49.12711546919731, -117.18017578125, 50.12711546919731))\n",
    "if list(idx.intersection((-118, 50, -118, 50))):\n",
    "    print('intersect')\n",
    "\n",
    "it = idx.intersection((-118, 50, -118, 50))\n",
    "try:\n",
    "    next(idx.intersection((-120, 50, -120, 50)))\n",
    "    print('intersect')\n",
    "except StopIteration:\n",
    "    print('nope')\n"
   ]
  },
  {
   "cell_type": "code",
   "execution_count": null,
   "metadata": {
    "collapsed": false
   },
   "outputs": [],
   "source": [
    "results = []\n",
    "grid_results = []\n",
    "\n",
    "for grid in grids:\n",
    "    with NamedTemporaryFile(suffix='.nc', delete=False, dir='/app/tmp') as f:\n",
    "        nc = make_nc(f.name, grid=grid)\n",
    "        \n",
    "        # for sides in poly_complexity: #Circle generator doesn't seem to be working... circle centers near equator\n",
    "        for area in metro_van_10, prov_bc_18, fp_270:\n",
    "#           poly = wkt.loads(wkt_circle(sides))\n",
    "            poly = wkt.loads(area)\n",
    "\n",
    "            lat, lon = clipLatLonToPolyExtent(nc.variables['lat'][:], nc.variables['lon'][:], poly)\n",
    "            if lat.size == 0 or lon.size == 0:\n",
    "                pts_tested = 0\n",
    "            else:\n",
    "                pts_tested = len(lon) * len(lat)\n",
    "           \n",
    "            t0 = time()\n",
    "            mask = polygonToMaskGrid(nc, poly)\n",
    "            t1 = time()\n",
    "            t = t1 - t0\n",
    "\n",
    "            r = (len(poly.exterior.coords), pts_tested, np.sum(mask), t)\n",
    "            print(r)\n",
    "            grid_results.append(r)\n",
    "\n",
    "            t0 = time()\n",
    "            mask = polygonToMask(nc, poly)\n",
    "            t1 = time()\n",
    "            t = t1 - t0\n",
    "            r = (len(poly.exterior.coords), pts_tested, np.sum(mask), t)\n",
    "            print(r)\n",
    "            results.append(r)"
   ]
  },
  {
   "cell_type": "code",
   "execution_count": null,
   "metadata": {
    "collapsed": false
   },
   "outputs": [],
   "source": [
    "gra = np.array([(r[1], r[3]) for r in grid_results])\n",
    "ra = np.array([(r[1], r[3]) for r in results])"
   ]
  },
  {
   "cell_type": "code",
   "execution_count": null,
   "metadata": {
    "collapsed": false
   },
   "outputs": [],
   "source": [
    "%matplotlib inline\n",
    "plt.plot(ra[:,0], ra[:,1], 'r.', label=\"ungridded\")\n",
    "plt.plot(gra[:,0], gra[:,1], 'r-', label=\"gridded\")\n",
    "\n",
    "plt.xlabel('Points tested')\n",
    "plt.ylabel('Time (s)')"
   ]
  }
 ],
 "metadata": {
  "kernelspec": {
   "display_name": "Python 3",
   "language": "python",
   "name": "python3"
  },
  "language_info": {
   "codemirror_mode": {
    "name": "ipython",
    "version": 3
   },
   "file_extension": ".py",
   "mimetype": "text/x-python",
   "name": "python",
   "nbconvert_exporter": "python",
   "pygments_lexer": "ipython3",
   "version": "3.4.0"
  }
 },
 "nbformat": 4,
 "nbformat_minor": 0
}
