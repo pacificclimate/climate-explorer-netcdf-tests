{
 "cells": [
  {
   "cell_type": "code",
   "execution_count": 1,
   "metadata": {
    "collapsed": false
   },
   "outputs": [],
   "source": [
    "import sys\n",
    "import os\n",
    "import itertools\n",
    "from tempfile import NamedTemporaryFile\n",
    "from gc import collect\n",
    "from time import time\n",
    "\n",
    "import netCDF4\n",
    "import numpy as np\n",
    "import matplotlib.pyplot as plt\n",
    "from osgeo import ogr\n",
    "\n",
    "sys.path.append('../util')\n",
    "from ncgen import make_nc\n",
    "from meters import ThroughputMeter\n",
    "from circle import wkt_circle\n",
    "from geo import cartesian\n",
    "from areas import metro_van_10, prov_bc_18, fp_270\n",
    "from grids import bc_400m, canada_5k, world_125k, world_250k\n",
    "\n",
    "from shapely import wkt\n",
    "from shapely.geometry import Point\n",
    "\n",
    "\n",
    "os.environ['TMPDIR'] = os.getenv('HOME') + '/tmp/'"
   ]
  },
  {
   "cell_type": "code",
   "execution_count": 2,
   "metadata": {
    "collapsed": true
   },
   "outputs": [],
   "source": [
    "def clipLatLonToPolyExtent(lat, lon, poly):\n",
    "    minx, miny, maxx, maxy = poly.bounds    \n",
    "    lat = lat[np.where( (lat > miny) & (lat < maxy) )]\n",
    "    lon = lon[np.where( (lon > minx) & (lon < maxx) )]\n",
    "    \n",
    "    return lat, lon\n",
    "\n",
    "def pointsInPoly(coords, poly):    \n",
    "    x = [1 if Point(p[0], p[1]).within(poly) else 0 for p in coords]\n",
    "    coords = coords[np.where(x)]\n",
    "    return coords"
   ]
  },
  {
   "cell_type": "code",
   "execution_count": 3,
   "metadata": {
    "collapsed": true
   },
   "outputs": [],
   "source": [
    "def polygonToMask(nc, poly):\n",
    "    nclats = nc.variables['lat'][:]\n",
    "    nclons = nc.variables['lon'][:]\n",
    "\n",
    "    mask = np.zeros(nc.variables['var_0'][0,:,:].shape)\n",
    "    \n",
    "    lat, lon = clipLatLonToPolyExtent(nclats, nclons, poly)\n",
    "#     print(lat, lon)\n",
    "    \n",
    "    # If no centroids in polygon, return zeros\n",
    "    if lat.size == 0 or lon.size == 0:\n",
    "        return mask\n",
    "\n",
    "#     print(lat, lon)\n",
    "    coords = cartesian([lon, lat])\n",
    "    pts = pointsInPoly(coords, poly)\n",
    "\n",
    "    # map the lon, lat values back to numpy indices\n",
    "    lons = np.sort(np.unique(pts[:,0]))\n",
    "    lats = np.sort(np.unique(pts[:,1]))\n",
    "    lon_indices = nclons.searchsorted(lons)\n",
    "    lat_indices = nclats.searchsorted(lats)\n",
    "\n",
    "    lat_map = dict(zip(lats, lat_indices))\n",
    "    lon_map = dict(zip(lons, lon_indices))\n",
    "    \n",
    "\n",
    "    for pt in pts:\n",
    "        mask[lon_map[pt[0]],lat_map[pt[1]]] = 1\n",
    "        \n",
    "    return mask"
   ]
  },
  {
   "cell_type": "code",
   "execution_count": 4,
   "metadata": {
    "collapsed": false
   },
   "outputs": [],
   "source": [
    "poly_complexity = [8, 16, 32, 64, 128]\n",
    "grids = [world_250k, world_125k, canada_5k, bc_400m]\n"
   ]
  },
  {
   "cell_type": "code",
   "execution_count": 5,
   "metadata": {
    "collapsed": false
   },
   "outputs": [
    {
     "name": "stdout",
     "output_type": "stream",
     "text": [
      "(10, 0.0, 0.0009949207305908203)\n",
      "(19, 0.0, 0.0008440017700195312)\n",
      "(271, 0.0, 0.0008258819580078125)\n",
      "(10, 0.0, 0.0008127689361572266)\n",
      "(19, 0.0, 0.0008101463317871094)\n",
      "(271, 0.0, 0.0008289813995361328)\n",
      "(10, 41.0, 0.005239963531494141)\n",
      "(19, 20448.0, 1.7783362865447998)\n",
      "(271, 1562.0, 0.5465691089630127)\n",
      "(10, 0.0, 0.43389320373535156)\n",
      "(19, 821098.0, 70.37642192840576)\n",
      "(271, 10807.0, 10.277490854263306)\n"
     ]
    }
   ],
   "source": [
    "results = []\n",
    "\n",
    "for grid in grids:\n",
    "    with NamedTemporaryFile(suffix='.nc', delete=False, dir='/app/tmp') as f:\n",
    "        nc = make_nc(f.name, grid=grid)\n",
    "        \n",
    "        # for sides in poly_complexity: #Circle generator doesn't seem to be working... circle centers near equator\n",
    "        for area in metro_van_10, prov_bc_18, fp_270:\n",
    "#           poly = wkt.loads(wkt_circle(sides))\n",
    "            poly = wkt.loads(area)\n",
    "\n",
    "            t0 = time()\n",
    "            mask = polygonToMask(nc, poly)\n",
    "            t1 = time()\n",
    "            t = t1 - t0\n",
    "\n",
    "            r = (len(poly.exterior.coords), np.sum(mask), t)\n",
    "            print(r)\n",
    "            results.append(r)"
   ]
  },
  {
   "cell_type": "code",
   "execution_count": 6,
   "metadata": {
    "collapsed": false
   },
   "outputs": [
    {
     "data": {
      "text/plain": [
       "[(10, 0.0, 0.0009949207305908203),\n",
       " (19, 0.0, 0.0008440017700195312),\n",
       " (271, 0.0, 0.0008258819580078125),\n",
       " (10, 0.0, 0.0008127689361572266),\n",
       " (19, 0.0, 0.0008101463317871094),\n",
       " (271, 0.0, 0.0008289813995361328),\n",
       " (10, 41.0, 0.005239963531494141),\n",
       " (19, 20448.0, 1.7783362865447998),\n",
       " (271, 1562.0, 0.5465691089630127),\n",
       " (10, 0.0, 0.43389320373535156),\n",
       " (19, 821098.0, 70.37642192840576),\n",
       " (271, 10807.0, 10.277490854263306)]"
      ]
     },
     "execution_count": 6,
     "metadata": {},
     "output_type": "execute_result"
    }
   ],
   "source": [
    "results"
   ]
  }
 ],
 "metadata": {
  "kernelspec": {
   "display_name": "Python 3",
   "language": "python",
   "name": "python3"
  },
  "language_info": {
   "codemirror_mode": {
    "name": "ipython",
    "version": 3
   },
   "file_extension": ".py",
   "mimetype": "text/x-python",
   "name": "python",
   "nbconvert_exporter": "python",
   "pygments_lexer": "ipython3",
   "version": "3.4.0"
  }
 },
 "nbformat": 4,
 "nbformat_minor": 0
}
