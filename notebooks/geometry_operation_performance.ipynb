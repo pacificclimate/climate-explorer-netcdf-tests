{
 "cells": [
  {
   "cell_type": "code",
   "execution_count": 1,
   "metadata": {
    "collapsed": false
   },
   "outputs": [],
   "source": [
    "import sys\n",
    "import os\n",
    "from tempfile import NamedTemporaryFile\n",
    "from gc import collect\n",
    "from time import time\n",
    "\n",
    "import netCDF4\n",
    "import numpy as np\n",
    "import numpy.ma as ma\n",
    "import matplotlib.pyplot as plt\n",
    "\n",
    "sys.path.append('../util')\n",
    "from ncgen import make_nc\n",
    "from circle import wkt_circle\n",
    "from geo import cartesian\n",
    "from areas import metro_van_10, prov_bc_18, fp_270\n",
    "from grids import bc_400m, canada_5k, world_125k, world_250k\n",
    "\n",
    "from shapely import wkt\n",
    "from shapely.geometry import Point, Polygon, box\n",
    "\n",
    "\n",
    "os.environ['TMPDIR'] = os.getenv('HOME') + '/tmp/'"
   ]
  },
  {
   "cell_type": "code",
   "execution_count": 2,
   "metadata": {
    "collapsed": true
   },
   "outputs": [],
   "source": [
    "def clipLatLonToPolyExtent(lat, lon, poly):\n",
    "    minx, miny, maxx, maxy = poly.bounds    \n",
    "    lat = lat[np.where( (lat > miny) & (lat < maxy) )]\n",
    "    lon = lon[np.where( (lon > minx) & (lon < maxx) )]\n",
    "    \n",
    "    return lat, lon\n",
    "\n",
    "def pointsInPoly(coords, poly):    \n",
    "    x = [1 if poly.contains(Point(p[0], p[1])) else 0 for p in coords]\n",
    "    coords = coords[np.where(x)]\n",
    "    return coords"
   ]
  },
  {
   "cell_type": "code",
   "execution_count": 3,
   "metadata": {
    "collapsed": true
   },
   "outputs": [],
   "source": [
    "def polygonToMask(nc, poly):\n",
    "    nclats = nc.variables['lat'][:]\n",
    "    nclons = nc.variables['lon'][:]\n",
    "\n",
    "    mask = np.zeros(nc.variables['var_0'][0,:,:].shape)\n",
    "    \n",
    "    lat, lon = clipLatLonToPolyExtent(nclats, nclons, poly)\n",
    "    \n",
    "    # If no centroids in polygon, return zeros\n",
    "    if lat.size == 0 or lon.size == 0:\n",
    "        return mask\n",
    "\n",
    "    coords = cartesian([lon, lat])\n",
    "    pts = pointsInPoly(coords, poly)\n",
    "\n",
    "    # map the lon, lat values back to numpy indices\n",
    "    lons = np.sort(np.unique(pts[:,0]))\n",
    "    lats = np.sort(np.unique(pts[:,1]))\n",
    "    lon_indices = nclons.searchsorted(lons)\n",
    "    lat_indices = nclats.searchsorted(lats)\n",
    "\n",
    "    lat_map = dict(zip(lats, lat_indices))\n",
    "    lon_map = dict(zip(lons, lon_indices))\n",
    "    \n",
    "\n",
    "    for pt in pts:\n",
    "        mask[lon_map[pt[0]],lat_map[pt[1]]] = 1\n",
    "        \n",
    "    return mask"
   ]
  },
  {
   "cell_type": "code",
   "execution_count": 4,
   "metadata": {
    "collapsed": false
   },
   "outputs": [],
   "source": [
    "from rtree import index\n",
    "\n",
    "class GriddedPolygon:\n",
    "    '''\n",
    "    This builds a queryable structure for high speed point in polygon operations.\n",
    "    Based on partitioning the polygon into an n*n grid\n",
    "    '''\n",
    "    def __init__(self, poly, size=24):\n",
    "        assert isinstance(poly, Polygon)\n",
    "        self.poly = poly\n",
    "        self.minx, self.miny, self.maxx, self.maxy = poly.bounds\n",
    "        self.size = size\n",
    "        self.interior_idx = index.Index()\n",
    "        self.exterior_idx = index.Index()\n",
    "        \n",
    "        self.grid = self._generate_grid()\n",
    "        self._index_grid()\n",
    "        \n",
    "        self.index_hits = 0\n",
    "        self.lookup_hits = 0\n",
    "\n",
    "    def _generate_grid(self):\n",
    "        x_range = np.linspace(self.minx, self.maxx, self.size + 1)\n",
    "        y_range = np.linspace(self.miny, self.maxy, self.size + 1)\n",
    "        \n",
    "        grid = []\n",
    "        for xi in range(self.size):\n",
    "            for yi in range(self.size):\n",
    "                grid.append(box(x_range[xi], y_range[yi], x_range[xi + 1], y_range[yi] + 1))\n",
    "        return grid\n",
    "\n",
    "    def _index_grid(self):\n",
    "        '''\n",
    "        Both shapely and Rtree use logic that a point on the boundary of an object are not \n",
    "        contained within that object. This could lead to points on the boundary of known\n",
    "        inside/ouside grid cell's being needlessly tested.\n",
    "        '''\n",
    "        for i, g in enumerate(self.grid):\n",
    "            if poly.contains(g):\n",
    "                self.interior_idx.insert(i, g.bounds)\n",
    "            elif poly.disjoint(g):\n",
    "                self.exterior_idx.insert(i, g.bounds)\n",
    "\n",
    "    def contains(self, p):\n",
    "        '''\n",
    "        First test for exerior index, then interior, then edges\n",
    "        '''\n",
    "        assert isinstance(p, Point)\n",
    "        x, y = p.x, p.y\n",
    "\n",
    "        # Check known interior\n",
    "        try:\n",
    "            next(self.interior_idx.intersection((x, y, x, y)))\n",
    "            self.index_hits += 1\n",
    "            return True\n",
    "        except StopIteration:\n",
    "            pass\n",
    "\n",
    "        # Check known exterior\n",
    "        try:\n",
    "            next(self.exterior_idx.intersection((x, y, x, y)))\n",
    "            self.index_hits += 1\n",
    "            return False\n",
    "        except StopIteration:\n",
    "            pass\n",
    "\n",
    "        # Check unknown area        \n",
    "        self.lookup_hits += 1\n",
    "        if Point(x, y).within(self.poly):\n",
    "            return True\n",
    "\n",
    "        return False\n",
    "\n",
    "def polygonToMaskGrid(nc, poly):\n",
    "    # Grid method: http://erich.realtimerendering.com/ptinpoly/\n",
    "    nclats = nc.variables['lat'][:]\n",
    "    nclons = nc.variables['lon'][:]\n",
    "\n",
    "    mask = np.zeros(nc.variables['var_0'][0,:,:].shape)\n",
    "\n",
    "    lat, lon = clipLatLonToPolyExtent(nclats, nclons, poly)\n",
    "    \n",
    "    # If no centroids in polygon, return zeros\n",
    "    if lat.size == 0 or lon.size == 0:\n",
    "        return mask\n",
    "\n",
    "    coords = cartesian([lon, lat])\n",
    "    grid_poly = GriddedPolygon(poly)\n",
    "    pts = pointsInPoly(coords, grid_poly)\n",
    "    print(\"Index hits: {}, Lookups: {}\".format(grid_poly.index_hits, grid_poly.lookup_hits))\n",
    "\n",
    "    # map the lon, lat values back to numpy indices\n",
    "    lons = np.sort(np.unique(pts[:,0]))\n",
    "    lats = np.sort(np.unique(pts[:,1]))\n",
    "    lon_indices = nclons.searchsorted(lons)\n",
    "    lat_indices = nclats.searchsorted(lats)\n",
    "\n",
    "    lat_map = dict(zip(lats, lat_indices))\n",
    "    lon_map = dict(zip(lons, lon_indices))\n",
    "\n",
    "    for pt in pts:\n",
    "        mask[lon_map[pt[0]],lat_map[pt[1]]] = 1\n",
    "\n",
    "    return mask\n"
   ]
  },
  {
   "cell_type": "code",
   "execution_count": 5,
   "metadata": {
    "collapsed": true
   },
   "outputs": [],
   "source": [
    "def pointInPoly(x, y, poly):\n",
    "    cell = Point(x, y)\n",
    "    if poly.contains(cell):\n",
    "        return True\n",
    "    else:\n",
    "        return False\n",
    "\n",
    "pointsInPolyV = np.vectorize(pointInPoly)\n",
    "\n",
    "def polygonToMaskSimple(nc, poly):\n",
    "    nclats = nc.variables['lat'][:]\n",
    "    nclons = nc.variables['lon'][:]\n",
    "\n",
    "    # Calculate the polygon extent                                                                                                                      \n",
    "    minx, miny, maxx, maxy = poly.bounds\n",
    "\n",
    "    lons = ma.masked_outside(nclons, minx, maxx, copy=False)\n",
    "    lats = ma.masked_outside(nclats, miny, maxy, copy=False)\n",
    "\n",
    "    lons, lats = np.meshgrid(lons, lats)\n",
    "    \n",
    "    full_mask = lons.mask | lats.mask\n",
    "    pnp_mask = ~pointsInPolyV(lons[~full_mask], lats[~full_mask], poly)\n",
    "    full_mask[~full_mask] = pnp_mask\n",
    "\n",
    "    return ~full_mask\n"
   ]
  },
  {
   "cell_type": "code",
   "execution_count": 6,
   "metadata": {
    "collapsed": false
   },
   "outputs": [],
   "source": [
    "def make_poly(size, center=(-125, 55)):\n",
    "    x, y = center[0], center[1]\n",
    "    return Polygon([(x-size, y), (x, y-size), (x+size, y), (x, y+size), (x-size, y)])"
   ]
  },
  {
   "cell_type": "code",
   "execution_count": 7,
   "metadata": {
    "collapsed": false
   },
   "outputs": [
    {
     "name": "stdout",
     "output_type": "stream",
     "text": [
      "Index hits: 314, Lookups: 262\n",
      "('gridded', 576, 288.0, 0.13569355010986328)\n",
      "('nogrid', 576, 288.0, 0.025290489196777344)\n",
      "('simple', 576, 288, 0.03352761268615723)\n",
      "Index hits: 791, Lookups: 365\n",
      "('gridded', 1156, 578.0, 0.21658778190612793)\n",
      "('nogrid', 1156, 578.0, 0.06032562255859375)\n",
      "('simple', 1156, 578, 0.06165051460266113)\n",
      "Index hits: 1824, Lookups: 480\n",
      "('gridded', 2304, 1152.0, 0.3558928966522217)\n",
      "('nogrid', 2304, 1152.0, 0.09774208068847656)\n",
      "('simple', 2304, 1152, 0.10326981544494629)\n",
      "Index hits: 3655, Lookups: 1037\n",
      "('gridded', 4692, 2346.0, 0.6326053142547607)\n",
      "('nogrid', 4692, 2346.0, 0.19218087196350098)\n",
      "('simple', 4692, 2346, 0.19233989715576172)\n",
      "Index hits: 8088, Lookups: 1321\n",
      "('gridded', 9409, 4716.0, 1.121492624282837)\n",
      "('nogrid', 9409, 4716.0, 0.38709354400634766)\n",
      "('simple', 9409, 4716, 0.36014771461486816)\n",
      "Index hits: 15287, Lookups: 3757\n",
      "('gridded', 19044, 9453.0, 2.65486741065979)\n",
      "('nogrid', 19044, 9453.0, 0.8140017986297607)\n",
      "('simple', 19044, 9453, 0.7496538162231445)\n"
     ]
    }
   ],
   "source": [
    "results = []\n",
    "grid_results = []\n",
    "ma_results = []\n",
    "\n",
    "areas = [x for x in map(make_poly, [1, 2/1.41, 4/1.41**2, 8/1.41**3, 16/1.41**4, 32/1.41**5])]\n",
    "\n",
    "with NamedTemporaryFile(suffix='.nc', dir='/app/tmp') as f:\n",
    "    nc = make_nc(f.name, grid=canada_5k)\n",
    "\n",
    "    for poly in areas:\n",
    "\n",
    "        lat, lon = clipLatLonToPolyExtent(nc.variables['lat'][:], nc.variables['lon'][:], poly)\n",
    "        if lat.size == 0 or lon.size == 0:\n",
    "            pts_tested = 0\n",
    "        else:\n",
    "            pts_tested = len(lon) * len(lat)\n",
    "\n",
    "        t0 = time()\n",
    "        mask = polygonToMaskGrid(nc, poly)\n",
    "        t1 = time()\n",
    "        t = t1 - t0\n",
    "        r = ('gridded', pts_tested, np.sum(mask), t)\n",
    "        print(r)\n",
    "        grid_results.append(r)\n",
    "\n",
    "        t0 = time()\n",
    "        mask = polygonToMask(nc, poly)\n",
    "        t1 = time()\n",
    "        t = t1 - t0\n",
    "        r = ('nogrid', pts_tested, np.sum(mask), t)\n",
    "        print(r)\n",
    "        results.append(r)\n",
    "        \n",
    "        t0 = time()\n",
    "        mask = polygonToMaskSimple(nc, poly)\n",
    "        t1 = time()\n",
    "        t = t1 - t0\n",
    "        r = ('simple', pts_tested, np.sum(mask), t)\n",
    "        print(r)\n",
    "        ma_results.append(r)"
   ]
  },
  {
   "cell_type": "code",
   "execution_count": 8,
   "metadata": {
    "collapsed": false
   },
   "outputs": [],
   "source": [
    "gra = np.array([(r[1], r[3]) for r in grid_results])\n",
    "ra = np.array([(r[1], r[3]) for r in results])\n",
    "sa = np.array([(r[1], r[3]) for r in ma_results])"
   ]
  },
  {
   "cell_type": "code",
   "execution_count": 9,
   "metadata": {
    "collapsed": false
   },
   "outputs": [
    {
     "data": {
      "text/plain": [
       "<matplotlib.text.Text at 0x7f470d4eda90>"
      ]
     },
     "execution_count": 9,
     "metadata": {},
     "output_type": "execute_result"
    },
    {
     "data": {
      "image/png": "[encoded data removed]",
      "text/plain": [
       "<matplotlib.figure.Figure at 0x7f472d2fe630>"
      ]
     },
     "metadata": {},
     "output_type": "display_data"
    }
   ],
   "source": [
    "%matplotlib inline\n",
    "plt.plot(ra[:,0], ra[:,1], 'ro', label=\"ungridded\")\n",
    "plt.plot(gra[:,0], gra[:,1], 'bo', label=\"gridded\")\n",
    "plt.plot(sa[:,0], sa[:,1], 'go', label=\"simple\")\n",
    "plt.legend()\n",
    "\n",
    "plt.xlabel('Points tested')\n",
    "plt.ylabel('Time (s)')"
   ]
  }
 ],
 "metadata": {
  "kernelspec": {
   "display_name": "Python 3",
   "language": "python",
   "name": "python3"
  },
  "language_info": {
   "codemirror_mode": {
    "name": "ipython",
    "version": 3
   },
   "file_extension": ".py",
   "mimetype": "text/x-python",
   "name": "python",
   "nbconvert_exporter": "python",
   "pygments_lexer": "ipython3",
   "version": "3.4.0"
  }
 },
 "nbformat": 4,
 "nbformat_minor": 0
}
